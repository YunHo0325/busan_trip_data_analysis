{
 "cells": [
  {
   "cell_type": "markdown",
   "id": "773aed99",
   "metadata": {},
   "source": [
    "# 부산 관광지별 유입도시별 카드매출 현황"
   ]
  },
  {
   "cell_type": "code",
   "execution_count": 3,
   "id": "abec5bc1",
   "metadata": {},
   "outputs": [],
   "source": [
    "%matplotlib inline\n",
    "\n",
    "import pandas as pd\n",
    "import numpy as np\n",
    "import matplotlib.pyplot as plt\n",
    "import seaborn as sns\n",
    "\n",
    "import warnings\n",
    "warnings.filterwarnings('ignore')\n",
    "\n",
    "plt.rcParams['axes.unicode_minus'] = False"
   ]
  },
  {
   "cell_type": "code",
   "execution_count": 4,
   "id": "ed866c74",
   "metadata": {},
   "outputs": [],
   "source": [
    "df = pd.read_csv(\"BC_BS_TRRSRT_INFLOW_CTPRVN_ACCTO_CARD_UTILIIZA_LIST_202112.csv\")"
   ]
  },
  {
   "cell_type": "code",
   "execution_count": 5,
   "id": "5d6aad79",
   "metadata": {},
   "outputs": [
    {
     "data": {
      "text/plain": [
       "<bound method NDFrame.head of                     PLC_NM CTPR_NM  CARD_USE_AMT  CARD_UTILIIZA_CAS_CO  \\\n",
       "0     BIFF광장&용두산공원&보수동책방골목      경남   638753571.0                 30244   \n",
       "1     BIFF광장&용두산공원&보수동책방골목      경기   385638884.0                 20400   \n",
       "2     BIFF광장&용두산공원&보수동책방골목      서울   326921210.0                 19243   \n",
       "3     BIFF광장&용두산공원&보수동책방골목      울산   158627000.0                  7658   \n",
       "4     BIFF광장&용두산공원&보수동책방골목      경북   119875199.0                  6126   \n",
       "...                    ...     ...           ...                   ...   \n",
       "2621               흰여울문화마을      전남     4141008.0                   395   \n",
       "2622               흰여울문화마을      전북     3082092.0                   245   \n",
       "2623               흰여울문화마을      제주      995787.0                    85   \n",
       "2624               흰여울문화마을      충남     8640169.0                   665   \n",
       "2625               흰여울문화마을      충북    11258312.0                   875   \n",
       "\n",
       "     BASE_QUARTER  \n",
       "0       2020년 1분기  \n",
       "1       2020년 1분기  \n",
       "2       2020년 1분기  \n",
       "3       2020년 1분기  \n",
       "4       2020년 1분기  \n",
       "...           ...  \n",
       "2621    2021년 3분기  \n",
       "2622    2021년 3분기  \n",
       "2623    2021년 3분기  \n",
       "2624    2021년 3분기  \n",
       "2625    2021년 3분기  \n",
       "\n",
       "[2626 rows x 5 columns]>"
      ]
     },
     "execution_count": 5,
     "metadata": {},
     "output_type": "execute_result"
    }
   ],
   "source": [
    "df.head"
   ]
  },
  {
   "cell_type": "code",
   "execution_count": 6,
   "id": "4c7f488c",
   "metadata": {},
   "outputs": [
    {
     "data": {
      "text/plain": [
       "Index(['PLC_NM', 'CTPR_NM', 'CARD_USE_AMT', 'CARD_UTILIIZA_CAS_CO',\n",
       "       'BASE_QUARTER'],\n",
       "      dtype='object')"
      ]
     },
     "execution_count": 6,
     "metadata": {},
     "output_type": "execute_result"
    }
   ],
   "source": [
    "df.columns"
   ]
  },
  {
   "cell_type": "markdown",
   "id": "3b97c5f9",
   "metadata": {},
   "source": [
    "# 컬럼 정의\n",
    "    PLC_NM                      장소명\n",
    "    CTPR_NM                     시도명        \n",
    "    CARD_USE_AMT          카드이용금액\n",
    "    CARD_UTILLIZA_CAS_CO  카드이용건수\n",
    "    BASE_QUARTER              기준분기"
   ]
  },
  {
   "cell_type": "markdown",
   "id": "da226cc8",
   "metadata": {},
   "source": [
    "## 분기 기준 카드 사용량 내림차순 정렬"
   ]
  },
  {
   "cell_type": "code",
   "execution_count": 7,
   "id": "1edc41f4",
   "metadata": {
    "scrolled": true
   },
   "outputs": [
    {
     "data": {
      "text/html": [
       "<div>\n",
       "<style scoped>\n",
       "    .dataframe tbody tr th:only-of-type {\n",
       "        vertical-align: middle;\n",
       "    }\n",
       "\n",
       "    .dataframe tbody tr th {\n",
       "        vertical-align: top;\n",
       "    }\n",
       "\n",
       "    .dataframe thead th {\n",
       "        text-align: right;\n",
       "    }\n",
       "</style>\n",
       "<table border=\"1\" class=\"dataframe\">\n",
       "  <thead>\n",
       "    <tr style=\"text-align: right;\">\n",
       "      <th></th>\n",
       "      <th>PLC_NM</th>\n",
       "      <th>CTPR_NM</th>\n",
       "      <th>CARD_USE_AMT</th>\n",
       "      <th>CARD_UTILIIZA_CAS_CO</th>\n",
       "      <th>BASE_QUARTER</th>\n",
       "    </tr>\n",
       "  </thead>\n",
       "  <tbody>\n",
       "    <tr>\n",
       "      <th>160</th>\n",
       "      <td>센텀시티(신세계센텀 등)</td>\n",
       "      <td>경기</td>\n",
       "      <td>4.631194e+10</td>\n",
       "      <td>82402</td>\n",
       "      <td>2020년 1분기</td>\n",
       "    </tr>\n",
       "    <tr>\n",
       "      <th>126</th>\n",
       "      <td>부산서면</td>\n",
       "      <td>경남</td>\n",
       "      <td>3.149759e+10</td>\n",
       "      <td>596832</td>\n",
       "      <td>2020년 1분기</td>\n",
       "    </tr>\n",
       "    <tr>\n",
       "      <th>158</th>\n",
       "      <td>센텀시티(신세계센텀 등)</td>\n",
       "      <td>경남</td>\n",
       "      <td>3.100836e+10</td>\n",
       "      <td>230873</td>\n",
       "      <td>2020년 1분기</td>\n",
       "    </tr>\n",
       "    <tr>\n",
       "      <th>161</th>\n",
       "      <td>센텀시티(신세계센텀 등)</td>\n",
       "      <td>울산</td>\n",
       "      <td>1.047322e+10</td>\n",
       "      <td>76032</td>\n",
       "      <td>2020년 1분기</td>\n",
       "    </tr>\n",
       "    <tr>\n",
       "      <th>159</th>\n",
       "      <td>센텀시티(신세계센텀 등)</td>\n",
       "      <td>서울</td>\n",
       "      <td>6.505824e+09</td>\n",
       "      <td>104832</td>\n",
       "      <td>2020년 1분기</td>\n",
       "    </tr>\n",
       "    <tr>\n",
       "      <th>...</th>\n",
       "      <td>...</td>\n",
       "      <td>...</td>\n",
       "      <td>...</td>\n",
       "      <td>...</td>\n",
       "      <td>...</td>\n",
       "    </tr>\n",
       "    <tr>\n",
       "      <th>2386</th>\n",
       "      <td>렛츠런파크</td>\n",
       "      <td>경기</td>\n",
       "      <td>2.515000e+04</td>\n",
       "      <td>5</td>\n",
       "      <td>2021년 3분기</td>\n",
       "    </tr>\n",
       "    <tr>\n",
       "      <th>2432</th>\n",
       "      <td>부산시민공원</td>\n",
       "      <td>세종</td>\n",
       "      <td>1.518000e+04</td>\n",
       "      <td>5</td>\n",
       "      <td>2021년 3분기</td>\n",
       "    </tr>\n",
       "    <tr>\n",
       "      <th>2436</th>\n",
       "      <td>부산시민공원</td>\n",
       "      <td>전북</td>\n",
       "      <td>1.518000e+04</td>\n",
       "      <td>5</td>\n",
       "      <td>2021년 3분기</td>\n",
       "    </tr>\n",
       "    <tr>\n",
       "      <th>2517</th>\n",
       "      <td>을숙도</td>\n",
       "      <td>세종</td>\n",
       "      <td>7.064000e+03</td>\n",
       "      <td>10</td>\n",
       "      <td>2021년 3분기</td>\n",
       "    </tr>\n",
       "    <tr>\n",
       "      <th>2512</th>\n",
       "      <td>을숙도</td>\n",
       "      <td>광주</td>\n",
       "      <td>3.022000e+03</td>\n",
       "      <td>15</td>\n",
       "      <td>2021년 3분기</td>\n",
       "    </tr>\n",
       "  </tbody>\n",
       "</table>\n",
       "<p>2626 rows × 5 columns</p>\n",
       "</div>"
      ],
      "text/plain": [
       "             PLC_NM CTPR_NM  CARD_USE_AMT  CARD_UTILIIZA_CAS_CO BASE_QUARTER\n",
       "160   센텀시티(신세계센텀 등)      경기  4.631194e+10                 82402    2020년 1분기\n",
       "126            부산서면      경남  3.149759e+10                596832    2020년 1분기\n",
       "158   센텀시티(신세계센텀 등)      경남  3.100836e+10                230873    2020년 1분기\n",
       "161   센텀시티(신세계센텀 등)      울산  1.047322e+10                 76032    2020년 1분기\n",
       "159   센텀시티(신세계센텀 등)      서울  6.505824e+09                104832    2020년 1분기\n",
       "...             ...     ...           ...                   ...          ...\n",
       "2386          렛츠런파크      경기  2.515000e+04                     5    2021년 3분기\n",
       "2432         부산시민공원      세종  1.518000e+04                     5    2021년 3분기\n",
       "2436         부산시민공원      전북  1.518000e+04                     5    2021년 3분기\n",
       "2517            을숙도      세종  7.064000e+03                    10    2021년 3분기\n",
       "2512            을숙도      광주  3.022000e+03                    15    2021년 3분기\n",
       "\n",
       "[2626 rows x 5 columns]"
      ]
     },
     "execution_count": 7,
     "metadata": {},
     "output_type": "execute_result"
    }
   ],
   "source": [
    "df_sort_value = df.sort_values(by=['BASE_QUARTER', 'CARD_USE_AMT'], ascending=[True, False])\n",
    "df_sort_value"
   ]
  },
  {
   "cell_type": "markdown",
   "id": "5b005b58",
   "metadata": {},
   "source": [
    "### 각 년도별 개별 파일로 분할하여 분석(2020년도는 1~4분기, 2021년도는 3분기 까지의 데이터만 존재)"
   ]
  },
  {
   "cell_type": "code",
   "execution_count": 8,
   "id": "5fa26a86",
   "metadata": {},
   "outputs": [
    {
     "data": {
      "text/html": [
       "<div>\n",
       "<style scoped>\n",
       "    .dataframe tbody tr th:only-of-type {\n",
       "        vertical-align: middle;\n",
       "    }\n",
       "\n",
       "    .dataframe tbody tr th {\n",
       "        vertical-align: top;\n",
       "    }\n",
       "\n",
       "    .dataframe thead th {\n",
       "        text-align: right;\n",
       "    }\n",
       "</style>\n",
       "<table border=\"1\" class=\"dataframe\">\n",
       "  <thead>\n",
       "    <tr style=\"text-align: right;\">\n",
       "      <th></th>\n",
       "      <th>PLC_NM</th>\n",
       "      <th>CTPR_NM</th>\n",
       "      <th>CARD_USE_AMT</th>\n",
       "      <th>CARD_UTILIIZA_CAS_CO</th>\n",
       "      <th>BASE_QUARTER</th>\n",
       "    </tr>\n",
       "  </thead>\n",
       "  <tbody>\n",
       "    <tr>\n",
       "      <th>160</th>\n",
       "      <td>센텀시티(신세계센텀 등)</td>\n",
       "      <td>경기</td>\n",
       "      <td>4.631194e+10</td>\n",
       "      <td>82402</td>\n",
       "      <td>2020년 1분기</td>\n",
       "    </tr>\n",
       "    <tr>\n",
       "      <th>126</th>\n",
       "      <td>부산서면</td>\n",
       "      <td>경남</td>\n",
       "      <td>3.149759e+10</td>\n",
       "      <td>596832</td>\n",
       "      <td>2020년 1분기</td>\n",
       "    </tr>\n",
       "    <tr>\n",
       "      <th>158</th>\n",
       "      <td>센텀시티(신세계센텀 등)</td>\n",
       "      <td>경남</td>\n",
       "      <td>3.100836e+10</td>\n",
       "      <td>230873</td>\n",
       "      <td>2020년 1분기</td>\n",
       "    </tr>\n",
       "    <tr>\n",
       "      <th>161</th>\n",
       "      <td>센텀시티(신세계센텀 등)</td>\n",
       "      <td>울산</td>\n",
       "      <td>1.047322e+10</td>\n",
       "      <td>76032</td>\n",
       "      <td>2020년 1분기</td>\n",
       "    </tr>\n",
       "    <tr>\n",
       "      <th>159</th>\n",
       "      <td>센텀시티(신세계센텀 등)</td>\n",
       "      <td>서울</td>\n",
       "      <td>6.505824e+09</td>\n",
       "      <td>104832</td>\n",
       "      <td>2020년 1분기</td>\n",
       "    </tr>\n",
       "    <tr>\n",
       "      <th>...</th>\n",
       "      <td>...</td>\n",
       "      <td>...</td>\n",
       "      <td>...</td>\n",
       "      <td>...</td>\n",
       "      <td>...</td>\n",
       "    </tr>\n",
       "    <tr>\n",
       "      <th>1050</th>\n",
       "      <td>국립해양박물관</td>\n",
       "      <td>대전</td>\n",
       "      <td>7.665000e+04</td>\n",
       "      <td>10</td>\n",
       "      <td>2020년 4분기</td>\n",
       "    </tr>\n",
       "    <tr>\n",
       "      <th>1049</th>\n",
       "      <td>국립해양박물관</td>\n",
       "      <td>강원</td>\n",
       "      <td>5.876500e+04</td>\n",
       "      <td>10</td>\n",
       "      <td>2020년 4분기</td>\n",
       "    </tr>\n",
       "    <tr>\n",
       "      <th>1218</th>\n",
       "      <td>을숙도</td>\n",
       "      <td>세종</td>\n",
       "      <td>5.876500e+04</td>\n",
       "      <td>20</td>\n",
       "      <td>2020년 4분기</td>\n",
       "    </tr>\n",
       "    <tr>\n",
       "      <th>1138</th>\n",
       "      <td>부산시민공원</td>\n",
       "      <td>세종</td>\n",
       "      <td>1.941800e+04</td>\n",
       "      <td>5</td>\n",
       "      <td>2020년 4분기</td>\n",
       "    </tr>\n",
       "    <tr>\n",
       "      <th>1090</th>\n",
       "      <td>렛츠런파크</td>\n",
       "      <td>대전</td>\n",
       "      <td>2.420000e+03</td>\n",
       "      <td>5</td>\n",
       "      <td>2020년 4분기</td>\n",
       "    </tr>\n",
       "  </tbody>\n",
       "</table>\n",
       "<p>1315 rows × 5 columns</p>\n",
       "</div>"
      ],
      "text/plain": [
       "             PLC_NM CTPR_NM  CARD_USE_AMT  CARD_UTILIIZA_CAS_CO BASE_QUARTER\n",
       "160   센텀시티(신세계센텀 등)      경기  4.631194e+10                 82402    2020년 1분기\n",
       "126            부산서면      경남  3.149759e+10                596832    2020년 1분기\n",
       "158   센텀시티(신세계센텀 등)      경남  3.100836e+10                230873    2020년 1분기\n",
       "161   센텀시티(신세계센텀 등)      울산  1.047322e+10                 76032    2020년 1분기\n",
       "159   센텀시티(신세계센텀 등)      서울  6.505824e+09                104832    2020년 1분기\n",
       "...             ...     ...           ...                   ...          ...\n",
       "1050        국립해양박물관      대전  7.665000e+04                    10    2020년 4분기\n",
       "1049        국립해양박물관      강원  5.876500e+04                    10    2020년 4분기\n",
       "1218            을숙도      세종  5.876500e+04                    20    2020년 4분기\n",
       "1138         부산시민공원      세종  1.941800e+04                     5    2020년 4분기\n",
       "1090          렛츠런파크      대전  2.420000e+03                     5    2020년 4분기\n",
       "\n",
       "[1315 rows x 5 columns]"
      ]
     },
     "execution_count": 8,
     "metadata": {},
     "output_type": "execute_result"
    }
   ],
   "source": [
    "df_2020 = df_sort_value[(df_sort_value.BASE_QUARTER=='2020년 1분기') | (df_sort_value.BASE_QUARTER=='2020년 2분기') | (df_sort_value.BASE_QUARTER=='2020년 3분기') | (df_sort_value.BASE_QUARTER=='2020년 4분기') ]\n",
    "df_2020"
   ]
  },
  {
   "cell_type": "code",
   "execution_count": 9,
   "id": "e7a3eb7d",
   "metadata": {},
   "outputs": [
    {
     "data": {
      "text/html": [
       "<div>\n",
       "<style scoped>\n",
       "    .dataframe tbody tr th:only-of-type {\n",
       "        vertical-align: middle;\n",
       "    }\n",
       "\n",
       "    .dataframe tbody tr th {\n",
       "        vertical-align: top;\n",
       "    }\n",
       "\n",
       "    .dataframe thead th {\n",
       "        text-align: right;\n",
       "    }\n",
       "</style>\n",
       "<table border=\"1\" class=\"dataframe\">\n",
       "  <thead>\n",
       "    <tr style=\"text-align: right;\">\n",
       "      <th></th>\n",
       "      <th>PLC_NM</th>\n",
       "      <th>CTPR_NM</th>\n",
       "      <th>CARD_USE_AMT</th>\n",
       "      <th>CARD_UTILIIZA_CAS_CO</th>\n",
       "      <th>BASE_QUARTER</th>\n",
       "    </tr>\n",
       "  </thead>\n",
       "  <tbody>\n",
       "    <tr>\n",
       "      <th>1437</th>\n",
       "      <td>센텀시티(신세계센텀 등)</td>\n",
       "      <td>경남</td>\n",
       "      <td>3.073319e+10</td>\n",
       "      <td>155598</td>\n",
       "      <td>2021년 1분기</td>\n",
       "    </tr>\n",
       "    <tr>\n",
       "      <th>1407</th>\n",
       "      <td>부산서면</td>\n",
       "      <td>경남</td>\n",
       "      <td>2.189746e+10</td>\n",
       "      <td>285711</td>\n",
       "      <td>2021년 1분기</td>\n",
       "    </tr>\n",
       "    <tr>\n",
       "      <th>1439</th>\n",
       "      <td>센텀시티(신세계센텀 등)</td>\n",
       "      <td>울산</td>\n",
       "      <td>1.063208e+10</td>\n",
       "      <td>52094</td>\n",
       "      <td>2021년 1분기</td>\n",
       "    </tr>\n",
       "    <tr>\n",
       "      <th>1438</th>\n",
       "      <td>센텀시티(신세계센텀 등)</td>\n",
       "      <td>서울</td>\n",
       "      <td>6.001751e+09</td>\n",
       "      <td>66009</td>\n",
       "      <td>2021년 1분기</td>\n",
       "    </tr>\n",
       "    <tr>\n",
       "      <th>1442</th>\n",
       "      <td>센텀시티(신세계센텀 등)</td>\n",
       "      <td>대구</td>\n",
       "      <td>5.282961e+09</td>\n",
       "      <td>23570</td>\n",
       "      <td>2021년 1분기</td>\n",
       "    </tr>\n",
       "    <tr>\n",
       "      <th>...</th>\n",
       "      <td>...</td>\n",
       "      <td>...</td>\n",
       "      <td>...</td>\n",
       "      <td>...</td>\n",
       "      <td>...</td>\n",
       "    </tr>\n",
       "    <tr>\n",
       "      <th>2386</th>\n",
       "      <td>렛츠런파크</td>\n",
       "      <td>경기</td>\n",
       "      <td>2.515000e+04</td>\n",
       "      <td>5</td>\n",
       "      <td>2021년 3분기</td>\n",
       "    </tr>\n",
       "    <tr>\n",
       "      <th>2432</th>\n",
       "      <td>부산시민공원</td>\n",
       "      <td>세종</td>\n",
       "      <td>1.518000e+04</td>\n",
       "      <td>5</td>\n",
       "      <td>2021년 3분기</td>\n",
       "    </tr>\n",
       "    <tr>\n",
       "      <th>2436</th>\n",
       "      <td>부산시민공원</td>\n",
       "      <td>전북</td>\n",
       "      <td>1.518000e+04</td>\n",
       "      <td>5</td>\n",
       "      <td>2021년 3분기</td>\n",
       "    </tr>\n",
       "    <tr>\n",
       "      <th>2517</th>\n",
       "      <td>을숙도</td>\n",
       "      <td>세종</td>\n",
       "      <td>7.064000e+03</td>\n",
       "      <td>10</td>\n",
       "      <td>2021년 3분기</td>\n",
       "    </tr>\n",
       "    <tr>\n",
       "      <th>2512</th>\n",
       "      <td>을숙도</td>\n",
       "      <td>광주</td>\n",
       "      <td>3.022000e+03</td>\n",
       "      <td>15</td>\n",
       "      <td>2021년 3분기</td>\n",
       "    </tr>\n",
       "  </tbody>\n",
       "</table>\n",
       "<p>1311 rows × 5 columns</p>\n",
       "</div>"
      ],
      "text/plain": [
       "             PLC_NM CTPR_NM  CARD_USE_AMT  CARD_UTILIIZA_CAS_CO BASE_QUARTER\n",
       "1437  센텀시티(신세계센텀 등)      경남  3.073319e+10                155598    2021년 1분기\n",
       "1407           부산서면      경남  2.189746e+10                285711    2021년 1분기\n",
       "1439  센텀시티(신세계센텀 등)      울산  1.063208e+10                 52094    2021년 1분기\n",
       "1438  센텀시티(신세계센텀 등)      서울  6.001751e+09                 66009    2021년 1분기\n",
       "1442  센텀시티(신세계센텀 등)      대구  5.282961e+09                 23570    2021년 1분기\n",
       "...             ...     ...           ...                   ...          ...\n",
       "2386          렛츠런파크      경기  2.515000e+04                     5    2021년 3분기\n",
       "2432         부산시민공원      세종  1.518000e+04                     5    2021년 3분기\n",
       "2436         부산시민공원      전북  1.518000e+04                     5    2021년 3분기\n",
       "2517            을숙도      세종  7.064000e+03                    10    2021년 3분기\n",
       "2512            을숙도      광주  3.022000e+03                    15    2021년 3분기\n",
       "\n",
       "[1311 rows x 5 columns]"
      ]
     },
     "execution_count": 9,
     "metadata": {},
     "output_type": "execute_result"
    }
   ],
   "source": [
    "df_2021 = df_sort_value[(df_sort_value.BASE_QUARTER=='2021년 1분기') | (df_sort_value.BASE_QUARTER=='2021년 2분기') | (df_sort_value.BASE_QUARTER=='2021년 3분기') | (df_sort_value.BASE_QUARTER=='2021년 4분기') ]\n",
    "df_2021"
   ]
  },
  {
   "cell_type": "code",
   "execution_count": 10,
   "id": "347e3450",
   "metadata": {},
   "outputs": [],
   "source": [
    "df_2020.to_csv('./2020년_카드 이용금액 기준 내림차순 정렬.csv', index=False, encoding='euc-kr')"
   ]
  },
  {
   "cell_type": "code",
   "execution_count": 11,
   "id": "1b44ced7",
   "metadata": {},
   "outputs": [],
   "source": [
    "df_2021.to_csv('./2021년_카드 이용금액 기준 내림차순 정렬.csv', index=False, encoding='euc-kr')"
   ]
  },
  {
   "cell_type": "code",
   "execution_count": 12,
   "id": "15f1e226",
   "metadata": {},
   "outputs": [
    {
     "data": {
      "text/plain": [
       "경남    85\n",
       "서울    85\n",
       "경기    84\n",
       "대구    84\n",
       "울산    83\n",
       "경북    83\n",
       "대전    83\n",
       "인천    82\n",
       "충남    82\n",
       "전남    81\n",
       "광주    81\n",
       "전북    81\n",
       "충북    81\n",
       "강원    81\n",
       "제주    80\n",
       "세종    79\n",
       "Name: CTPR_NM, dtype: int64"
      ]
     },
     "execution_count": 12,
     "metadata": {},
     "output_type": "execute_result"
    }
   ],
   "source": [
    "df_2020['CTPR_NM'].value_counts()"
   ]
  },
  {
   "cell_type": "code",
   "execution_count": 13,
   "id": "63707e21",
   "metadata": {},
   "outputs": [
    {
     "data": {
      "text/plain": [
       "CTPR_NM\n",
       "경남    3.140582e+11\n",
       "경기    1.177356e+11\n",
       "서울    9.612240e+10\n",
       "Name: CARD_USE_AMT, dtype: float64"
      ]
     },
     "execution_count": 13,
     "metadata": {},
     "output_type": "execute_result"
    }
   ],
   "source": [
    "df_2020.groupby(\"CTPR_NM\")['CARD_USE_AMT'].sum().sort_values(ascending=False).head(3)"
   ]
  },
  {
   "cell_type": "code",
   "execution_count": 14,
   "id": "b42c84dc",
   "metadata": {},
   "outputs": [
    {
     "name": "stdout",
     "output_type": "stream",
     "text": [
      "314058206893.0 991578214618.0\n",
      "3.157307126050783\n"
     ]
    }
   ],
   "source": [
    "card_max_2020 = df_2020.groupby(\"CTPR_NM\")['CARD_USE_AMT'].sum().max()\n",
    "card_max_2021 = df_2021.groupby(\"CTPR_NM\")['CARD_USE_AMT'].sum().max()\n",
    "\n",
    "print(card_max_2020, card_max_2021)\n",
    "print(card_max_2021/card_max_2020)"
   ]
  },
  {
   "cell_type": "markdown",
   "id": "82d8408d",
   "metadata": {},
   "source": [
    "### 2020년과 2021년의 단순 카드 사용 내역량을 비교 했을때, 약 3배정도 증가했음을 알 수 있음"
   ]
  },
  {
   "cell_type": "code",
   "execution_count": 15,
   "id": "540fdf63",
   "metadata": {},
   "outputs": [
    {
     "data": {
      "image/png": "[encoded data removed]",
      "text/plain": [
       "<Figure size 360x360 with 1 Axes>"
      ]
     },
     "metadata": {
      "needs_background": "light"
     },
     "output_type": "display_data"
    }
   ],
   "source": [
    "import matplotlib\n",
    "matplotlib.rcParams['font.family'] ='Malgun Gothic'\n",
    "matplotlib.rcParams['axes.unicode_minus'] =False\n",
    "\n",
    "sns.displot(df_2020['CTPR_NM'], color='blue')\n",
    "plt.show()"
   ]
  },
  {
   "cell_type": "markdown",
   "id": "a25b5b84",
   "metadata": {},
   "source": [
    "### 카드 사용내역 기준 방문자의 출신 지역 확인 결과, 지역마다 비슷한 수의 사람이 방문한 것을 확인"
   ]
  },
  {
   "cell_type": "code",
   "execution_count": 16,
   "id": "5adf3d64",
   "metadata": {},
   "outputs": [
    {
     "data": {
      "text/plain": [
       "경남    21\n",
       "서울    21\n",
       "울산    20\n",
       "경북    20\n",
       "대구    20\n",
       "경기    20\n",
       "전남    20\n",
       "전북    20\n",
       "충남    20\n",
       "인천    20\n",
       "제주    20\n",
       "충북    20\n",
       "대전    20\n",
       "광주    19\n",
       "강원    19\n",
       "세종    19\n",
       "Name: CTPR_NM, dtype: int64"
      ]
     },
     "execution_count": 16,
     "metadata": {},
     "output_type": "execute_result"
    }
   ],
   "source": [
    "df_202002 = df_sort_value[(df_sort_value.BASE_QUARTER=='2020년 2분기')]\n",
    "df_202002['CTPR_NM'].value_counts()"
   ]
  },
  {
   "cell_type": "code",
   "execution_count": 17,
   "id": "8c4869af",
   "metadata": {},
   "outputs": [
    {
     "data": {
      "text/plain": [
       "경남    21\n",
       "서울    21\n",
       "경기    21\n",
       "대구    21\n",
       "울산    20\n",
       "경북    20\n",
       "광주    20\n",
       "전남    20\n",
       "대전    20\n",
       "인천    20\n",
       "제주    20\n",
       "충남    20\n",
       "강원    20\n",
       "세종    20\n",
       "전북    19\n",
       "충북    19\n",
       "Name: CTPR_NM, dtype: int64"
      ]
     },
     "execution_count": 17,
     "metadata": {},
     "output_type": "execute_result"
    }
   ],
   "source": [
    "df_202003 = df_sort_value[(df_sort_value.BASE_QUARTER=='2020년 3분기')]\n",
    "df_202003['CTPR_NM'].value_counts()"
   ]
  },
  {
   "cell_type": "code",
   "execution_count": 18,
   "id": "fd0a35bb",
   "metadata": {},
   "outputs": [
    {
     "data": {
      "text/plain": [
       "경남    22\n",
       "울산    22\n",
       "서울    22\n",
       "경북    22\n",
       "경기    22\n",
       "대구    22\n",
       "대전    22\n",
       "광주    21\n",
       "인천    21\n",
       "전북    21\n",
       "충북    21\n",
       "강원    21\n",
       "충남    21\n",
       "전남    20\n",
       "제주    20\n",
       "세종    20\n",
       "Name: CTPR_NM, dtype: int64"
      ]
     },
     "execution_count": 18,
     "metadata": {},
     "output_type": "execute_result"
    }
   ],
   "source": [
    "df_202004 = df_sort_value[(df_sort_value.BASE_QUARTER=='2020년 4분기')]\n",
    "df_202004['CTPR_NM'].value_counts()"
   ]
  },
  {
   "cell_type": "code",
   "execution_count": 20,
   "id": "8c4923be",
   "metadata": {},
   "outputs": [
    {
     "data": {
      "text/plain": [
       "CTPR_NM\n",
       "경남    7.914719e+10\n",
       "울산    2.161973e+10\n",
       "서울    2.105338e+10\n",
       "Name: CARD_USE_AMT, dtype: float64"
      ]
     },
     "execution_count": 20,
     "metadata": {},
     "output_type": "execute_result"
    }
   ],
   "source": [
    "df_202002.groupby(\"CTPR_NM\")['CARD_USE_AMT'].sum().sort_values(ascending=False).head(3)"
   ]
  },
  {
   "cell_type": "code",
   "execution_count": 21,
   "id": "ffe81437",
   "metadata": {},
   "outputs": [
    {
     "data": {
      "text/plain": [
       "CTPR_NM\n",
       "경남    8.243352e+10\n",
       "서울    3.091595e+10\n",
       "경기    2.541541e+10\n",
       "Name: CARD_USE_AMT, dtype: float64"
      ]
     },
     "execution_count": 21,
     "metadata": {},
     "output_type": "execute_result"
    }
   ],
   "source": [
    "df_202003.groupby(\"CTPR_NM\")['CARD_USE_AMT'].sum().sort_values(ascending=False).head(3)"
   ]
  },
  {
   "cell_type": "code",
   "execution_count": 23,
   "id": "fae5d217",
   "metadata": {},
   "outputs": [
    {
     "data": {
      "text/plain": [
       "CTPR_NM\n",
       "경남    8.218819e+10\n",
       "서울    2.483395e+10\n",
       "울산    2.193758e+10\n",
       "Name: CARD_USE_AMT, dtype: float64"
      ]
     },
     "execution_count": 23,
     "metadata": {},
     "output_type": "execute_result"
    }
   ],
   "source": [
    "df_202004.groupby(\"CTPR_NM\")['CARD_USE_AMT'].sum().sort_values(ascending=False).head(3)"
   ]
  },
  {
   "cell_type": "code",
   "execution_count": 85,
   "id": "0b73b258",
   "metadata": {},
   "outputs": [],
   "source": [
    "# 방문 장소 카운트"
   ]
  },
  {
   "cell_type": "code",
   "execution_count": 24,
   "id": "a8cc5a59",
   "metadata": {},
   "outputs": [
    {
     "data": {
      "text/plain": [
       "광안리해수욕장                   80\n",
       "센텀시티(신세계센텀 등)             64\n",
       "부산서면                      64\n",
       "부산시민공원                    64\n",
       "태종대                       64\n",
       "일광해수욕장                    64\n",
       "흰여울문화마을                   64\n",
       "감천문화마을                    64\n",
       "송정해수욕장                    64\n",
       "다대포 해수욕장(꿈의 낙조분수, 몰운대)    64\n",
       "오륙도&이기대 갈맷길               64\n",
       "송도해수욕장                    64\n",
       "동백섬&누리마루APEC하우스           64\n",
       "마린시티 카페거리                 64\n",
       "BIFF광장&용두산공원&보수동책방골목      64\n",
       "전포카페거리                    64\n",
       "해운대해수욕장                   64\n",
       "자갈치·국제시장·부평깡통야시장          64\n",
       "을숙도                       63\n",
       "국립해양박물관                   56\n",
       "렛츠런파크                     28\n",
       "Name: PLC_NM, dtype: int64"
      ]
     },
     "execution_count": 24,
     "metadata": {},
     "output_type": "execute_result"
    }
   ],
   "source": [
    "df_2020['PLC_NM'].value_counts()"
   ]
  },
  {
   "cell_type": "code",
   "execution_count": 25,
   "id": "e886aeea",
   "metadata": {},
   "outputs": [
    {
     "data": {
      "text/plain": [
       "PLC_NM\n",
       "센텀시티(신세계센텀 등)    4.004866e+11\n",
       "부산서면             2.426736e+11\n",
       "광안리해수욕장          3.881081e+10\n",
       "Name: CARD_USE_AMT, dtype: float64"
      ]
     },
     "execution_count": 25,
     "metadata": {},
     "output_type": "execute_result"
    }
   ],
   "source": [
    "df_2020.groupby(\"PLC_NM\")['CARD_USE_AMT'].sum().sort_values(ascending=False).head(3)"
   ]
  },
  {
   "cell_type": "code",
   "execution_count": 26,
   "id": "20b74829",
   "metadata": {},
   "outputs": [
    {
     "data": {
      "text/plain": [
       "PLC_NM\n",
       "센텀시티(신세계센텀 등)       8.955516e+10\n",
       "부산서면                5.796255e+10\n",
       "자갈치·국제시장·부평깡통야시장    8.790329e+09\n",
       "Name: CARD_USE_AMT, dtype: float64"
      ]
     },
     "execution_count": 26,
     "metadata": {},
     "output_type": "execute_result"
    }
   ],
   "source": [
    "df_202002.groupby(\"PLC_NM\")['CARD_USE_AMT'].sum().sort_values(ascending=False).head(3)"
   ]
  },
  {
   "cell_type": "code",
   "execution_count": 27,
   "id": "18e25e0f",
   "metadata": {},
   "outputs": [
    {
     "data": {
      "text/plain": [
       "PLC_NM\n",
       "센텀시티(신세계센텀 등)    9.828940e+10\n",
       "부산서면             6.610712e+10\n",
       "해운대해수욕장          1.398231e+10\n",
       "Name: CARD_USE_AMT, dtype: float64"
      ]
     },
     "execution_count": 27,
     "metadata": {},
     "output_type": "execute_result"
    }
   ],
   "source": [
    "df_202003.groupby(\"PLC_NM\")['CARD_USE_AMT'].sum().sort_values(ascending=False).head(3)"
   ]
  },
  {
   "cell_type": "code",
   "execution_count": 28,
   "id": "27f39f26",
   "metadata": {},
   "outputs": [
    {
     "data": {
      "text/plain": [
       "PLC_NM\n",
       "센텀시티(신세계센텀 등)    9.959738e+10\n",
       "부산서면             6.005765e+10\n",
       "광안리해수욕장          1.198918e+10\n",
       "Name: CARD_USE_AMT, dtype: float64"
      ]
     },
     "execution_count": 28,
     "metadata": {},
     "output_type": "execute_result"
    }
   ],
   "source": [
    "df_202004.groupby(\"PLC_NM\")['CARD_USE_AMT'].sum().sort_values(ascending=False).head(3)"
   ]
  },
  {
   "cell_type": "code",
   "execution_count": null,
   "id": "2df97ab2",
   "metadata": {},
   "outputs": [],
   "source": []
  },
  {
   "cell_type": "markdown",
   "id": "5b72e707",
   "metadata": {},
   "source": [
    "# 년도 별(2020, 2021) 집계"
   ]
  },
  {
   "cell_type": "code",
   "execution_count": 29,
   "id": "c2b3b8e3",
   "metadata": {},
   "outputs": [
    {
     "data": {
      "text/plain": [
       "PLC_NM\n",
       "센텀시티(신세계센텀 등)             4.004866e+11\n",
       "부산서면                      2.426736e+11\n",
       "광안리해수욕장                   3.881081e+10\n",
       "해운대해수욕장                   3.800225e+10\n",
       "자갈치·국제시장·부평깡통야시장          3.575614e+10\n",
       "전포카페거리                    1.061137e+10\n",
       "동백섬&누리마루APEC하우스           9.013202e+09\n",
       "송도해수욕장                    8.659811e+09\n",
       "마린시티 카페거리                 8.517654e+09\n",
       "BIFF광장&용두산공원&보수동책방골목      7.604638e+09\n",
       "송정해수욕장                    2.993533e+09\n",
       "오륙도&이기대 갈맷길               2.794206e+09\n",
       "다대포 해수욕장(꿈의 낙조분수, 몰운대)    2.653237e+09\n",
       "태종대                       1.587345e+09\n",
       "일광해수욕장                    1.056767e+09\n",
       "흰여울문화마을                   1.002473e+09\n",
       "감천문화마을                    9.206780e+08\n",
       "렛츠런파크                     9.184546e+07\n",
       "부산시민공원                    8.244998e+07\n",
       "을숙도                       7.341665e+07\n",
       "국립해양박물관                   5.233984e+07\n",
       "Name: CARD_USE_AMT, dtype: float64"
      ]
     },
     "execution_count": 29,
     "metadata": {},
     "output_type": "execute_result"
    }
   ],
   "source": [
    "df_2020.groupby(\"PLC_NM\")['CARD_USE_AMT'].sum().sort_values(ascending=False) #장소별 카드 사용 금액"
   ]
  },
  {
   "cell_type": "code",
   "execution_count": 30,
   "id": "2946e4db",
   "metadata": {},
   "outputs": [
    {
     "data": {
      "text/plain": [
       "PLC_NM\n",
       "부산서면                      5249177\n",
       "센텀시티(신세계센텀 등)             2932032\n",
       "광안리해수욕장                   1491631\n",
       "자갈치·국제시장·부평깡통야시장           936046\n",
       "해운대해수욕장                    887820\n",
       "전포카페거리                     496264\n",
       "BIFF광장&용두산공원&보수동책방골목       401649\n",
       "송도해수욕장                     345196\n",
       "마린시티 카페거리                  198422\n",
       "동백섬&누리마루APEC하우스            177519\n",
       "송정해수욕장                     151532\n",
       "다대포 해수욕장(꿈의 낙조분수, 몰운대)     146069\n",
       "태종대                         84921\n",
       "오륙도&이기대 갈맷길                 77518\n",
       "흰여울문화마을                     77436\n",
       "감천문화마을                      76351\n",
       "일광해수욕장                      47706\n",
       "을숙도                         22222\n",
       "부산시민공원                      10727\n",
       "렛츠런파크                        4469\n",
       "국립해양박물관                      4194\n",
       "Name: CARD_UTILIIZA_CAS_CO, dtype: int64"
      ]
     },
     "execution_count": 30,
     "metadata": {},
     "output_type": "execute_result"
    }
   ],
   "source": [
    "df_2020.groupby(\"PLC_NM\")['CARD_UTILIIZA_CAS_CO'].sum().sort_values(ascending=False) #장소별 카드 사용 횟수"
   ]
  },
  {
   "cell_type": "code",
   "execution_count": 31,
   "id": "72f6a12b",
   "metadata": {},
   "outputs": [
    {
     "data": {
      "text/plain": [
       "PLC_NM\n",
       "센텀시티(신세계센텀 등)       4.004866e+11\n",
       "부산서면                2.426736e+11\n",
       "광안리해수욕장             3.881081e+10\n",
       "해운대해수욕장             3.800225e+10\n",
       "자갈치·국제시장·부평깡통야시장    3.575614e+10\n",
       "Name: CARD_USE_AMT, dtype: float64"
      ]
     },
     "execution_count": 31,
     "metadata": {},
     "output_type": "execute_result"
    }
   ],
   "source": [
    "df_2020.groupby(\"PLC_NM\")['CARD_USE_AMT'].sum().sort_values(ascending=False).head(5) #장소별 카드 사용 금액 상위 5개"
   ]
  },
  {
   "cell_type": "code",
   "execution_count": null,
   "id": "2b257c92",
   "metadata": {},
   "outputs": [],
   "source": []
  },
  {
   "cell_type": "code",
   "execution_count": 32,
   "id": "8eb648cf",
   "metadata": {},
   "outputs": [
    {
     "data": {
      "text/plain": [
       "PLC_NM\n",
       "부산서면                5249177\n",
       "센텀시티(신세계센텀 등)       2932032\n",
       "광안리해수욕장             1491631\n",
       "자갈치·국제시장·부평깡통야시장     936046\n",
       "해운대해수욕장              887820\n",
       "Name: CARD_UTILIIZA_CAS_CO, dtype: int64"
      ]
     },
     "execution_count": 32,
     "metadata": {},
     "output_type": "execute_result"
    }
   ],
   "source": [
    "df_2020.groupby(\"PLC_NM\")['CARD_UTILIIZA_CAS_CO'].sum().sort_values(ascending=False).head(5) #장소별 카드 사용 횟수 상위 5개"
   ]
  },
  {
   "cell_type": "code",
   "execution_count": 33,
   "id": "39fa029b",
   "metadata": {},
   "outputs": [
    {
     "data": {
      "text/plain": [
       "PLC_NM\n",
       "센텀시티(신세계센텀 등)             8.867751e+11\n",
       "부산서면                      4.496194e+11\n",
       "자갈치·국제시장·부평깡통야시장          6.542642e+10\n",
       "해운대해수욕장                   4.376762e+10\n",
       "광안리해수욕장                   3.803849e+10\n",
       "전포카페거리                    1.819087e+10\n",
       "동백섬&누리마루APEC하우스           1.190627e+10\n",
       "BIFF광장&용두산공원&보수동책방골목      1.169730e+10\n",
       "오륙도&이기대 갈맷길               1.082435e+10\n",
       "마린시티 카페거리                 9.623692e+09\n",
       "송도해수욕장                    9.034227e+09\n",
       "다대포 해수욕장(꿈의 낙조분수, 몰운대)    7.753384e+09\n",
       "송정해수욕장                    2.866552e+09\n",
       "감천문화마을                    1.509928e+09\n",
       "태종대                       1.486953e+09\n",
       "일광해수욕장                    1.398643e+09\n",
       "흰여울문화마을                   1.248609e+09\n",
       "부산시민공원                    2.061207e+08\n",
       "을숙도                       9.785996e+07\n",
       "국립해양박물관                   3.908242e+07\n",
       "렛츠런파크                     7.005227e+06\n",
       "Name: CARD_USE_AMT, dtype: float64"
      ]
     },
     "execution_count": 33,
     "metadata": {},
     "output_type": "execute_result"
    }
   ],
   "source": [
    "df_2021.groupby(\"PLC_NM\")['CARD_USE_AMT'].sum().sort_values(ascending=False) #장소별 카드 사용 금액"
   ]
  },
  {
   "cell_type": "code",
   "execution_count": 34,
   "id": "3b41c47e",
   "metadata": {
    "scrolled": true
   },
   "outputs": [
    {
     "data": {
      "text/plain": [
       "PLC_NM\n",
       "부산서면                      9216508\n",
       "센텀시티(신세계센텀 등)             6533849\n",
       "자갈치·국제시장·부평깡통야시장          1668201\n",
       "광안리해수욕장                   1460635\n",
       "해운대해수욕장                    915093\n",
       "전포카페거리                     781283\n",
       "BIFF광장&용두산공원&보수동책방골목       526088\n",
       "송도해수욕장                     440283\n",
       "다대포 해수욕장(꿈의 낙조분수, 몰운대)     428192\n",
       "마린시티 카페거리                  297625\n",
       "오륙도&이기대 갈맷길                230872\n",
       "송정해수욕장                     215401\n",
       "동백섬&누리마루APEC하우스            187867\n",
       "감천문화마을                     106961\n",
       "흰여울문화마을                    102491\n",
       "태종대                         84629\n",
       "일광해수욕장                      63775\n",
       "부산시민공원                      28243\n",
       "을숙도                         26304\n",
       "국립해양박물관                      3980\n",
       "렛츠런파크                         255\n",
       "Name: CARD_UTILIIZA_CAS_CO, dtype: int64"
      ]
     },
     "execution_count": 34,
     "metadata": {},
     "output_type": "execute_result"
    }
   ],
   "source": [
    "df_2021.groupby(\"PLC_NM\")['CARD_UTILIIZA_CAS_CO'].sum().sort_values(ascending=False) #장소별 카드 사용 금액"
   ]
  },
  {
   "cell_type": "code",
   "execution_count": 35,
   "id": "01ad3bbd",
   "metadata": {},
   "outputs": [
    {
     "data": {
      "text/plain": [
       "PLC_NM\n",
       "센텀시티(신세계센텀 등)       8.867751e+11\n",
       "부산서면                4.496194e+11\n",
       "자갈치·국제시장·부평깡통야시장    6.542642e+10\n",
       "해운대해수욕장             4.376762e+10\n",
       "광안리해수욕장             3.803849e+10\n",
       "Name: CARD_USE_AMT, dtype: float64"
      ]
     },
     "execution_count": 35,
     "metadata": {},
     "output_type": "execute_result"
    }
   ],
   "source": [
    "df_2021.groupby(\"PLC_NM\")['CARD_USE_AMT'].sum().sort_values(ascending=False).head(5) #장소별 카드 사용 금액 상위 5개"
   ]
  },
  {
   "cell_type": "code",
   "execution_count": 36,
   "id": "2ea018ab",
   "metadata": {},
   "outputs": [
    {
     "data": {
      "text/plain": [
       "PLC_NM\n",
       "부산서면                9216508\n",
       "센텀시티(신세계센텀 등)       6533849\n",
       "자갈치·국제시장·부평깡통야시장    1668201\n",
       "광안리해수욕장             1460635\n",
       "해운대해수욕장              915093\n",
       "Name: CARD_UTILIIZA_CAS_CO, dtype: int64"
      ]
     },
     "execution_count": 36,
     "metadata": {},
     "output_type": "execute_result"
    }
   ],
   "source": [
    "df_2021.groupby(\"PLC_NM\")['CARD_UTILIIZA_CAS_CO'].sum().sort_values(ascending=False).head(5) #장소별 카드 사용 금액 상위 5개"
   ]
  },
  {
   "cell_type": "markdown",
   "id": "4d3a48e0",
   "metadata": {},
   "source": [
    "### 각 연도별 사용금액 대비 사용량 확인 결과 비례관계가 성립함을 알 수 있음"
   ]
  },
  {
   "cell_type": "code",
   "execution_count": null,
   "id": "643470b7",
   "metadata": {},
   "outputs": [],
   "source": []
  },
  {
   "cell_type": "code",
   "execution_count": 37,
   "id": "a642dd88",
   "metadata": {},
   "outputs": [
    {
     "data": {
      "text/plain": [
       "(2626, 5)"
      ]
     },
     "execution_count": 37,
     "metadata": {},
     "output_type": "execute_result"
    }
   ],
   "source": [
    "# dimension\n",
    "df.shape"
   ]
  },
  {
   "cell_type": "code",
   "execution_count": 38,
   "id": "599706f8",
   "metadata": {},
   "outputs": [
    {
     "data": {
      "text/plain": [
       "PLC_NM                  0\n",
       "CTPR_NM                 0\n",
       "CARD_USE_AMT            0\n",
       "CARD_UTILIIZA_CAS_CO    0\n",
       "BASE_QUARTER            0\n",
       "dtype: int64"
      ]
     },
     "execution_count": 38,
     "metadata": {},
     "output_type": "execute_result"
    }
   ],
   "source": [
    "# 결측치\n",
    "df.isnull().sum()"
   ]
  },
  {
   "cell_type": "code",
   "execution_count": 39,
   "id": "e817193e",
   "metadata": {},
   "outputs": [
    {
     "name": "stdout",
     "output_type": "stream",
     "text": [
      "<class 'pandas.core.frame.DataFrame'>\n",
      "RangeIndex: 2626 entries, 0 to 2625\n",
      "Data columns (total 5 columns):\n",
      " #   Column                Non-Null Count  Dtype  \n",
      "---  ------                --------------  -----  \n",
      " 0   PLC_NM                2626 non-null   object \n",
      " 1   CTPR_NM               2626 non-null   object \n",
      " 2   CARD_USE_AMT          2626 non-null   float64\n",
      " 3   CARD_UTILIIZA_CAS_CO  2626 non-null   int64  \n",
      " 4   BASE_QUARTER          2626 non-null   object \n",
      "dtypes: float64(1), int64(1), object(3)\n",
      "memory usage: 102.7+ KB\n"
     ]
    }
   ],
   "source": [
    "# information\n",
    "df.info()"
   ]
  },
  {
   "cell_type": "code",
   "execution_count": 40,
   "id": "6c64e919",
   "metadata": {},
   "outputs": [
    {
     "data": {
      "text/plain": [
       "'BIFF광장&용두산공원&보수동책방골목'"
      ]
     },
     "execution_count": 40,
     "metadata": {},
     "output_type": "execute_result"
    }
   ],
   "source": [
    "# text 변수 확인\n",
    "\n",
    "df['PLC_NM'][0]"
   ]
  },
  {
   "cell_type": "code",
   "execution_count": 41,
   "id": "0da862fd",
   "metadata": {},
   "outputs": [
    {
     "data": {
      "text/plain": [
       "'렛츠런파크'"
      ]
     },
     "execution_count": 41,
     "metadata": {},
     "output_type": "execute_result"
    }
   ],
   "source": [
    "df['PLC_NM'][100]"
   ]
  },
  {
   "cell_type": "code",
   "execution_count": 42,
   "id": "6010e1f5",
   "metadata": {},
   "outputs": [
    {
     "name": "stdout",
     "output_type": "stream",
     "text": [
      "Requirement already satisfied: konlpy==0.5.2 in c:\\users\\cheonbh\\anaconda3\\lib\\site-packages (0.5.2)\n",
      "Requirement already satisfied: jpype1 in c:\\users\\cheonbh\\anaconda3\\lib\\site-packages (1.4.0)\n",
      "Requirement already satisfied: Jpype1-py3 in c:\\users\\cheonbh\\anaconda3\\lib\\site-packages (0.5.5.4)\n",
      "Requirement already satisfied: tweepy>=3.7.0 in c:\\users\\cheonbh\\anaconda3\\lib\\site-packages (from konlpy==0.5.2) (3.10.0)\n",
      "Requirement already satisfied: beautifulsoup4==4.6.0 in c:\\users\\cheonbh\\anaconda3\\lib\\site-packages (from konlpy==0.5.2) (4.6.0)\n",
      "Requirement already satisfied: colorama in c:\\users\\cheonbh\\anaconda3\\lib\\site-packages (from konlpy==0.5.2) (0.4.4)\n",
      "Requirement already satisfied: numpy>=1.6 in c:\\users\\cheonbh\\anaconda3\\lib\\site-packages (from konlpy==0.5.2) (1.20.3)\n",
      "Requirement already satisfied: lxml>=4.1.0 in c:\\users\\cheonbh\\anaconda3\\lib\\site-packages (from konlpy==0.5.2) (4.9.0)\n",
      "Requirement already satisfied: requests-oauthlib>=0.7.0 in c:\\users\\cheonbh\\anaconda3\\lib\\site-packages (from tweepy>=3.7.0->konlpy==0.5.2) (1.3.1)\n",
      "Requirement already satisfied: six>=1.10.0 in c:\\users\\cheonbh\\anaconda3\\lib\\site-packages (from tweepy>=3.7.0->konlpy==0.5.2) (1.16.0)\n",
      "Requirement already satisfied: requests[socks]>=2.11.1 in c:\\users\\cheonbh\\anaconda3\\lib\\site-packages (from tweepy>=3.7.0->konlpy==0.5.2) (2.27.1)\n",
      "Requirement already satisfied: oauthlib>=3.0.0 in c:\\users\\cheonbh\\anaconda3\\lib\\site-packages (from requests-oauthlib>=0.7.0->tweepy>=3.7.0->konlpy==0.5.2) (3.2.0)\n",
      "Requirement already satisfied: charset-normalizer~=2.0.0 in c:\\users\\cheonbh\\anaconda3\\lib\\site-packages (from requests[socks]>=2.11.1->tweepy>=3.7.0->konlpy==0.5.2) (2.0.4)\n",
      "Requirement already satisfied: idna<4,>=2.5 in c:\\users\\cheonbh\\anaconda3\\lib\\site-packages (from requests[socks]>=2.11.1->tweepy>=3.7.0->konlpy==0.5.2) (3.3)\n",
      "Requirement already satisfied: certifi>=2017.4.17 in c:\\users\\cheonbh\\anaconda3\\lib\\site-packages (from requests[socks]>=2.11.1->tweepy>=3.7.0->konlpy==0.5.2) (2022.5.18.1)\n",
      "Requirement already satisfied: urllib3<1.27,>=1.21.1 in c:\\users\\cheonbh\\anaconda3\\lib\\site-packages (from requests[socks]>=2.11.1->tweepy>=3.7.0->konlpy==0.5.2) (1.26.9)\n",
      "Requirement already satisfied: PySocks!=1.5.7,>=1.5.6 in c:\\users\\cheonbh\\anaconda3\\lib\\site-packages (from requests[socks]>=2.11.1->tweepy>=3.7.0->konlpy==0.5.2) (1.7.1)\n"
     ]
    }
   ],
   "source": [
    "!pip install konlpy==0.5.2 jpype1 Jpype1-py3"
   ]
  },
  {
   "cell_type": "code",
   "execution_count": 43,
   "id": "66641947",
   "metadata": {},
   "outputs": [],
   "source": [
    "# 정규 표현식 함수 정의\n",
    "\n",
    "import re\n",
    "\n",
    "def apply_regular_expression(text):\n",
    "    hangul = re.compile('[^ ㄱ-ㅣ 가-힣]')  # 한글 추출 규칙: 띄어 쓰기(1 개)를 포함한 한글\n",
    "    result = hangul.sub('', text)  # 위에 설정한 \"hangul\"규칙을 \"text\"에 적용(.sub)시킴\n",
    "    return result\n"
   ]
  },
  {
   "cell_type": "code",
   "execution_count": 44,
   "id": "56aaa2e5",
   "metadata": {},
   "outputs": [
    {
     "data": {
      "text/plain": [
       "'BIFF광장&용두산공원&보수동책방골목'"
      ]
     },
     "execution_count": 44,
     "metadata": {},
     "output_type": "execute_result"
    }
   ],
   "source": [
    "df['PLC_NM'][0]"
   ]
  },
  {
   "cell_type": "code",
   "execution_count": 45,
   "id": "81536cdf",
   "metadata": {},
   "outputs": [
    {
     "data": {
      "text/plain": [
       "'광장용두산공원보수동책방골목'"
      ]
     },
     "execution_count": 45,
     "metadata": {},
     "output_type": "execute_result"
    }
   ],
   "source": [
    "apply_regular_expression(df['PLC_NM'][0])"
   ]
  },
  {
   "cell_type": "code",
   "execution_count": 46,
   "id": "985849d4",
   "metadata": {},
   "outputs": [],
   "source": [
    "from konlpy.tag import Okt\n",
    "from collections import Counter"
   ]
  },
  {
   "cell_type": "code",
   "execution_count": 47,
   "id": "ebafadb9",
   "metadata": {},
   "outputs": [
    {
     "data": {
      "text/plain": [
       "'광장용두산공원보수동책방골목'"
      ]
     },
     "execution_count": 47,
     "metadata": {},
     "output_type": "execute_result"
    }
   ],
   "source": [
    "apply_regular_expression(df['PLC_NM'][0])"
   ]
  },
  {
   "cell_type": "code",
   "execution_count": 48,
   "id": "c5d4ffc3",
   "metadata": {},
   "outputs": [
    {
     "data": {
      "text/plain": [
       "['광장', '용두산', '공원', '보수동책방골목']"
      ]
     },
     "execution_count": 48,
     "metadata": {},
     "output_type": "execute_result"
    }
   ],
   "source": [
    "okt = Okt()  # 명사 형태소 추출 함수\n",
    "nouns = okt.nouns(apply_regular_expression(df['PLC_NM'][0]))\n",
    "nouns"
   ]
  },
  {
   "cell_type": "code",
   "execution_count": 49,
   "id": "60fd0195",
   "metadata": {},
   "outputs": [
    {
     "data": {
      "text/plain": [
       "'BIFF광장&용두산공원&보수동책방골목BIFF광장&용두산공원&보수동책방골목BIFF광장&용두산공원&보수동책방골목BIFF광장&용두산공원&보수동책방골목BIFF광장&용두산공원&보수동책방골목BIFF광장&용두산공원&보수동책방골목BIFF광장&용두산공원&보수동책방골목BIFF광장&용두산공원&보수동책방골목BIFF광장&용두산공원&보수동책방골목BIFF광장&용두산공원&보수동책방골목BIFF광장&용두산공원&보수동책방골목BIFF광장&용두산공원&보수동책방골목BIFF광장&용두산공원&보수동책방골목BIFF광장&용두산공원&보수동책방골목BIFF광장&용두산공원&보수동책방골목BIFF광장&용두산공원&보수동책방골목감천문화마을감천문화마을감천문화마을감천문화마을감천문화마을감천문화마을감천문화마을감천문화마을감천문화마을감천문화마을감천문화마을감천문화마을감천문화마을감천문화마을감천문화마을감천문화마을광안리해수욕장광안리해수욕장광안리해수욕장광안리해수욕장광안리해수욕장광안리해수욕장광안리해수욕장광안리해수욕장광안리해수욕장광안리해수욕장광안리해수욕장광안리해수욕장광안리해수욕장광안리해수욕장광안리해수욕장광안리해수욕장국립해양박물관국립해양박물관국립해양박물관국립해양박물관국립해양박물관국립해양박물관국립해양박물관국립해양박물관국립해양박물관국립해양박물관국립해양박물관국립해양박물관국립해양박물관국립해양박물관국립해양박물관국립해양박물관다대포 해수욕장(꿈의 낙조분수, 몰운대)다대포 해수욕장(꿈의 낙조분수, 몰운대)다대포 해수욕장(꿈의 낙조분수, 몰운대)다대포 해수욕장(꿈의 낙조분수, 몰운대)다대포 해수욕장(꿈의 낙조분수, 몰운대)다대포 해수욕장(꿈의 낙조분수, 몰운대)다대포 해수욕장(꿈의 낙조분수, 몰운대)다대포 해수욕장(꿈의 낙조분수, 몰운대)다대포 해수욕장(꿈의 낙조분수, 몰운대)다대포 해수욕장(꿈의 낙조분수, 몰운대)다대포 해수욕장(꿈의 낙조분수, 몰운대)다대포 해수욕장(꿈의 낙조분수, 몰운대)다대포 해수욕장(꿈의 낙조분수, 몰운대)다대포 해수욕장(꿈의 낙조분수, 몰운대)다대포 해수욕장(꿈의 낙조분수, 몰운대)다대포 해수욕장(꿈의 낙조분수, 몰운대)동백섬&누리마루APEC하우스동백섬&누리마루APEC하우스동백섬&누리마루APEC하우스동백섬&누리마루APEC하우스동백섬&누리마루APEC하우스동백섬&누리마루APEC하우스동백섬&누리마루APEC하우스동백섬&누리마루APEC하우스동백섬&누리마루APEC하우스동백섬&누리마루APEC하우스동백섬&누리마루APEC하우스동백섬&누리마루APEC하우스동백섬&누리마루APEC하우스동백섬&누리마루APEC하우스동백섬&누리마루APEC하우스동백섬&누리마루APEC하우스렛츠런파크렛츠런파크렛츠런파크렛츠런파크렛츠런파크렛츠런파크렛츠런파크렛츠런파크렛츠런파크렛츠런파크렛츠런파크렛츠런파크렛츠런파크렛츠런파크마린시티 카페거리마린시티 카페거리마린시티 카페거리마린시티 카페거리마린시티 카페거리마린시티 카페거리마린시티 카페거리마린시티 카페거리마린시티 카페거리마린시티 카페거리마린시티 카페거리마린시티 카페거리마린시티 카페거리마린시티 카페거리마린시티 카페거리마린시티 카페거리부산서면부산서면부산서면부산서면부산서면부산서면부산서면부산서면부산서면부산서면부산서면부산서면부산서면부산서면부산서면부산서면부산시민공원부산시민공원부산시민공원부산시민공원부산시민공원부산시민공원부산시민공원부산시민공원부산시민공원부산시민공원부산시민공원부산시민공원부산시민공원부산시민공원부산시민공원부산시민공원센텀시티(신세계센텀 등)센텀시티(신세계센텀 등)센텀시티(신세계센텀 등)센텀시티(신세계센텀 등)센텀시티(신세계센텀 등)센텀시티(신세계센텀 등)센텀시티(신세계센텀 등)센텀시티(신세계센텀 등)센텀시티(신세계센텀 등)센텀시티(신세계센텀 등)센텀시티(신세계센텀 등)센텀시티(신세계센텀 등)센텀시티(신세계센텀 등)센텀시티(신세계센텀 등)센텀시티(신세계센텀 등)센텀시티(신세계센텀 등)송도해수욕장송도해수욕장송도해수욕장송도해수욕장송도해수욕장송도해수욕장송도해수욕장송도해수욕장송도해수욕장송도해수욕장송도해수욕장송도해수욕장송도해수욕장송도해수욕장송도해수욕장송도해수욕장송정해수욕장송정해수욕장송정해수욕장송정해수욕장송정해수욕장송정해수욕장송정해수욕장송정해수욕장송정해수욕장송정해수욕장송정해수욕장송정해수욕장송정해수욕장송정해수욕장송정해수욕장송정해수욕장오륙도&이기대 갈맷길오륙도&이기대 갈맷길오륙도&이기대 갈맷길오륙도&이기대 갈맷길오륙도&이기대 갈맷길오륙도&이기대 갈맷길오륙도&이기대 갈맷길오륙도&이기대 갈맷길오륙도&이기대 갈맷길오륙도&이기대 갈맷길오륙도&이기대 갈맷길오륙도&이기대 갈맷길오륙도&이기대 갈맷길오륙도&이기대 갈맷길오륙도&이기대 갈맷길오륙도&이기대 갈맷길을숙도을숙도을숙도을숙도을숙도을숙도을숙도을숙도을숙도을숙도을숙도을숙도을숙도을숙도을숙도을숙도일광해수욕장일광해수욕장일광해수욕장일광해수욕장일광해수욕장일광해수욕장일광해수욕장일광해수욕장일광해수욕장일광해수욕장일광해수욕장일광해수욕장일광해수욕장일광해수욕장일광해수욕장일광해수욕장자갈치·국제시장·부평깡통야시장자갈치·국제시장·부평깡통야시장자갈치·국제시장·부평깡통야시장자갈치·국제시장·부평깡통야시장자갈치·국제시장·부평깡통야시장자갈치·국제시장·부평깡통야시장자갈치·국제시장·부평깡통야시장자갈치·국제시장·부평깡통야시장자갈치·국제시장·부평깡통야시장자갈치·국제시장·부평깡통야시장자갈치·국제시장·부평깡통야시장자갈치·국제시장·부평깡통야시장자갈치·국제시장·부평깡통야시장자갈치·국제시장·부평깡통야시장자갈치·국제시장·부평깡통야시장자갈치·국제시장·부평깡통야시장전포카페거리전포카페거리전포카페거리전포카페거리전포카페거리전포카페거리전포카페거리전포카페거리전포카페거리전포카페거리전포카페거리전포카페거리전포카페거리전포카페거리전포카페거리전포카페거리태종대태종대태종대태종대태종대태종대태종대태종대태종대태종대태종대태종대태종대태종대태종대태종대해운대해수욕장해운대해수욕장해운대해수욕장해운대해수욕장해운대해수욕장해운대해수욕장해운대해수욕장해운대해수욕장해운대해수욕장해운대해수욕장해운대해수욕장해운대해수욕장해운대해수욕장해운대해수욕장해운대해수욕장해운대해수욕장흰여울문화마을흰여울문화마을흰여울문화마을흰여울문화마을흰여울문화마을흰여울문화마을흰여울문화마을흰여울문화마을흰여울문화마을흰여울문화마을흰여울문화마을흰여울문화마을흰여울문화마을흰여울문화마을흰여울문화마을흰여울문화마을BIFF광장&용두산공원&보수동책방골목BIFF광장&용두산공원&보수동책방골목BIFF광장&용두산공원&보수동책방골목BIFF광장&용두산공원&보수동책방골목BIFF광장&용두산공원&보수동책방골목BIFF광장&용두산공원&보수동책방골목BIFF광장&용두산공원&보수동책방골목BIFF광장&용두산공원&보수동책방골목BIFF광장&용두산공원&보수동책방골목BIFF광장&용두산공원&보수동책방골목BIFF광장&용두산공원&보수동책방골목BIFF광장&용두산공원&보수동책방골목BIFF광장&용두산공원&보수동책방골목BIFF광장&용두산공원&보수동책방골목BIFF광장&용두산공원&보수동책방골목BIFF광장&용두산공원&보수동책방골목감천문화마을감천문화마을감천문화마을감천문화마을감천문화마을감천문화마을감천문화마을감천문화마을감천문화마을감천문화마을감천문화마을감천문화마을감천문화마을감천문화마을감천문화마을감천문화마을광안리해수욕장광안리해수욕장광안리해수욕장광안리해수욕장광안리해수욕장광안리해수욕장광안리해수욕장광안리해수욕장광안리해수욕장광안리해수욕장광안리해수욕장광안리해수욕장광안리해수욕장광안리해수욕장광안리해수욕장광안리해수욕장국립해양박물관국립해양박물관국립해양박물관국립해양박물관국립해양박물관국립해양박물관국립해양박물관국립해양박물관국립해양박물관국립해양박물관국립해양박물관국립해양박물관다대포 해수욕장(꿈의 낙조분수, 몰운대)다대포 해수욕장(꿈의 낙조분수, 몰운대)다대포 해수욕장(꿈의 낙조분수, 몰운대)다대포 해수욕장(꿈의 낙조분수, 몰운대)다대포 해수욕장(꿈의 낙조분수, 몰운대)다대포 해수욕장(꿈의 낙조분수, 몰운대)다대포 해수욕장(꿈의 낙조분수, 몰운대)다대포 해수욕장(꿈의 낙조분수, 몰운대)다대포 해수욕장(꿈의 낙조분수, 몰운대)다대포 해수욕장(꿈의 낙조분수, 몰운대)다대포 해수욕장(꿈의 낙조분수, 몰운대)다대포 해수욕장(꿈의 낙조분수, 몰운대)다대포 해수욕장(꿈의 낙조분수, 몰운대)다대포 해수욕장(꿈의 낙조분수, 몰운대)다대포 해수욕장(꿈의 낙조분수, 몰운대)다대포 해수욕장(꿈의 낙조분수, 몰운대)동백섬&누리마루APEC하우스동백섬&누리마루APEC하우스동백섬&누리마루APEC하우스동백섬&누리마루APEC하우스동백섬&누리마루APEC하우스동백섬&누리마루APEC하우스동백섬&누리마루APEC하우스동백섬&누리마루APEC하우스동백섬&누리마루APEC하우스동백섬&누리마루APEC하우스동백섬&누리마루APEC하우스동백섬&누리마루APEC하우스동백섬&누리마루APEC하우스동백섬&누리마루APEC하우스동백섬&누리마루APEC하우스동백섬&누리마루APEC하우스렛츠런파크렛츠런파크렛츠런파크마린시티 카페거리마린시티 카페거리마린시티 카페거리마린시티 카페거리마린시티 카페거리마린시티 카페거리마린시티 카페거리마린시티 카페거리마린시티 카페거리마린시티 카페거리마린시티 카페거리마린시티 카페거리마린시티 카페거리마린시티 카페거리마린시티 카페거리마린시티 카페거리부산서면부산서면부산서면부산서면부산서면부산서면부산서면부산서면부산서면부산서면부산서면부산서면부산서면부산서면부산서면부산서면부산시민공원부산시민공원부산시민공원부산시민공원부산시민공원부산시민공원부산시민공원부산시민공원부산시민공원부산시민공원부산시민공원부산시민공원부산시민공원부산시민공원부산시민공원부산시민공원센텀시티(신세계센텀 등)센텀시티(신세계센텀 등)센텀시티(신세계센텀 등)센텀시티(신세계센텀 등)센텀시티(신세계센텀 등)센텀시티(신세계센텀 등)센텀시티(신세계센텀 등)센텀시티(신세계센텀 등)센텀시티(신세계센텀 등)센텀시티(신세계센텀 등)센텀시티(신세계센텀 등)센텀시티(신세계센텀 등)센텀시티(신세계센텀 등)센텀시티(신세계센텀 등)센텀시티(신세계센텀 등)센텀시티(신세계센텀 등)송도해수욕장송도해수욕장송도해수욕장송도해수욕장송도해수욕장송도해수욕장송도해수욕장송도해수욕장송도해수욕장송도해수욕장송도해수욕장송도해수욕장송도해수욕장송도해수욕장송도해수욕장송도해수욕장송정해수욕장송정해수욕장송정해수욕장송정해수욕장송정해수욕장송정해수욕장송정해수욕장송정해수욕장송정해수욕장송정해수욕장송정해수욕장송정해수욕장송정해수욕장송정해수욕장송정해수욕장송정해수욕장오륙도&이기대 갈맷길오륙도&이기대 갈맷길오륙도&이기대 갈맷길오륙도&이기대 갈맷길오륙도&이기대 갈맷길오륙도&이기대 갈맷길오륙도&이기대 갈맷길오륙도&이기대 갈맷길오륙도&이기대 갈맷길오륙도&이기대 갈맷길오륙도&이기대 갈맷길오륙도&이기대 갈맷길오륙도&이기대 갈맷길오륙도&이기대 갈맷길오륙도&이기대 갈맷길오륙도&이기대 갈맷길을숙도을숙도을숙도을숙도을숙도을숙도을숙도을숙도을숙도을숙도을숙도을숙도을숙도을숙도을숙도을숙도일광해수욕장일광해수욕장일광해수욕장일광해수욕장일광해수욕장일광해수욕장일광해수욕장일광해수욕장일광해수욕장일광해수욕장일광해수욕장일광해수욕장일광해수욕장일광해수욕장일광해수욕장일광해수욕장자갈치·국제시장·부평깡통야시장자갈치·국제시장·부평깡통야시장자갈치·국제시장·부평깡통야시장자갈치·국제시장·부평깡통야시장자갈치·국제시장·부평깡통야시장자갈치·국제시장·부평깡통야시장자갈치·국제시장·부평깡통야시장자갈치·국제시장·부평깡통야시장자갈치·국제시장·부평깡통야시장자갈치·국제시장·부평깡통야시장자갈치·국제시장·부평깡통야시장자갈치·국제시장·부평깡통야시장자갈치·국제시장·부평깡통야시장자갈치·국제시장·부평깡통야시장자갈치·국제시장·부평깡통야시장자갈치·국제시장·부평깡통야시장전포카페거리전포카페거리전포카페거리전포카페거리전포카페거리전포카페거리전포카페거리전포카페거리전포카페거리전포카페거리전포카페거리전포카페거리전포카페거리전포카페거리전포카페거리전포카페거리태종대태종대태종대태종대태종대태종대태종대태종대태종대태종대태종대태종대태종대태종대태종대태종대해운대해수욕장해운대해수욕장해운대해수욕장해운대해수욕장해운대해수욕장해운대해수욕장해운대해수욕장해운대해수욕장해운대해수욕장해운대해수욕장해운대해수욕장해운대해수욕장해운대해수욕장해운대해수욕장해운대해수욕장해운대해수욕장흰여울문화마을흰여울문화마을흰여울문화마을흰여울문화마을흰여울문화마을흰여울문화마을흰여울문화마을흰여울문화마을흰여울문화마을흰여울문화마을흰여울문화마을흰여울문화마을흰여울문화마을흰여울문화마을흰여울문화마을흰여울문화마을BIFF광장&용두산공원&보수동책방골목BIFF광장&용두산공원&보수동책방골목BIFF광장&용두산공원&보수동책방골목BIFF광장&용두산공원&보수동책방골목BIFF광장&용두산공원&보수동책방골목BIFF광장&용두산공원&보수동책방골목BIFF광장&용두산공원&보수동책방골목BIFF광장&용두산공원&보수동책방골목BIFF광장&용두산공원&보수동책방골목BIFF광장&용두산공원&보수동책방골목BIFF광장&용두산공원&보수동책방골목BIFF광장&용두산공원&보수동책방골목BIFF광장&용두산공원&보수동책방골목BIFF광장&용두산공원&보수동책방골목BIFF광장&용두산공원&보수동책방골목BIFF광장&용두산공원&보수동책방골목감천문화마을감천문화마을감천문화마을감천문화마을감천문화마을감천문화마을감천문화마을감천문화마을감천문화마을감천문화마을감천문화마을감천문화마을감천문화마을감천문화마을감천문화마을감천문화마을광안리해수욕장광안리해수욕장광안리해수욕장광안리해수욕장광안리해수욕장광안리해수욕장광안리해수욕장광안리해수욕장광안리해수욕장광안리해수욕장광안리해수욕장광안리해수욕장광안리해수욕장광안리해수욕장광안리해수욕장광안리해수욕장국립해양박물관국립해양박물관국립해양박물관국립해양박물관국립해양박물관국립해양박물관국립해양박물관국립해양박물관국립해양박물관국립해양박물관국립해양박물관국립해양박물관국립해양박물관국립해양박물관국립해양박물관다대포 해수욕장(꿈의 낙조분수, 몰운대)다대포 해수욕장(꿈의 낙조분수, 몰운대)다대포 해수욕장(꿈의 낙조분수, 몰운대)다대포 해수욕장(꿈의 낙조분수, 몰운대)다대포 해수욕장(꿈의 낙조분수, 몰운대)다대포 해수욕장(꿈의 낙조분수, 몰운대)다대포 해수욕장(꿈의 낙조분수, 몰운대)다대포 해수욕장(꿈의 낙조분수, 몰운대)다대포 해수욕장(꿈의 낙조분수, 몰운대)다대포 해수욕장(꿈의 낙조분수, 몰운대)다대포 해수욕장(꿈의 낙조분수, 몰운대)다대포 해수욕장(꿈의 낙조분수, 몰운대)다대포 해수욕장(꿈의 낙조분수, 몰운대)다대포 해수욕장(꿈의 낙조분수, 몰운대)다대포 해수욕장(꿈의 낙조분수, 몰운대)다대포 해수욕장(꿈의 낙조분수, 몰운대)동백섬&누리마루APEC하우스동백섬&누리마루APEC하우스동백섬&누리마루APEC하우스동백섬&누리마루APEC하우스동백섬&누리마루APEC하우스동백섬&누리마루APEC하우스동백섬&누리마루APEC하우스동백섬&누리마루APEC하우스동백섬&누리마루APEC하우스동백섬&누리마루APEC하우스동백섬&누리마루APEC하우스동백섬&누리마루APEC하우스동백섬&누리마루APEC하우스동백섬&누리마루APEC하우스동백섬&누리마루APEC하우스동백섬&누리마루APEC하우스렛츠런파크렛츠런파크렛츠런파크렛츠런파크마린시티 카페거리마린시티 카페거리마린시티 카페거리마린시티 카페거리마린시티 카페거리마린시티 카페거리마린시티 카페거리마린시티 카페거리마린시티 카페거리마린시티 카페거리마린시티 카페거리마린시티 카페거리마린시티 카페거리마린시티 카페거리마린시티 카페거리마린시티 카페거리부산서면부산서면부산서면부산서면부산서면부산서면부산서면부산서면부산서면부산서면부산서면부산서면부산서면부산서면부산서면부산서면부산시민공원부산시민공원부산시민공원부산시민공원부산시민공원부산시민공원부산시민공원부산시민공원부산시민공원부산시민공원부산시민공원부산시민공원부산시민공원부산시민공원부산시민공원부산시민공원센텀시티(신세계센텀 등)센텀시티(신세계센텀 등)센텀시티(신세계센텀 등)센텀시티(신세계센텀 등)센텀시티(신세계센텀 등)센텀시티(신세계센텀 등)센텀시티(신세계센텀 등)센텀시티(신세계센텀 등)센텀시티(신세계센텀 등)센텀시티(신세계센텀 등)센텀시티(신세계센텀 등)센텀시티(신세계센텀 등)센텀시티(신세계센텀 등)센텀시티(신세계센텀 등)센텀시티(신세계센텀 등)센텀시티(신세계센텀 등)송도해수욕장송도해수욕장송도해수욕장송도해수욕장송도해수욕장송도해수욕장송도해수욕장송도해수욕장송도해수욕장송도해수욕장송도해수욕장송도해수욕장송도해수욕장송도해수욕장송도해수욕장송도해수욕장송정해수욕장송정해수욕장송정해수욕장송정해수욕장송정해수욕장송정해수욕장송정해수욕장송정해수욕장송정해수욕장송정해수욕장송정해수욕장송정해수욕장송정해수욕장송정해수욕장송정해수욕장송정해수욕장오륙도&이기대 갈맷길오륙도&이기대 갈맷길오륙도&이기대 갈맷길오륙도&이기대 갈맷길오륙도&이기대 갈맷길오륙도&이기대 갈맷길오륙도&이기대 갈맷길오륙도&이기대 갈맷길오륙도&이기대 갈맷길오륙도&이기대 갈맷길오륙도&이기대 갈맷길오륙도&이기대 갈맷길오륙도&이기대 갈맷길오륙도&이기대 갈맷길오륙도&이기대 갈맷길오륙도&이기대 갈맷길을숙도을숙도을숙도을숙도을숙도을숙도을숙도을숙도을숙도을숙도을숙도을숙도을숙도을숙도을숙도일광해수욕장일광해수욕장일광해수욕장일광해수욕장일광해수욕장일광해수욕장일광해수욕장일광해수욕장일광해수욕장일광해수욕장일광해수욕장일광해수욕장일광해수욕장일광해수욕장일광해수욕장일광해수욕장자갈치·국제시장·부평깡통야시장자갈치·국제시장·부평깡통야시장자갈치·국제시장·부평깡통야시장자갈치·국제시장·부평깡통야시장자갈치·국제시장·부평깡통야시장자갈치·국제시장·부평깡통야시장자갈치·국제시장·부평깡통야시장자갈치·국제시장·부평깡통야시장자갈치·국제시장·부평깡통야시장자갈치·국제시장·부평깡통야시장자갈치·국제시장·부평깡통야시장자갈치·국제시장·부평깡통야시장자갈치·국제시장·부평깡통야시장자갈치·국제시장·부평깡통야시장자갈치·국제시장·부평깡통야시장자갈치·국제시장·부평깡통야시장전포카페거리전포카페거리전포카페거리전포카페거리전포카페거리전포카페거리전포카페거리전포카페거리전포카페거리전포카페거리전포카페거리전포카페거리전포카페거리전포카페거리전포카페거리전포카페거리태종대태종대태종대태종대태종대태종대태종대태종대태종대태종대태종대태종대태종대태종대태종대태종대해운대해수욕장해운대해수욕장해운대해수욕장해운대해수욕장해운대해수욕장해운대해수욕장해운대해수욕장해운대해수욕장해운대해수욕장해운대해수욕장해운대해수욕장해운대해수욕장해운대해수욕장해운대해수욕장해운대해수욕장해운대해수욕장흰여울문화마을흰여울문화마을흰여울문화마을흰여울문화마을흰여울문화마을흰여울문화마을흰여울문화마을흰여울문화마을흰여울문화마을흰여울문화마을흰여울문화마을흰여울문화마을흰여울문화마을흰여울문화마을흰여울문화마을흰여울문화마을BIFF광장&용두산공원&보수동책방골목BIFF광장&용두산공원&보수동책방골목BIFF광장&용두산공원&보수동책방골목BIFF광장&용두산공원&보수동책방골목BIFF광장&용두산공원&보수동책방골목BIFF광장&용두산공원&보수동책방골목BIFF광장&용두산공원&보수동책방골목BIFF광장&용두산공원&보수동책방골목BIFF광장&용두산공원&보수동책방골목BIFF광장&용두산공원&보수동책방골목BIFF광장&용두산공원&보수동책방골목BIFF광장&용두산공원&보수동책방골목BIFF광장&용두산공원&보수동책방골목BIFF광장&용두산공원&보수동책방골목BIFF광장&용두산공원&보수동책방골목BIFF광장&용두산공원&보수동책방골목감천문화마을감천문화마을감천문화마을감천문화마을감천문화마을감천문화마을감천문화마을감천문화마을감천문화마을감천문화마을감천문화마을감천문화마을감천문화마을감천문화마을감천문화마을감천문화마을광안리해수욕장광안리해수욕장광안리해수욕장광안리해수욕장광안리해수욕장광안리해수욕장광안리해수욕장광안리해수욕장광안리해수욕장광안리해수욕장광안리해수욕장광안리해수욕장광안리해수욕장광안리해수욕장광안리해수욕장광안리해수욕장광안리해수욕장광안리해수욕장광안리해수욕장광안리해수욕장광안리해수욕장광안리해수욕장광안리해수욕장광안리해수욕장광안리해수욕장광안리해수욕장광안리해수욕장광안리해수욕장광안리해수욕장광안리해수욕장광안리해수욕장광안리해수욕장국립해양박물관국립해양박물관국립해양박물관국립해양박물관국립해양박물관국립해양박물관국립해양박물관국립해양박물관국립해양박물관국립해양박물관국립해양박물관국립해양박물관국립해양박물관다대포 해수욕장(꿈의 낙조분수, 몰운대)다대포 해수욕장(꿈의 낙조분수, 몰운대)다대포 해수욕장(꿈의 낙조분수, 몰운대)다대포 해수욕장(꿈의 낙조분수, 몰운대)다대포 해수욕장(꿈의 낙조분수, 몰운대)다대포 해수욕장(꿈의 낙조분수, 몰운대)다대포 해수욕장(꿈의 낙조분수, 몰운대)다대포 해수욕장(꿈의 낙조분수, 몰운대)다대포 해수욕장(꿈의 낙조분수, 몰운대)다대포 해수욕장(꿈의 낙조분수, 몰운대)다대포 해수욕장(꿈의 낙조분수, 몰운대)다대포 해수욕장(꿈의 낙조분수, 몰운대)다대포 해수욕장(꿈의 낙조분수, 몰운대)다대포 해수욕장(꿈의 낙조분수, 몰운대)다대포 해수욕장(꿈의 낙조분수, 몰운대)다대포 해수욕장(꿈의 낙조분수, 몰운대)동백섬&누리마루APEC하우스동백섬&누리마루APEC하우스동백섬&누리마루APEC하우스동백섬&누리마루APEC하우스동백섬&누리마루APEC하우스동백섬&누리마루APEC하우스동백섬&누리마루APEC하우스동백섬&누리마루APEC하우스동백섬&누리마루APEC하우스동백섬&누리마루APEC하우스동백섬&누리마루APEC하우스동백섬&누리마루APEC하우스동백섬&누리마루APEC하우스동백섬&누리마루APEC하우스동백섬&누리마루APEC하우스동백섬&누리마루APEC하우스렛츠런파크렛츠런파크렛츠런파크렛츠런파크렛츠런파크렛츠런파크렛츠런파크마린시티 카페거리마린시티 카페거리마린시티 카페거리마린시티 카페거리마린시티 카페거리마린시티 카페거리마린시티 카페거리마린시티 카페거리마린시티 카페거리마린시티 카페거리마린시티 카페거리마린시티 카페거리마린시티 카페거리마린시티 카페거리마린시티 카페거리마린시티 카페거리부산서면부산서면부산서면부산서면부산서면부산서면부산서면부산서면부산서면부산서면부산서면부산서면부산서면부산서면부산서면부산서면부산시민공원부산시민공원부산시민공원부산시민공원부산시민공원부산시민공원부산시민공원부산시민공원부산시민공원부산시민공원부산시민공원부산시민공원부산시민공원부산시민공원부산시민공원부산시민공원센텀시티(신세계센텀 등)센텀시티(신세계센텀 등)센텀시티(신세계센텀 등)센텀시티(신세계센텀 등)센텀시티(신세계센텀 등)센텀시티(신세계센텀 등)센텀시티(신세계센텀 등)센텀시티(신세계센텀 등)센텀시티(신세계센텀 등)센텀시티(신세계센텀 등)센텀시티(신세계센텀 등)센텀시티(신세계센텀 등)센텀시티(신세계센텀 등)센텀시티(신세계센텀 등)센텀시티(신세계센텀 등)센텀시티(신세계센텀 등)송도해수욕장송도해수욕장송도해수욕장송도해수욕장송도해수욕장송도해수욕장송도해수욕장송도해수욕장송도해수욕장송도해수욕장송도해수욕장송도해수욕장송도해수욕장송도해수욕장송도해수욕장송도해수욕장송정해수욕장송정해수욕장송정해수욕장송정해수욕장송정해수욕장송정해수욕장송정해수욕장송정해수욕장송정해수욕장송정해수욕장송정해수욕장송정해수욕장송정해수욕장송정해수욕장송정해수욕장송정해수욕장오륙도&이기대 갈맷길오륙도&이기대 갈맷길오륙도&이기대 갈맷길오륙도&이기대 갈맷길오륙도&이기대 갈맷길오륙도&이기대 갈맷길오륙도&이기대 갈맷길오륙도&이기대 갈맷길오륙도&이기대 갈맷길오륙도&이기대 갈맷길오륙도&이기대 갈맷길오륙도&이기대 갈맷길오륙도&이기대 갈맷길오륙도&이기대 갈맷길오륙도&이기대 갈맷길오륙도&이기대 갈맷길을숙도을숙도을숙도을숙도을숙도을숙도을숙도을숙도을숙도을숙도을숙도을숙도을숙도을숙도을숙도을숙도일광해수욕장일광해수욕장일광해수욕장일광해수욕장일광해수욕장일광해수욕장일광해수욕장일광해수욕장일광해수욕장일광해수욕장일광해수욕장일광해수욕장일광해수욕장일광해수욕장일광해수욕장일광해수욕장자갈치·국제시장·부평깡통야시장자갈치·국제시장·부평깡통야시장자갈치·국제시장·부평깡통야시장자갈치·국제시장·부평깡통야시장자갈치·국제시장·부평깡통야시장자갈치·국제시장·부평깡통야시장자갈치·국제시장·부평깡통야시장자갈치·국제시장·부평깡통야시장자갈치·국제시장·부평깡통야시장자갈치·국제시장·부평깡통야시장자갈치·국제시장·부평깡통야시장자갈치·국제시장·부평깡통야시장자갈치·국제시장·부평깡통야시장자갈치·국제시장·부평깡통야시장자갈치·국제시장·부평깡통야시장자갈치·국제시장·부평깡통야시장전포카페거리전포카페거리전포카페거리전포카페거리전포카페거리전포카페거리전포카페거리전포카페거리전포카페거리전포카페거리전포카페거리전포카페거리전포카페거리전포카페거리전포카페거리전포카페거리태종대태종대태종대태종대태종대태종대태종대태종대태종대태종대태종대태종대태종대태종대태종대태종대해운대해수욕장해운대해수욕장해운대해수욕장해운대해수욕장해운대해수욕장해운대해수욕장해운대해수욕장해운대해수욕장해운대해수욕장해운대해수욕장해운대해수욕장해운대해수욕장해운대해수욕장해운대해수욕장해운대해수욕장해운대해수욕장흰여울문화마을흰여울문화마을흰여울문화마을흰여울문화마을흰여울문화마을흰여울문화마을흰여울문화마을흰여울문화마을흰여울문화마을흰여울문화마을흰여울문화마을흰여울문화마을흰여울문화마을흰여울문화마을흰여울문화마을흰여울문화마을BIFF광장&용두산공원&보수동책방골목BIFF광장&용두산공원&보수동책방골목BIFF광장&용두산공원&보수동책방골목BIFF광장&용두산공원&보수동책방골목BIFF광장&용두산공원&보수동책방골목BIFF광장&용두산공원&보수동책방골목BIFF광장&용두산공원&보수동책방골목BIFF광장&용두산공원&보수동책방골목BIFF광장&용두산공원&보수동책방골목BIFF광장&용두산공원&보수동책방골목BIFF광장&용두산공원&보수동책방골목BIFF광장&용두산공원&보수동책방골목BIFF광장&용두산공원&보수동책방골목BIFF광장&용두산공원&보수동책방골목BIFF광장&용두산공원&보수동책방골목BIFF광장&용두산공원&보수동책방골목감천문화마을감천문화마을감천문화마을감천문화마을감천문화마을감천문화마을감천문화마을감천문화마을감천문화마을감천문화마을감천문화마을감천문화마을감천문화마을감천문화마을감천문화마을감천문화마을국립해양박물관국립해양박물관국립해양박물관국립해양박물관국립해양박물관국립해양박물관국립해양박물관국립해양박물관국립해양박물관국립해양박물관다대포 해수욕장(꿈의 낙조분수, 몰운대)다대포 해수욕장(꿈의 낙조분수, 몰운대)다대포 해수욕장(꿈의 낙조분수, 몰운대)다대포 해수욕장(꿈의 낙조분수, 몰운대)다대포 해수욕장(꿈의 낙조분수, 몰운대)다대포 해수욕장(꿈의 낙조분수, 몰운대)다대포 해수욕장(꿈의 낙조분수, 몰운대)다대포 해수욕장(꿈의 낙조분수, 몰운대)다대포 해수욕장(꿈의 낙조분수, 몰운대)다대포 해수욕장(꿈의 낙조분수, 몰운대)다대포 해수욕장(꿈의 낙조분수, 몰운대)다대포 해수욕장(꿈의 낙조분수, 몰운대)다대포 해수욕장(꿈의 낙조분수, 몰운대)다대포 해수욕장(꿈의 낙조분수, 몰운대)다대포 해수욕장(꿈의 낙조분수, 몰운대)다대포 해수욕장(꿈의 낙조분수, 몰운대)동백섬&누리마루APEC하우스동백섬&누리마루APEC하우스동백섬&누리마루APEC하우스동백섬&누리마루APEC하우스동백섬&누리마루APEC하우스동백섬&누리마루APEC하우스동백섬&누리마루APEC하우스동백섬&누리마루APEC하우스동백섬&누리마루APEC하우스동백섬&누리마루APEC하우스동백섬&누리마루APEC하우스동백섬&누리마루APEC하우스동백섬&누리마루APEC하우스동백섬&누리마루APEC하우스동백섬&누리마루APEC하우스동백섬&누리마루APEC하우스렛츠런파크렛츠런파크마린시티 카페거리마린시티 카페거리마린시티 카페거리마린시티 카페거리마린시티 카페거리마린시티 카페거리마린시티 카페거리마린시티 카페거리마린시티 카페거리마린시티 카페거리마린시티 카페거리마린시티 카페거리마린시티 카페거리마린시티 카페거리마린시티 카페거리마린시티 카페거리부산서면부산서면부산서면부산서면부산서면부산서면부산서면부산서면부산서면부산서면부산서면부산서면부산서면부산서면부산서면부산서면부산시민공원부산시민공원부산시민공원부산시민공원부산시민공원부산시민공원부산시민공원부산시민공원부산시민공원부산시민공원부산시민공원부산시민공원부산시민공원부산시민공원센텀시티(신세계센텀 등)센텀시티(신세계센텀 등)센텀시티(신세계센텀 등)센텀시티(신세계센텀 등)센텀시티(신세계센텀 등)센텀시티(신세계센텀 등)센텀시티(신세계센텀 등)센텀시티(신세계센텀 등)센텀시티(신세계센텀 등)센텀시티(신세계센텀 등)센텀시티(신세계센텀 등)센텀시티(신세계센텀 등)센텀시티(신세계센텀 등)센텀시티(신세계센텀 등)센텀시티(신세계센텀 등)센텀시티(신세계센텀 등)송도해수욕장송도해수욕장송도해수욕장송도해수욕장송도해수욕장송도해수욕장송도해수욕장송도해수욕장송도해수욕장송도해수욕장송도해수욕장송도해수욕장송도해수욕장송도해수욕장송도해수욕장송도해수욕장송정해수욕장송정해수욕장송정해수욕장송정해수욕장송정해수욕장송정해수욕장송정해수욕장송정해수욕장송정해수욕장송정해수욕장송정해수욕장송정해수욕장송정해수욕장송정해수욕장송정해수욕장송정해수욕장오륙도&이기대 갈맷길오륙도&이기대 갈맷길오륙도&이기대 갈맷길오륙도&이기대 갈맷길오륙도&이기대 갈맷길오륙도&이기대 갈맷길오륙도&이기대 갈맷길오륙도&이기대 갈맷길오륙도&이기대 갈맷길오륙도&이기대 갈맷길오륙도&이기대 갈맷길오륙도&이기대 갈맷길오륙도&이기대 갈맷길오륙도&이기대 갈맷길오륙도&이기대 갈맷길오륙도&이기대 갈맷길을숙도을숙도을숙도을숙도을숙도을숙도을숙도을숙도을숙도을숙도을숙도을숙도을숙도을숙도을숙도을숙도일광해수욕장일광해수욕장일광해수욕장일광해수욕장일광해수욕장일광해수욕장일광해수욕장일광해수욕장일광해수욕장일광해수욕장일광해수욕장일광해수욕장일광해수욕장일광해수욕장일광해수욕장일광해수욕장자갈치·국제시장·부평깡통야시장자갈치·국제시장·부평깡통야시장자갈치·국제시장·부평깡통야시장자갈치·국제시장·부평깡통야시장자갈치·국제시장·부평깡통야시장자갈치·국제시장·부평깡통야시장자갈치·국제시장·부평깡통야시장자갈치·국제시장·부평깡통야시장자갈치·국제시장·부평깡통야시장자갈치·국제시장·부평깡통야시장자갈치·국제시장·부평깡통야시장자갈치·국제시장·부평깡통야시장자갈치·국제시장·부평깡통야시장자갈치·국제시장·부평깡통야시장자갈치·국제시장·부평깡통야시장자갈치·국제시장·부평깡통야시장전포카페거리전포카페거리전포카페거리전포카페거리전포카페거리전포카페거리전포카페거리전포카페거리전포카페거리전포카페거리전포카페거리전포카페거리전포카페거리전포카페거리전포카페거리전포카페거리태종대태종대태종대태종대태종대태종대태종대태종대태종대태종대태종대태종대태종대태종대태종대태종대해운대해수욕장해운대해수욕장해운대해수욕장해운대해수욕장해운대해수욕장해운대해수욕장해운대해수욕장해운대해수욕장해운대해수욕장해운대해수욕장해운대해수욕장해운대해수욕장해운대해수욕장해운대해수욕장해운대해수욕장해운대해수욕장흰여울문화마을흰여울문화마을흰여울문화마을흰여울문화마을흰여울문화마을흰여울문화마을흰여울문화마을흰여울문화마을흰여울문화마을흰여울문화마을흰여울문화마을흰여울문화마을흰여울문화마을흰여울문화마을흰여울문화마을흰여울문화마을BIFF광장&용두산공원&보수동책방골목BIFF광장&용두산공원&보수동책방골목BIFF광장&용두산공원&보수동책방골목BIFF광장&용두산공원&보수동책방골목BIFF광장&용두산공원&보수동책방골목BIFF광장&용두산공원&보수동책방골목BIFF광장&용두산공원&보수동책방골목BIFF광장&용두산공원&보수동책방골목BIFF광장&용두산공원&보수동책방골목BIFF광장&용두산공원&보수동책방골목BIFF광장&용두산공원&보수동책방골목BIFF광장&용두산공원&보수동책방골목BIFF광장&용두산공원&보수동책방골목BIFF광장&용두산공원&보수동책방골목BIFF광장&용두산공원&보수동책방골목BIFF광장&용두산공원&보수동책방골목BIFF광장&용두산공원&보수동책방골목BIFF광장&용두산공원&보수동책방골목BIFF광장&용두산공원&보수동책방골목BIFF광장&용두산공원&보수동책방골목BIFF광장&용두산공원&보수동책방골목BIFF광장&용두산공원&보수동책방골목BIFF광장&용두산공원&보수동책방골목BIFF광장&용두산공원&보수동책방골목BIFF광장&용두산공원&보수동책방골목BIFF광장&용두산공원&보수동책방골목BIFF광장&용두산공원&보수동책방골목BIFF광장&용두산공원&보수동책방골목BIFF광장&용두산공원&보수동책방골목BIFF광장&용두산공원&보수동책방골목BIFF광장&용두산공원&보수동책방골목BIFF광장&용두산공원&보수동책방골목BIFF광장&용두산공원&보수동책방골목BIFF광장&용두산공원&보수동책방골목감천문화마을감천문화마을감천문화마을감천문화마을감천문화마을감천문화마을감천문화마을감천문화마을감천문화마을감천문화마을감천문화마을감천문화마을감천문화마을감천문화마을감천문화마을감천문화마을감천문화마을감천문화마을감천문화마을감천문화마을감천문화마을감천문화마을감천문화마을감천문화마을감천문화마을감천문화마을감천문화마을감천문화마을감천문화마을감천문화마을감천문화마을감천문화마을감천문화마을감천문화마을광안리해수욕장광안리해수욕장광안리해수욕장광안리해수욕장광안리해수욕장광안리해수욕장광안리해수욕장광안리해수욕장광안리해수욕장광안리해수욕장광안리해수욕장광안리해수욕장광안리해수욕장광안리해수욕장광안리해수욕장광안리해수욕장광안리해수욕장광안리해수욕장광안리해수욕장광안리해수욕장광안리해수욕장광안리해수욕장광안리해수욕장광안리해수욕장광안리해수욕장광안리해수욕장광안리해수욕장광안리해수욕장광안리해수욕장광안리해수욕장광안리해수욕장광안리해수욕장광안리해수욕장광안리해수욕장국립해양박물관국립해양박물관국립해양박물관국립해양박물관국립해양박물관국립해양박물관국립해양박물관국립해양박물관국립해양박물관국립해양박물관국립해양박물관국립해양박물관국립해양박물관국립해양박물관국립해양박물관국립해양박물관국립해양박물관국립해양박물관국립해양박물관국립해양박물관국립해양박물관국립해양박물관국립해양박물관국립해양박물관다대포 해수욕장(꿈의 낙조분수, 몰운대)다대포 해수욕장(꿈의 낙조분수, 몰운대)다대포 해수욕장(꿈의 낙조분수, 몰운대)다대포 해수욕장(꿈의 낙조분수, 몰운대)다대포 해수욕장(꿈의 낙조분수, 몰운대)다대포 해수욕장(꿈의 낙조분수, 몰운대)다대포 해수욕장(꿈의 낙조분수, 몰운대)다대포 해수욕장(꿈의 낙조분수, 몰운대)다대포 해수욕장(꿈의 낙조분수, 몰운대)다대포 해수욕장(꿈의 낙조분수, 몰운대)다대포 해수욕장(꿈의 낙조분수, 몰운대)다대포 해수욕장(꿈의 낙조분수, 몰운대)다대포 해수욕장(꿈의 낙조분수, 몰운대)다대포 해수욕장(꿈의 낙조분수, 몰운대)다대포 해수욕장(꿈의 낙조분수, 몰운대)다대포 해수욕장(꿈의 낙조분수, 몰운대)다대포 해수욕장(꿈의 낙조분수, 몰운대)다대포 해수욕장(꿈의 낙조분수, 몰운대)다대포 해수욕장(꿈의 낙조분수, 몰운대)다대포 해수욕장(꿈의 낙조분수, 몰운대)다대포 해수욕장(꿈의 낙조분수, 몰운대)다대포 해수욕장(꿈의 낙조분수, 몰운대)다대포 해수욕장(꿈의 낙조분수, 몰운대)다대포 해수욕장(꿈의 낙조분수, 몰운대)다대포 해수욕장(꿈의 낙조분수, 몰운대)다대포 해수욕장(꿈의 낙조분수, 몰운대)다대포 해수욕장(꿈의 낙조분수, 몰운대)다대포 해수욕장(꿈의 낙조분수, 몰운대)다대포 해수욕장(꿈의 낙조분수, 몰운대)다대포 해수욕장(꿈의 낙조분수, 몰운대)다대포 해수욕장(꿈의 낙조분수, 몰운대)다대포 해수욕장(꿈의 낙조분수, 몰운대)다대포 해수욕장(꿈의 낙조분수, 몰운대)다대포 해수욕장(꿈의 낙조분수, 몰운대)동백섬&누리마루APEC하우스동백섬&누리마루APEC하우스동백섬&누리마루APEC하우스동백섬&누리마루APEC하우스동백섬&누리마루APEC하우스동백섬&누리마루APEC하우스동백섬&누리마루APEC하우스동백섬&누리마루APEC하우스동백섬&누리마루APEC하우스동백섬&누리마루APEC하우스동백섬&누리마루APEC하우스동백섬&누리마루APEC하우스동백섬&누리마루APEC하우스동백섬&누리마루APEC하우스동백섬&누리마루APEC하우스동백섬&누리마루APEC하우스동백섬&누리마루APEC하우스동백섬&누리마루APEC하우스동백섬&누리마루APEC하우스동백섬&누리마루APEC하우스동백섬&누리마루APEC하우스동백섬&누리마루APEC하우스동백섬&누리마루APEC하우스동백섬&누리마루APEC하우스동백섬&누리마루APEC하우스동백섬&누리마루APEC하우스동백섬&누리마루APEC하우스동백섬&누리마루APEC하우스동백섬&누리마루APEC하우스동백섬&누리마루APEC하우스동백섬&누리마루APEC하우스동백섬&누리마루APEC하우스동백섬&누리마루APEC하우스동백섬&누리마루APEC하우스렛츠런파크렛츠런파크렛츠런파크렛츠런파크렛츠런파크렛츠런파크렛츠런파크렛츠런파크렛츠런파크마린시티 카페거리마린시티 카페거리마린시티 카페거리마린시티 카페거리마린시티 카페거리마린시티 카페거리마린시티 카페거리마린시티 카페거리마린시티 카페거리마린시티 카페거리마린시티 카페거리마린시티 카페거리마린시티 카페거리마린시티 카페거리마린시티 카페거리마린시티 카페거리마린시티 카페거리마린시티 카페거리마린시티 카페거리마린시티 카페거리마린시티 카페거리마린시티 카페거리마린시티 카페거리마린시티 카페거리마린시티 카페거리마린시티 카페거리마린시티 카페거리마린시티 카페거리마린시티 카페거리마린시티 카페거리마린시티 카페거리마린시티 카페거리마린시티 카페거리마린시티 카페거리부산서면부산서면부산서면부산서면부산서면부산서면부산서면부산서면부산서면부산서면부산서면부산서면부산서면부산서면부산서면부산서면부산서면부산서면부산서면부산서면부산서면부산서면부산서면부산서면부산서면부산서면부산서면부산서면부산서면부산서면부산서면부산서면부산서면부산서면부산시민공원부산시민공원부산시민공원부산시민공원부산시민공원부산시민공원부산시민공원부산시민공원부산시민공원부산시민공원부산시민공원부산시민공원부산시민공원부산시민공원부산시민공원부산시민공원부산시민공원부산시민공원부산시민공원부산시민공원부산시민공원부산시민공원부산시민공원부산시민공원부산시민공원부산시민공원부산시민공원부산시민공원부산시민공원부산시민공원부산시민공원센텀시티(신세계센텀 등)센텀시티(신세계센텀 등)센텀시티(신세계센텀 등)센텀시티(신세계센텀 등)센텀시티(신세계센텀 등)센텀시티(신세계센텀 등)센텀시티(신세계센텀 등)센텀시티(신세계센텀 등)센텀시티(신세계센텀 등)센텀시티(신세계센텀 등)센텀시티(신세계센텀 등)센텀시티(신세계센텀 등)센텀시티(신세계센텀 등)센텀시티(신세계센텀 등)센텀시티(신세계센텀 등)센텀시티(신세계센텀 등)센텀시티(신세계센텀 등)센텀시티(신세계센텀 등)센텀시티(신세계센텀 등)센텀시티(신세계센텀 등)센텀시티(신세계센텀 등)센텀시티(신세계센텀 등)센텀시티(신세계센텀 등)센텀시티(신세계센텀 등)센텀시티(신세계센텀 등)센텀시티(신세계센텀 등)센텀시티(신세계센텀 등)센텀시티(신세계센텀 등)센텀시티(신세계센텀 등)센텀시티(신세계센텀 등)센텀시티(신세계센텀 등)센텀시티(신세계센텀 등)센텀시티(신세계센텀 등)센텀시티(신세계센텀 등)송도해수욕장송도해수욕장송도해수욕장송도해수욕장송도해수욕장송도해수욕장송도해수욕장송도해수욕장송도해수욕장송도해수욕장송도해수욕장송도해수욕장송도해수욕장송도해수욕장송도해수욕장송도해수욕장송도해수욕장송도해수욕장송도해수욕장송도해수욕장송도해수욕장송도해수욕장송도해수욕장송도해수욕장송도해수욕장송도해수욕장송도해수욕장송도해수욕장송도해수욕장송도해수욕장송도해수욕장송도해수욕장송도해수욕장송도해수욕장송정해수욕장송정해수욕장송정해수욕장송정해수욕장송정해수욕장송정해수욕장송정해수욕장송정해수욕장송정해수욕장송정해수욕장송정해수욕장송정해수욕장송정해수욕장송정해수욕장송정해수욕장송정해수욕장송정해수욕장송정해수욕장송정해수욕장송정해수욕장송정해수욕장송정해수욕장송정해수욕장송정해수욕장송정해수욕장송정해수욕장송정해수욕장송정해수욕장송정해수욕장송정해수욕장송정해수욕장송정해수욕장송정해수욕장송정해수욕장오륙도&이기대 갈맷길오륙도&이기대 갈맷길오륙도&이기대 갈맷길오륙도&이기대 갈맷길오륙도&이기대 갈맷길오륙도&이기대 갈맷길오륙도&이기대 갈맷길오륙도&이기대 갈맷길오륙도&이기대 갈맷길오륙도&이기대 갈맷길오륙도&이기대 갈맷길오륙도&이기대 갈맷길오륙도&이기대 갈맷길오륙도&이기대 갈맷길오륙도&이기대 갈맷길오륙도&이기대 갈맷길오륙도&이기대 갈맷길오륙도&이기대 갈맷길오륙도&이기대 갈맷길오륙도&이기대 갈맷길오륙도&이기대 갈맷길오륙도&이기대 갈맷길오륙도&이기대 갈맷길오륙도&이기대 갈맷길오륙도&이기대 갈맷길오륙도&이기대 갈맷길오륙도&이기대 갈맷길오륙도&이기대 갈맷길오륙도&이기대 갈맷길오륙도&이기대 갈맷길오륙도&이기대 갈맷길오륙도&이기대 갈맷길오륙도&이기대 갈맷길오륙도&이기대 갈맷길을숙도을숙도을숙도을숙도을숙도을숙도을숙도을숙도을숙도을숙도을숙도을숙도을숙도을숙도을숙도을숙도을숙도을숙도을숙도을숙도을숙도을숙도을숙도을숙도을숙도을숙도을숙도을숙도을숙도을숙도을숙도일광해수욕장일광해수욕장일광해수욕장일광해수욕장일광해수욕장일광해수욕장일광해수욕장일광해수욕장일광해수욕장일광해수욕장일광해수욕장일광해수욕장일광해수욕장일광해수욕장일광해수욕장일광해수욕장일광해수욕장일광해수욕장일광해수욕장일광해수욕장일광해수욕장일광해수욕장일광해수욕장일광해수욕장일광해수욕장일광해수욕장일광해수욕장일광해수욕장일광해수욕장일광해수욕장일광해수욕장일광해수욕장일광해수욕장일광해수욕장자갈치·국제시장·부평깡통야시장자갈치·국제시장·부평깡통야시장자갈치·국제시장·부평깡통야시장자갈치·국제시장·부평깡통야시장자갈치·국제시장·부평깡통야시장자갈치·국제시장·부평깡통야시장자갈치·국제시장·부평깡통야시장자갈치·국제시장·부평깡통야시장자갈치·국제시장·부평깡통야시장자갈치·국제시장·부평깡통야시장자갈치·국제시장·부평깡통야시장자갈치·국제시장·부평깡통야시장자갈치·국제시장·부평깡통야시장자갈치·국제시장·부평깡통야시장자갈치·국제시장·부평깡통야시장자갈치·국제시장·부평깡통야시장자갈치·국제시장·부평깡통야시장자갈치·국제시장·부평깡통야시장자갈치·국제시장·부평깡통야시장자갈치·국제시장·부평깡통야시장자갈치·국제시장·부평깡통야시장자갈치·국제시장·부평깡통야시장자갈치·국제시장·부평깡통야시장자갈치·국제시장·부평깡통야시장자갈치·국제시장·부평깡통야시장자갈치·국제시장·부평깡통야시장자갈치·국제시장·부평깡통야시장자갈치·국제시장·부평깡통야시장자갈치·국제시장·부평깡통야시장자갈치·국제시장·부평깡통야시장자갈치·국제시장·부평깡통야시장자갈치·국제시장·부평깡통야시장자갈치·국제시장·부평깡통야시장자갈치·국제시장·부평깡통야시장전포카페거리전포카페거리전포카페거리전포카페거리전포카페거리전포카페거리전포카페거리전포카페거리전포카페거리전포카페거리전포카페거리전포카페거리전포카페거리전포카페거리전포카페거리전포카페거리전포카페거리전포카페거리전포카페거리전포카페거리전포카페거리전포카페거리전포카페거리전포카페거리전포카페거리전포카페거리전포카페거리전포카페거리전포카페거리전포카페거리전포카페거리전포카페거리전포카페거리전포카페거리태종대태종대태종대태종대태종대태종대태종대태종대태종대태종대태종대태종대태종대태종대태종대태종대태종대태종대태종대태종대태종대태종대태종대태종대태종대태종대태종대태종대태종대태종대태종대태종대태종대태종대해운대해수욕장해운대해수욕장해운대해수욕장해운대해수욕장해운대해수욕장해운대해수욕장해운대해수욕장해운대해수욕장해운대해수욕장해운대해수욕장해운대해수욕장해운대해수욕장해운대해수욕장해운대해수욕장해운대해수욕장해운대해수욕장해운대해수욕장해운대해수욕장해운대해수욕장해운대해수욕장해운대해수욕장해운대해수욕장해운대해수욕장해운대해수욕장해운대해수욕장해운대해수욕장해운대해수욕장해운대해수욕장해운대해수욕장해운대해수욕장해운대해수욕장해운대해수욕장해운대해수욕장해운대해수욕장흰여울문화마을흰여울문화마을흰여울문화마을흰여울문화마을흰여울문화마을흰여울문화마을흰여울문화마을흰여울문화마을흰여울문화마을흰여울문화마을흰여울문화마을흰여울문화마을흰여울문화마을흰여울문화마을흰여울문화마을흰여울문화마을흰여울문화마을흰여울문화마을흰여울문화마을흰여울문화마을흰여울문화마을흰여울문화마을흰여울문화마을흰여울문화마을흰여울문화마을흰여울문화마을흰여울문화마을흰여울문화마을흰여울문화마을흰여울문화마을흰여울문화마을흰여울문화마을흰여울문화마을흰여울문화마을BIFF광장&용두산공원&보수동책방골목BIFF광장&용두산공원&보수동책방골목BIFF광장&용두산공원&보수동책방골목BIFF광장&용두산공원&보수동책방골목BIFF광장&용두산공원&보수동책방골목BIFF광장&용두산공원&보수동책방골목BIFF광장&용두산공원&보수동책방골목BIFF광장&용두산공원&보수동책방골목BIFF광장&용두산공원&보수동책방골목BIFF광장&용두산공원&보수동책방골목BIFF광장&용두산공원&보수동책방골목BIFF광장&용두산공원&보수동책방골목BIFF광장&용두산공원&보수동책방골목BIFF광장&용두산공원&보수동책방골목BIFF광장&용두산공원&보수동책방골목BIFF광장&용두산공원&보수동책방골목BIFF광장&용두산공원&보수동책방골목감천문화마을감천문화마을감천문화마을감천문화마을감천문화마을감천문화마을감천문화마을감천문화마을감천문화마을감천문화마을감천문화마을감천문화마을감천문화마을감천문화마을감천문화마을감천문화마을감천문화마을광안리해수욕장광안리해수욕장광안리해수욕장광안리해수욕장광안리해수욕장광안리해수욕장광안리해수욕장광안리해수욕장광안리해수욕장광안리해수욕장광안리해수욕장광안리해수욕장광안리해수욕장광안리해수욕장광안리해수욕장광안리해수욕장광안리해수욕장국립해양박물관국립해양박물관국립해양박물관국립해양박물관국립해양박물관국립해양박물관국립해양박물관국립해양박물관국립해양박물관국립해양박물관국립해양박물관국립해양박물관국립해양박물관국립해양박물관국립해양박물관다대포 해수욕장(꿈의 낙조분수, 몰운대)다대포 해수욕장(꿈의 낙조분수, 몰운대)다대포 해수욕장(꿈의 낙조분수, 몰운대)다대포 해수욕장(꿈의 낙조분수, 몰운대)다대포 해수욕장(꿈의 낙조분수, 몰운대)다대포 해수욕장(꿈의 낙조분수, 몰운대)다대포 해수욕장(꿈의 낙조분수, 몰운대)다대포 해수욕장(꿈의 낙조분수, 몰운대)다대포 해수욕장(꿈의 낙조분수, 몰운대)다대포 해수욕장(꿈의 낙조분수, 몰운대)다대포 해수욕장(꿈의 낙조분수, 몰운대)다대포 해수욕장(꿈의 낙조분수, 몰운대)다대포 해수욕장(꿈의 낙조분수, 몰운대)다대포 해수욕장(꿈의 낙조분수, 몰운대)다대포 해수욕장(꿈의 낙조분수, 몰운대)다대포 해수욕장(꿈의 낙조분수, 몰운대)다대포 해수욕장(꿈의 낙조분수, 몰운대)동백섬&누리마루APEC하우스동백섬&누리마루APEC하우스동백섬&누리마루APEC하우스동백섬&누리마루APEC하우스동백섬&누리마루APEC하우스동백섬&누리마루APEC하우스동백섬&누리마루APEC하우스동백섬&누리마루APEC하우스동백섬&누리마루APEC하우스동백섬&누리마루APEC하우스동백섬&누리마루APEC하우스동백섬&누리마루APEC하우스동백섬&누리마루APEC하우스동백섬&누리마루APEC하우스동백섬&누리마루APEC하우스동백섬&누리마루APEC하우스동백섬&누리마루APEC하우스렛츠런파크렛츠런파크렛츠런파크마린시티 카페거리마린시티 카페거리마린시티 카페거리마린시티 카페거리마린시티 카페거리마린시티 카페거리마린시티 카페거리마린시티 카페거리마린시티 카페거리마린시티 카페거리마린시티 카페거리마린시티 카페거리마린시티 카페거리마린시티 카페거리마린시티 카페거리마린시티 카페거리마린시티 카페거리부산서면부산서면부산서면부산서면부산서면부산서면부산서면부산서면부산서면부산서면부산서면부산서면부산서면부산서면부산서면부산서면부산서면부산시민공원부산시민공원부산시민공원부산시민공원부산시민공원부산시민공원부산시민공원부산시민공원부산시민공원부산시민공원부산시민공원부산시민공원부산시민공원부산시민공원부산시민공원부산시민공원부산시민공원센텀시티(신세계센텀 등)센텀시티(신세계센텀 등)센텀시티(신세계센텀 등)센텀시티(신세계센텀 등)센텀시티(신세계센텀 등)센텀시티(신세계센텀 등)센텀시티(신세계센텀 등)센텀시티(신세계센텀 등)센텀시티(신세계센텀 등)센텀시티(신세계센텀 등)센텀시티(신세계센텀 등)센텀시티(신세계센텀 등)센텀시티(신세계센텀 등)센텀시티(신세계센텀 등)센텀시티(신세계센텀 등)센텀시티(신세계센텀 등)센텀시티(신세계센텀 등)송도해수욕장송도해수욕장송도해수욕장송도해수욕장송도해수욕장송도해수욕장송도해수욕장송도해수욕장송도해수욕장송도해수욕장송도해수욕장송도해수욕장송도해수욕장송도해수욕장송도해수욕장송도해수욕장송도해수욕장송정해수욕장송정해수욕장송정해수욕장송정해수욕장송정해수욕장송정해수욕장송정해수욕장송정해수욕장송정해수욕장송정해수욕장송정해수욕장송정해수욕장송정해수욕장송정해수욕장송정해수욕장송정해수욕장송정해수욕장오륙도&이기대 갈맷길오륙도&이기대 갈맷길오륙도&이기대 갈맷길오륙도&이기대 갈맷길오륙도&이기대 갈맷길오륙도&이기대 갈맷길오륙도&이기대 갈맷길오륙도&이기대 갈맷길오륙도&이기대 갈맷길오륙도&이기대 갈맷길오륙도&이기대 갈맷길오륙도&이기대 갈맷길오륙도&이기대 갈맷길오륙도&이기대 갈맷길오륙도&이기대 갈맷길오륙도&이기대 갈맷길오륙도&이기대 갈맷길을숙도을숙도을숙도을숙도을숙도을숙도을숙도을숙도을숙도을숙도을숙도을숙도을숙도을숙도을숙도을숙도일광해수욕장일광해수욕장일광해수욕장일광해수욕장일광해수욕장일광해수욕장일광해수욕장일광해수욕장일광해수욕장일광해수욕장일광해수욕장일광해수욕장일광해수욕장일광해수욕장일광해수욕장일광해수욕장일광해수욕장자갈치·국제시장·부평깡통야시장자갈치·국제시장·부평깡통야시장자갈치·국제시장·부평깡통야시장자갈치·국제시장·부평깡통야시장자갈치·국제시장·부평깡통야시장자갈치·국제시장·부평깡통야시장자갈치·국제시장·부평깡통야시장자갈치·국제시장·부평깡통야시장자갈치·국제시장·부평깡통야시장자갈치·국제시장·부평깡통야시장자갈치·국제시장·부평깡통야시장자갈치·국제시장·부평깡통야시장자갈치·국제시장·부평깡통야시장자갈치·국제시장·부평깡통야시장자갈치·국제시장·부평깡통야시장자갈치·국제시장·부평깡통야시장자갈치·국제시장·부평깡통야시장전포카페거리전포카페거리전포카페거리전포카페거리전포카페거리전포카페거리전포카페거리전포카페거리전포카페거리전포카페거리전포카페거리전포카페거리전포카페거리전포카페거리전포카페거리전포카페거리전포카페거리태종대태종대태종대태종대태종대태종대태종대태종대태종대태종대태종대태종대태종대태종대태종대태종대태종대해운대해수욕장해운대해수욕장해운대해수욕장해운대해수욕장해운대해수욕장해운대해수욕장해운대해수욕장해운대해수욕장해운대해수욕장해운대해수욕장해운대해수욕장해운대해수욕장해운대해수욕장해운대해수욕장해운대해수욕장해운대해수욕장해운대해수욕장흰여울문화마을흰여울문화마을흰여울문화마을흰여울문화마을흰여울문화마을흰여울문화마을흰여울문화마을흰여울문화마을흰여울문화마을흰여울문화마을흰여울문화마을흰여울문화마을흰여울문화마을흰여울문화마을흰여울문화마을흰여울문화마을흰여울문화마을'"
      ]
     },
     "execution_count": 49,
     "metadata": {},
     "output_type": "execute_result"
    }
   ],
   "source": [
    "# 말뭉치 생성\n",
    "corpus = \"\".join(df['PLC_NM'].tolist())\n",
    "corpus"
   ]
  },
  {
   "cell_type": "code",
   "execution_count": 50,
   "id": "ed2924d8",
   "metadata": {},
   "outputs": [
    {
     "data": {
      "text/plain": [
       "'광장용두산공원보수동책방골목광장용두산공원보수동책방골목광장용두산공원보수동책방골목광장용두산공원보수동책방골목광장용두산공원보수동책방골목광장용두산공원보수동책방골목광장용두산공원보수동책방골목광장용두산공원보수동책방골목광장용두산공원보수동책방골목광장용두산공원보수동책방골목광장용두산공원보수동책방골목광장용두산공원보수동책방골목광장용두산공원보수동책방골목광장용두산공원보수동책방골목광장용두산공원보수동책방골목광장용두산공원보수동책방골목감천문화마을감천문화마을감천문화마을감천문화마을감천문화마을감천문화마을감천문화마을감천문화마을감천문화마을감천문화마을감천문화마을감천문화마을감천문화마을감천문화마을감천문화마을감천문화마을광안리해수욕장광안리해수욕장광안리해수욕장광안리해수욕장광안리해수욕장광안리해수욕장광안리해수욕장광안리해수욕장광안리해수욕장광안리해수욕장광안리해수욕장광안리해수욕장광안리해수욕장광안리해수욕장광안리해수욕장광안리해수욕장국립해양박물관국립해양박물관국립해양박물관국립해양박물관국립해양박물관국립해양박물관국립해양박물관국립해양박물관국립해양박물관국립해양박물관국립해양박물관국립해양박물관국립해양박물관국립해양박물관국립해양박물관국립해양박물관다대포 해수욕장꿈의 낙조분수 몰운대다대포 해수욕장꿈의 낙조분수 몰운대다대포 해수욕장꿈의 낙조분수 몰운대다대포 해수욕장꿈의 낙조분수 몰운대다대포 해수욕장꿈의 낙조분수 몰운대다대포 해수욕장꿈의 낙조분수 몰운대다대포 해수욕장꿈의 낙조분수 몰운대다대포 해수욕장꿈의 낙조분수 몰운대다대포 해수욕장꿈의 낙조분수 몰운대다대포 해수욕장꿈의 낙조분수 몰운대다대포 해수욕장꿈의 낙조분수 몰운대다대포 해수욕장꿈의 낙조분수 몰운대다대포 해수욕장꿈의 낙조분수 몰운대다대포 해수욕장꿈의 낙조분수 몰운대다대포 해수욕장꿈의 낙조분수 몰운대다대포 해수욕장꿈의 낙조분수 몰운대동백섬누리마루하우스동백섬누리마루하우스동백섬누리마루하우스동백섬누리마루하우스동백섬누리마루하우스동백섬누리마루하우스동백섬누리마루하우스동백섬누리마루하우스동백섬누리마루하우스동백섬누리마루하우스동백섬누리마루하우스동백섬누리마루하우스동백섬누리마루하우스동백섬누리마루하우스동백섬누리마루하우스동백섬누리마루하우스렛츠런파크렛츠런파크렛츠런파크렛츠런파크렛츠런파크렛츠런파크렛츠런파크렛츠런파크렛츠런파크렛츠런파크렛츠런파크렛츠런파크렛츠런파크렛츠런파크마린시티 카페거리마린시티 카페거리마린시티 카페거리마린시티 카페거리마린시티 카페거리마린시티 카페거리마린시티 카페거리마린시티 카페거리마린시티 카페거리마린시티 카페거리마린시티 카페거리마린시티 카페거리마린시티 카페거리마린시티 카페거리마린시티 카페거리마린시티 카페거리부산서면부산서면부산서면부산서면부산서면부산서면부산서면부산서면부산서면부산서면부산서면부산서면부산서면부산서면부산서면부산서면부산시민공원부산시민공원부산시민공원부산시민공원부산시민공원부산시민공원부산시민공원부산시민공원부산시민공원부산시민공원부산시민공원부산시민공원부산시민공원부산시민공원부산시민공원부산시민공원센텀시티신세계센텀 등센텀시티신세계센텀 등센텀시티신세계센텀 등센텀시티신세계센텀 등센텀시티신세계센텀 등센텀시티신세계센텀 등센텀시티신세계센텀 등센텀시티신세계센텀 등센텀시티신세계센텀 등센텀시티신세계센텀 등센텀시티신세계센텀 등센텀시티신세계센텀 등센텀시티신세계센텀 등센텀시티신세계센텀 등센텀시티신세계센텀 등센텀시티신세계센텀 등송도해수욕장송도해수욕장송도해수욕장송도해수욕장송도해수욕장송도해수욕장송도해수욕장송도해수욕장송도해수욕장송도해수욕장송도해수욕장송도해수욕장송도해수욕장송도해수욕장송도해수욕장송도해수욕장송정해수욕장송정해수욕장송정해수욕장송정해수욕장송정해수욕장송정해수욕장송정해수욕장송정해수욕장송정해수욕장송정해수욕장송정해수욕장송정해수욕장송정해수욕장송정해수욕장송정해수욕장송정해수욕장오륙도이기대 갈맷길오륙도이기대 갈맷길오륙도이기대 갈맷길오륙도이기대 갈맷길오륙도이기대 갈맷길오륙도이기대 갈맷길오륙도이기대 갈맷길오륙도이기대 갈맷길오륙도이기대 갈맷길오륙도이기대 갈맷길오륙도이기대 갈맷길오륙도이기대 갈맷길오륙도이기대 갈맷길오륙도이기대 갈맷길오륙도이기대 갈맷길오륙도이기대 갈맷길을숙도을숙도을숙도을숙도을숙도을숙도을숙도을숙도을숙도을숙도을숙도을숙도을숙도을숙도을숙도을숙도일광해수욕장일광해수욕장일광해수욕장일광해수욕장일광해수욕장일광해수욕장일광해수욕장일광해수욕장일광해수욕장일광해수욕장일광해수욕장일광해수욕장일광해수욕장일광해수욕장일광해수욕장일광해수욕장자갈치국제시장부평깡통야시장자갈치국제시장부평깡통야시장자갈치국제시장부평깡통야시장자갈치국제시장부평깡통야시장자갈치국제시장부평깡통야시장자갈치국제시장부평깡통야시장자갈치국제시장부평깡통야시장자갈치국제시장부평깡통야시장자갈치국제시장부평깡통야시장자갈치국제시장부평깡통야시장자갈치국제시장부평깡통야시장자갈치국제시장부평깡통야시장자갈치국제시장부평깡통야시장자갈치국제시장부평깡통야시장자갈치국제시장부평깡통야시장자갈치국제시장부평깡통야시장전포카페거리전포카페거리전포카페거리전포카페거리전포카페거리전포카페거리전포카페거리전포카페거리전포카페거리전포카페거리전포카페거리전포카페거리전포카페거리전포카페거리전포카페거리전포카페거리태종대태종대태종대태종대태종대태종대태종대태종대태종대태종대태종대태종대태종대태종대태종대태종대해운대해수욕장해운대해수욕장해운대해수욕장해운대해수욕장해운대해수욕장해운대해수욕장해운대해수욕장해운대해수욕장해운대해수욕장해운대해수욕장해운대해수욕장해운대해수욕장해운대해수욕장해운대해수욕장해운대해수욕장해운대해수욕장흰여울문화마을흰여울문화마을흰여울문화마을흰여울문화마을흰여울문화마을흰여울문화마을흰여울문화마을흰여울문화마을흰여울문화마을흰여울문화마을흰여울문화마을흰여울문화마을흰여울문화마을흰여울문화마을흰여울문화마을흰여울문화마을광장용두산공원보수동책방골목광장용두산공원보수동책방골목광장용두산공원보수동책방골목광장용두산공원보수동책방골목광장용두산공원보수동책방골목광장용두산공원보수동책방골목광장용두산공원보수동책방골목광장용두산공원보수동책방골목광장용두산공원보수동책방골목광장용두산공원보수동책방골목광장용두산공원보수동책방골목광장용두산공원보수동책방골목광장용두산공원보수동책방골목광장용두산공원보수동책방골목광장용두산공원보수동책방골목광장용두산공원보수동책방골목감천문화마을감천문화마을감천문화마을감천문화마을감천문화마을감천문화마을감천문화마을감천문화마을감천문화마을감천문화마을감천문화마을감천문화마을감천문화마을감천문화마을감천문화마을감천문화마을광안리해수욕장광안리해수욕장광안리해수욕장광안리해수욕장광안리해수욕장광안리해수욕장광안리해수욕장광안리해수욕장광안리해수욕장광안리해수욕장광안리해수욕장광안리해수욕장광안리해수욕장광안리해수욕장광안리해수욕장광안리해수욕장국립해양박물관국립해양박물관국립해양박물관국립해양박물관국립해양박물관국립해양박물관국립해양박물관국립해양박물관국립해양박물관국립해양박물관국립해양박물관국립해양박물관다대포 해수욕장꿈의 낙조분수 몰운대다대포 해수욕장꿈의 낙조분수 몰운대다대포 해수욕장꿈의 낙조분수 몰운대다대포 해수욕장꿈의 낙조분수 몰운대다대포 해수욕장꿈의 낙조분수 몰운대다대포 해수욕장꿈의 낙조분수 몰운대다대포 해수욕장꿈의 낙조분수 몰운대다대포 해수욕장꿈의 낙조분수 몰운대다대포 해수욕장꿈의 낙조분수 몰운대다대포 해수욕장꿈의 낙조분수 몰운대다대포 해수욕장꿈의 낙조분수 몰운대다대포 해수욕장꿈의 낙조분수 몰운대다대포 해수욕장꿈의 낙조분수 몰운대다대포 해수욕장꿈의 낙조분수 몰운대다대포 해수욕장꿈의 낙조분수 몰운대다대포 해수욕장꿈의 낙조분수 몰운대동백섬누리마루하우스동백섬누리마루하우스동백섬누리마루하우스동백섬누리마루하우스동백섬누리마루하우스동백섬누리마루하우스동백섬누리마루하우스동백섬누리마루하우스동백섬누리마루하우스동백섬누리마루하우스동백섬누리마루하우스동백섬누리마루하우스동백섬누리마루하우스동백섬누리마루하우스동백섬누리마루하우스동백섬누리마루하우스렛츠런파크렛츠런파크렛츠런파크마린시티 카페거리마린시티 카페거리마린시티 카페거리마린시티 카페거리마린시티 카페거리마린시티 카페거리마린시티 카페거리마린시티 카페거리마린시티 카페거리마린시티 카페거리마린시티 카페거리마린시티 카페거리마린시티 카페거리마린시티 카페거리마린시티 카페거리마린시티 카페거리부산서면부산서면부산서면부산서면부산서면부산서면부산서면부산서면부산서면부산서면부산서면부산서면부산서면부산서면부산서면부산서면부산시민공원부산시민공원부산시민공원부산시민공원부산시민공원부산시민공원부산시민공원부산시민공원부산시민공원부산시민공원부산시민공원부산시민공원부산시민공원부산시민공원부산시민공원부산시민공원센텀시티신세계센텀 등센텀시티신세계센텀 등센텀시티신세계센텀 등센텀시티신세계센텀 등센텀시티신세계센텀 등센텀시티신세계센텀 등센텀시티신세계센텀 등센텀시티신세계센텀 등센텀시티신세계센텀 등센텀시티신세계센텀 등센텀시티신세계센텀 등센텀시티신세계센텀 등센텀시티신세계센텀 등센텀시티신세계센텀 등센텀시티신세계센텀 등센텀시티신세계센텀 등송도해수욕장송도해수욕장송도해수욕장송도해수욕장송도해수욕장송도해수욕장송도해수욕장송도해수욕장송도해수욕장송도해수욕장송도해수욕장송도해수욕장송도해수욕장송도해수욕장송도해수욕장송도해수욕장송정해수욕장송정해수욕장송정해수욕장송정해수욕장송정해수욕장송정해수욕장송정해수욕장송정해수욕장송정해수욕장송정해수욕장송정해수욕장송정해수욕장송정해수욕장송정해수욕장송정해수욕장송정해수욕장오륙도이기대 갈맷길오륙도이기대 갈맷길오륙도이기대 갈맷길오륙도이기대 갈맷길오륙도이기대 갈맷길오륙도이기대 갈맷길오륙도이기대 갈맷길오륙도이기대 갈맷길오륙도이기대 갈맷길오륙도이기대 갈맷길오륙도이기대 갈맷길오륙도이기대 갈맷길오륙도이기대 갈맷길오륙도이기대 갈맷길오륙도이기대 갈맷길오륙도이기대 갈맷길을숙도을숙도을숙도을숙도을숙도을숙도을숙도을숙도을숙도을숙도을숙도을숙도을숙도을숙도을숙도을숙도일광해수욕장일광해수욕장일광해수욕장일광해수욕장일광해수욕장일광해수욕장일광해수욕장일광해수욕장일광해수욕장일광해수욕장일광해수욕장일광해수욕장일광해수욕장일광해수욕장일광해수욕장일광해수욕장자갈치국제시장부평깡통야시장자갈치국제시장부평깡통야시장자갈치국제시장부평깡통야시장자갈치국제시장부평깡통야시장자갈치국제시장부평깡통야시장자갈치국제시장부평깡통야시장자갈치국제시장부평깡통야시장자갈치국제시장부평깡통야시장자갈치국제시장부평깡통야시장자갈치국제시장부평깡통야시장자갈치국제시장부평깡통야시장자갈치국제시장부평깡통야시장자갈치국제시장부평깡통야시장자갈치국제시장부평깡통야시장자갈치국제시장부평깡통야시장자갈치국제시장부평깡통야시장전포카페거리전포카페거리전포카페거리전포카페거리전포카페거리전포카페거리전포카페거리전포카페거리전포카페거리전포카페거리전포카페거리전포카페거리전포카페거리전포카페거리전포카페거리전포카페거리태종대태종대태종대태종대태종대태종대태종대태종대태종대태종대태종대태종대태종대태종대태종대태종대해운대해수욕장해운대해수욕장해운대해수욕장해운대해수욕장해운대해수욕장해운대해수욕장해운대해수욕장해운대해수욕장해운대해수욕장해운대해수욕장해운대해수욕장해운대해수욕장해운대해수욕장해운대해수욕장해운대해수욕장해운대해수욕장흰여울문화마을흰여울문화마을흰여울문화마을흰여울문화마을흰여울문화마을흰여울문화마을흰여울문화마을흰여울문화마을흰여울문화마을흰여울문화마을흰여울문화마을흰여울문화마을흰여울문화마을흰여울문화마을흰여울문화마을흰여울문화마을광장용두산공원보수동책방골목광장용두산공원보수동책방골목광장용두산공원보수동책방골목광장용두산공원보수동책방골목광장용두산공원보수동책방골목광장용두산공원보수동책방골목광장용두산공원보수동책방골목광장용두산공원보수동책방골목광장용두산공원보수동책방골목광장용두산공원보수동책방골목광장용두산공원보수동책방골목광장용두산공원보수동책방골목광장용두산공원보수동책방골목광장용두산공원보수동책방골목광장용두산공원보수동책방골목광장용두산공원보수동책방골목감천문화마을감천문화마을감천문화마을감천문화마을감천문화마을감천문화마을감천문화마을감천문화마을감천문화마을감천문화마을감천문화마을감천문화마을감천문화마을감천문화마을감천문화마을감천문화마을광안리해수욕장광안리해수욕장광안리해수욕장광안리해수욕장광안리해수욕장광안리해수욕장광안리해수욕장광안리해수욕장광안리해수욕장광안리해수욕장광안리해수욕장광안리해수욕장광안리해수욕장광안리해수욕장광안리해수욕장광안리해수욕장국립해양박물관국립해양박물관국립해양박물관국립해양박물관국립해양박물관국립해양박물관국립해양박물관국립해양박물관국립해양박물관국립해양박물관국립해양박물관국립해양박물관국립해양박물관국립해양박물관국립해양박물관다대포 해수욕장꿈의 낙조분수 몰운대다대포 해수욕장꿈의 낙조분수 몰운대다대포 해수욕장꿈의 낙조분수 몰운대다대포 해수욕장꿈의 낙조분수 몰운대다대포 해수욕장꿈의 낙조분수 몰운대다대포 해수욕장꿈의 낙조분수 몰운대다대포 해수욕장꿈의 낙조분수 몰운대다대포 해수욕장꿈의 낙조분수 몰운대다대포 해수욕장꿈의 낙조분수 몰운대다대포 해수욕장꿈의 낙조분수 몰운대다대포 해수욕장꿈의 낙조분수 몰운대다대포 해수욕장꿈의 낙조분수 몰운대다대포 해수욕장꿈의 낙조분수 몰운대다대포 해수욕장꿈의 낙조분수 몰운대다대포 해수욕장꿈의 낙조분수 몰운대다대포 해수욕장꿈의 낙조분수 몰운대동백섬누리마루하우스동백섬누리마루하우스동백섬누리마루하우스동백섬누리마루하우스동백섬누리마루하우스동백섬누리마루하우스동백섬누리마루하우스동백섬누리마루하우스동백섬누리마루하우스동백섬누리마루하우스동백섬누리마루하우스동백섬누리마루하우스동백섬누리마루하우스동백섬누리마루하우스동백섬누리마루하우스동백섬누리마루하우스렛츠런파크렛츠런파크렛츠런파크렛츠런파크마린시티 카페거리마린시티 카페거리마린시티 카페거리마린시티 카페거리마린시티 카페거리마린시티 카페거리마린시티 카페거리마린시티 카페거리마린시티 카페거리마린시티 카페거리마린시티 카페거리마린시티 카페거리마린시티 카페거리마린시티 카페거리마린시티 카페거리마린시티 카페거리부산서면부산서면부산서면부산서면부산서면부산서면부산서면부산서면부산서면부산서면부산서면부산서면부산서면부산서면부산서면부산서면부산시민공원부산시민공원부산시민공원부산시민공원부산시민공원부산시민공원부산시민공원부산시민공원부산시민공원부산시민공원부산시민공원부산시민공원부산시민공원부산시민공원부산시민공원부산시민공원센텀시티신세계센텀 등센텀시티신세계센텀 등센텀시티신세계센텀 등센텀시티신세계센텀 등센텀시티신세계센텀 등센텀시티신세계센텀 등센텀시티신세계센텀 등센텀시티신세계센텀 등센텀시티신세계센텀 등센텀시티신세계센텀 등센텀시티신세계센텀 등센텀시티신세계센텀 등센텀시티신세계센텀 등센텀시티신세계센텀 등센텀시티신세계센텀 등센텀시티신세계센텀 등송도해수욕장송도해수욕장송도해수욕장송도해수욕장송도해수욕장송도해수욕장송도해수욕장송도해수욕장송도해수욕장송도해수욕장송도해수욕장송도해수욕장송도해수욕장송도해수욕장송도해수욕장송도해수욕장송정해수욕장송정해수욕장송정해수욕장송정해수욕장송정해수욕장송정해수욕장송정해수욕장송정해수욕장송정해수욕장송정해수욕장송정해수욕장송정해수욕장송정해수욕장송정해수욕장송정해수욕장송정해수욕장오륙도이기대 갈맷길오륙도이기대 갈맷길오륙도이기대 갈맷길오륙도이기대 갈맷길오륙도이기대 갈맷길오륙도이기대 갈맷길오륙도이기대 갈맷길오륙도이기대 갈맷길오륙도이기대 갈맷길오륙도이기대 갈맷길오륙도이기대 갈맷길오륙도이기대 갈맷길오륙도이기대 갈맷길오륙도이기대 갈맷길오륙도이기대 갈맷길오륙도이기대 갈맷길을숙도을숙도을숙도을숙도을숙도을숙도을숙도을숙도을숙도을숙도을숙도을숙도을숙도을숙도을숙도일광해수욕장일광해수욕장일광해수욕장일광해수욕장일광해수욕장일광해수욕장일광해수욕장일광해수욕장일광해수욕장일광해수욕장일광해수욕장일광해수욕장일광해수욕장일광해수욕장일광해수욕장일광해수욕장자갈치국제시장부평깡통야시장자갈치국제시장부평깡통야시장자갈치국제시장부평깡통야시장자갈치국제시장부평깡통야시장자갈치국제시장부평깡통야시장자갈치국제시장부평깡통야시장자갈치국제시장부평깡통야시장자갈치국제시장부평깡통야시장자갈치국제시장부평깡통야시장자갈치국제시장부평깡통야시장자갈치국제시장부평깡통야시장자갈치국제시장부평깡통야시장자갈치국제시장부평깡통야시장자갈치국제시장부평깡통야시장자갈치국제시장부평깡통야시장자갈치국제시장부평깡통야시장전포카페거리전포카페거리전포카페거리전포카페거리전포카페거리전포카페거리전포카페거리전포카페거리전포카페거리전포카페거리전포카페거리전포카페거리전포카페거리전포카페거리전포카페거리전포카페거리태종대태종대태종대태종대태종대태종대태종대태종대태종대태종대태종대태종대태종대태종대태종대태종대해운대해수욕장해운대해수욕장해운대해수욕장해운대해수욕장해운대해수욕장해운대해수욕장해운대해수욕장해운대해수욕장해운대해수욕장해운대해수욕장해운대해수욕장해운대해수욕장해운대해수욕장해운대해수욕장해운대해수욕장해운대해수욕장흰여울문화마을흰여울문화마을흰여울문화마을흰여울문화마을흰여울문화마을흰여울문화마을흰여울문화마을흰여울문화마을흰여울문화마을흰여울문화마을흰여울문화마을흰여울문화마을흰여울문화마을흰여울문화마을흰여울문화마을흰여울문화마을광장용두산공원보수동책방골목광장용두산공원보수동책방골목광장용두산공원보수동책방골목광장용두산공원보수동책방골목광장용두산공원보수동책방골목광장용두산공원보수동책방골목광장용두산공원보수동책방골목광장용두산공원보수동책방골목광장용두산공원보수동책방골목광장용두산공원보수동책방골목광장용두산공원보수동책방골목광장용두산공원보수동책방골목광장용두산공원보수동책방골목광장용두산공원보수동책방골목광장용두산공원보수동책방골목광장용두산공원보수동책방골목감천문화마을감천문화마을감천문화마을감천문화마을감천문화마을감천문화마을감천문화마을감천문화마을감천문화마을감천문화마을감천문화마을감천문화마을감천문화마을감천문화마을감천문화마을감천문화마을광안리해수욕장광안리해수욕장광안리해수욕장광안리해수욕장광안리해수욕장광안리해수욕장광안리해수욕장광안리해수욕장광안리해수욕장광안리해수욕장광안리해수욕장광안리해수욕장광안리해수욕장광안리해수욕장광안리해수욕장광안리해수욕장광안리해수욕장광안리해수욕장광안리해수욕장광안리해수욕장광안리해수욕장광안리해수욕장광안리해수욕장광안리해수욕장광안리해수욕장광안리해수욕장광안리해수욕장광안리해수욕장광안리해수욕장광안리해수욕장광안리해수욕장광안리해수욕장국립해양박물관국립해양박물관국립해양박물관국립해양박물관국립해양박물관국립해양박물관국립해양박물관국립해양박물관국립해양박물관국립해양박물관국립해양박물관국립해양박물관국립해양박물관다대포 해수욕장꿈의 낙조분수 몰운대다대포 해수욕장꿈의 낙조분수 몰운대다대포 해수욕장꿈의 낙조분수 몰운대다대포 해수욕장꿈의 낙조분수 몰운대다대포 해수욕장꿈의 낙조분수 몰운대다대포 해수욕장꿈의 낙조분수 몰운대다대포 해수욕장꿈의 낙조분수 몰운대다대포 해수욕장꿈의 낙조분수 몰운대다대포 해수욕장꿈의 낙조분수 몰운대다대포 해수욕장꿈의 낙조분수 몰운대다대포 해수욕장꿈의 낙조분수 몰운대다대포 해수욕장꿈의 낙조분수 몰운대다대포 해수욕장꿈의 낙조분수 몰운대다대포 해수욕장꿈의 낙조분수 몰운대다대포 해수욕장꿈의 낙조분수 몰운대다대포 해수욕장꿈의 낙조분수 몰운대동백섬누리마루하우스동백섬누리마루하우스동백섬누리마루하우스동백섬누리마루하우스동백섬누리마루하우스동백섬누리마루하우스동백섬누리마루하우스동백섬누리마루하우스동백섬누리마루하우스동백섬누리마루하우스동백섬누리마루하우스동백섬누리마루하우스동백섬누리마루하우스동백섬누리마루하우스동백섬누리마루하우스동백섬누리마루하우스렛츠런파크렛츠런파크렛츠런파크렛츠런파크렛츠런파크렛츠런파크렛츠런파크마린시티 카페거리마린시티 카페거리마린시티 카페거리마린시티 카페거리마린시티 카페거리마린시티 카페거리마린시티 카페거리마린시티 카페거리마린시티 카페거리마린시티 카페거리마린시티 카페거리마린시티 카페거리마린시티 카페거리마린시티 카페거리마린시티 카페거리마린시티 카페거리부산서면부산서면부산서면부산서면부산서면부산서면부산서면부산서면부산서면부산서면부산서면부산서면부산서면부산서면부산서면부산서면부산시민공원부산시민공원부산시민공원부산시민공원부산시민공원부산시민공원부산시민공원부산시민공원부산시민공원부산시민공원부산시민공원부산시민공원부산시민공원부산시민공원부산시민공원부산시민공원센텀시티신세계센텀 등센텀시티신세계센텀 등센텀시티신세계센텀 등센텀시티신세계센텀 등센텀시티신세계센텀 등센텀시티신세계센텀 등센텀시티신세계센텀 등센텀시티신세계센텀 등센텀시티신세계센텀 등센텀시티신세계센텀 등센텀시티신세계센텀 등센텀시티신세계센텀 등센텀시티신세계센텀 등센텀시티신세계센텀 등센텀시티신세계센텀 등센텀시티신세계센텀 등송도해수욕장송도해수욕장송도해수욕장송도해수욕장송도해수욕장송도해수욕장송도해수욕장송도해수욕장송도해수욕장송도해수욕장송도해수욕장송도해수욕장송도해수욕장송도해수욕장송도해수욕장송도해수욕장송정해수욕장송정해수욕장송정해수욕장송정해수욕장송정해수욕장송정해수욕장송정해수욕장송정해수욕장송정해수욕장송정해수욕장송정해수욕장송정해수욕장송정해수욕장송정해수욕장송정해수욕장송정해수욕장오륙도이기대 갈맷길오륙도이기대 갈맷길오륙도이기대 갈맷길오륙도이기대 갈맷길오륙도이기대 갈맷길오륙도이기대 갈맷길오륙도이기대 갈맷길오륙도이기대 갈맷길오륙도이기대 갈맷길오륙도이기대 갈맷길오륙도이기대 갈맷길오륙도이기대 갈맷길오륙도이기대 갈맷길오륙도이기대 갈맷길오륙도이기대 갈맷길오륙도이기대 갈맷길을숙도을숙도을숙도을숙도을숙도을숙도을숙도을숙도을숙도을숙도을숙도을숙도을숙도을숙도을숙도을숙도일광해수욕장일광해수욕장일광해수욕장일광해수욕장일광해수욕장일광해수욕장일광해수욕장일광해수욕장일광해수욕장일광해수욕장일광해수욕장일광해수욕장일광해수욕장일광해수욕장일광해수욕장일광해수욕장자갈치국제시장부평깡통야시장자갈치국제시장부평깡통야시장자갈치국제시장부평깡통야시장자갈치국제시장부평깡통야시장자갈치국제시장부평깡통야시장자갈치국제시장부평깡통야시장자갈치국제시장부평깡통야시장자갈치국제시장부평깡통야시장자갈치국제시장부평깡통야시장자갈치국제시장부평깡통야시장자갈치국제시장부평깡통야시장자갈치국제시장부평깡통야시장자갈치국제시장부평깡통야시장자갈치국제시장부평깡통야시장자갈치국제시장부평깡통야시장자갈치국제시장부평깡통야시장전포카페거리전포카페거리전포카페거리전포카페거리전포카페거리전포카페거리전포카페거리전포카페거리전포카페거리전포카페거리전포카페거리전포카페거리전포카페거리전포카페거리전포카페거리전포카페거리태종대태종대태종대태종대태종대태종대태종대태종대태종대태종대태종대태종대태종대태종대태종대태종대해운대해수욕장해운대해수욕장해운대해수욕장해운대해수욕장해운대해수욕장해운대해수욕장해운대해수욕장해운대해수욕장해운대해수욕장해운대해수욕장해운대해수욕장해운대해수욕장해운대해수욕장해운대해수욕장해운대해수욕장해운대해수욕장흰여울문화마을흰여울문화마을흰여울문화마을흰여울문화마을흰여울문화마을흰여울문화마을흰여울문화마을흰여울문화마을흰여울문화마을흰여울문화마을흰여울문화마을흰여울문화마을흰여울문화마을흰여울문화마을흰여울문화마을흰여울문화마을광장용두산공원보수동책방골목광장용두산공원보수동책방골목광장용두산공원보수동책방골목광장용두산공원보수동책방골목광장용두산공원보수동책방골목광장용두산공원보수동책방골목광장용두산공원보수동책방골목광장용두산공원보수동책방골목광장용두산공원보수동책방골목광장용두산공원보수동책방골목광장용두산공원보수동책방골목광장용두산공원보수동책방골목광장용두산공원보수동책방골목광장용두산공원보수동책방골목광장용두산공원보수동책방골목광장용두산공원보수동책방골목감천문화마을감천문화마을감천문화마을감천문화마을감천문화마을감천문화마을감천문화마을감천문화마을감천문화마을감천문화마을감천문화마을감천문화마을감천문화마을감천문화마을감천문화마을감천문화마을국립해양박물관국립해양박물관국립해양박물관국립해양박물관국립해양박물관국립해양박물관국립해양박물관국립해양박물관국립해양박물관국립해양박물관다대포 해수욕장꿈의 낙조분수 몰운대다대포 해수욕장꿈의 낙조분수 몰운대다대포 해수욕장꿈의 낙조분수 몰운대다대포 해수욕장꿈의 낙조분수 몰운대다대포 해수욕장꿈의 낙조분수 몰운대다대포 해수욕장꿈의 낙조분수 몰운대다대포 해수욕장꿈의 낙조분수 몰운대다대포 해수욕장꿈의 낙조분수 몰운대다대포 해수욕장꿈의 낙조분수 몰운대다대포 해수욕장꿈의 낙조분수 몰운대다대포 해수욕장꿈의 낙조분수 몰운대다대포 해수욕장꿈의 낙조분수 몰운대다대포 해수욕장꿈의 낙조분수 몰운대다대포 해수욕장꿈의 낙조분수 몰운대다대포 해수욕장꿈의 낙조분수 몰운대다대포 해수욕장꿈의 낙조분수 몰운대동백섬누리마루하우스동백섬누리마루하우스동백섬누리마루하우스동백섬누리마루하우스동백섬누리마루하우스동백섬누리마루하우스동백섬누리마루하우스동백섬누리마루하우스동백섬누리마루하우스동백섬누리마루하우스동백섬누리마루하우스동백섬누리마루하우스동백섬누리마루하우스동백섬누리마루하우스동백섬누리마루하우스동백섬누리마루하우스렛츠런파크렛츠런파크마린시티 카페거리마린시티 카페거리마린시티 카페거리마린시티 카페거리마린시티 카페거리마린시티 카페거리마린시티 카페거리마린시티 카페거리마린시티 카페거리마린시티 카페거리마린시티 카페거리마린시티 카페거리마린시티 카페거리마린시티 카페거리마린시티 카페거리마린시티 카페거리부산서면부산서면부산서면부산서면부산서면부산서면부산서면부산서면부산서면부산서면부산서면부산서면부산서면부산서면부산서면부산서면부산시민공원부산시민공원부산시민공원부산시민공원부산시민공원부산시민공원부산시민공원부산시민공원부산시민공원부산시민공원부산시민공원부산시민공원부산시민공원부산시민공원센텀시티신세계센텀 등센텀시티신세계센텀 등센텀시티신세계센텀 등센텀시티신세계센텀 등센텀시티신세계센텀 등센텀시티신세계센텀 등센텀시티신세계센텀 등센텀시티신세계센텀 등센텀시티신세계센텀 등센텀시티신세계센텀 등센텀시티신세계센텀 등센텀시티신세계센텀 등센텀시티신세계센텀 등센텀시티신세계센텀 등센텀시티신세계센텀 등센텀시티신세계센텀 등송도해수욕장송도해수욕장송도해수욕장송도해수욕장송도해수욕장송도해수욕장송도해수욕장송도해수욕장송도해수욕장송도해수욕장송도해수욕장송도해수욕장송도해수욕장송도해수욕장송도해수욕장송도해수욕장송정해수욕장송정해수욕장송정해수욕장송정해수욕장송정해수욕장송정해수욕장송정해수욕장송정해수욕장송정해수욕장송정해수욕장송정해수욕장송정해수욕장송정해수욕장송정해수욕장송정해수욕장송정해수욕장오륙도이기대 갈맷길오륙도이기대 갈맷길오륙도이기대 갈맷길오륙도이기대 갈맷길오륙도이기대 갈맷길오륙도이기대 갈맷길오륙도이기대 갈맷길오륙도이기대 갈맷길오륙도이기대 갈맷길오륙도이기대 갈맷길오륙도이기대 갈맷길오륙도이기대 갈맷길오륙도이기대 갈맷길오륙도이기대 갈맷길오륙도이기대 갈맷길오륙도이기대 갈맷길을숙도을숙도을숙도을숙도을숙도을숙도을숙도을숙도을숙도을숙도을숙도을숙도을숙도을숙도을숙도을숙도일광해수욕장일광해수욕장일광해수욕장일광해수욕장일광해수욕장일광해수욕장일광해수욕장일광해수욕장일광해수욕장일광해수욕장일광해수욕장일광해수욕장일광해수욕장일광해수욕장일광해수욕장일광해수욕장자갈치국제시장부평깡통야시장자갈치국제시장부평깡통야시장자갈치국제시장부평깡통야시장자갈치국제시장부평깡통야시장자갈치국제시장부평깡통야시장자갈치국제시장부평깡통야시장자갈치국제시장부평깡통야시장자갈치국제시장부평깡통야시장자갈치국제시장부평깡통야시장자갈치국제시장부평깡통야시장자갈치국제시장부평깡통야시장자갈치국제시장부평깡통야시장자갈치국제시장부평깡통야시장자갈치국제시장부평깡통야시장자갈치국제시장부평깡통야시장자갈치국제시장부평깡통야시장전포카페거리전포카페거리전포카페거리전포카페거리전포카페거리전포카페거리전포카페거리전포카페거리전포카페거리전포카페거리전포카페거리전포카페거리전포카페거리전포카페거리전포카페거리전포카페거리태종대태종대태종대태종대태종대태종대태종대태종대태종대태종대태종대태종대태종대태종대태종대태종대해운대해수욕장해운대해수욕장해운대해수욕장해운대해수욕장해운대해수욕장해운대해수욕장해운대해수욕장해운대해수욕장해운대해수욕장해운대해수욕장해운대해수욕장해운대해수욕장해운대해수욕장해운대해수욕장해운대해수욕장해운대해수욕장흰여울문화마을흰여울문화마을흰여울문화마을흰여울문화마을흰여울문화마을흰여울문화마을흰여울문화마을흰여울문화마을흰여울문화마을흰여울문화마을흰여울문화마을흰여울문화마을흰여울문화마을흰여울문화마을흰여울문화마을흰여울문화마을광장용두산공원보수동책방골목광장용두산공원보수동책방골목광장용두산공원보수동책방골목광장용두산공원보수동책방골목광장용두산공원보수동책방골목광장용두산공원보수동책방골목광장용두산공원보수동책방골목광장용두산공원보수동책방골목광장용두산공원보수동책방골목광장용두산공원보수동책방골목광장용두산공원보수동책방골목광장용두산공원보수동책방골목광장용두산공원보수동책방골목광장용두산공원보수동책방골목광장용두산공원보수동책방골목광장용두산공원보수동책방골목광장용두산공원보수동책방골목광장용두산공원보수동책방골목광장용두산공원보수동책방골목광장용두산공원보수동책방골목광장용두산공원보수동책방골목광장용두산공원보수동책방골목광장용두산공원보수동책방골목광장용두산공원보수동책방골목광장용두산공원보수동책방골목광장용두산공원보수동책방골목광장용두산공원보수동책방골목광장용두산공원보수동책방골목광장용두산공원보수동책방골목광장용두산공원보수동책방골목광장용두산공원보수동책방골목광장용두산공원보수동책방골목광장용두산공원보수동책방골목광장용두산공원보수동책방골목감천문화마을감천문화마을감천문화마을감천문화마을감천문화마을감천문화마을감천문화마을감천문화마을감천문화마을감천문화마을감천문화마을감천문화마을감천문화마을감천문화마을감천문화마을감천문화마을감천문화마을감천문화마을감천문화마을감천문화마을감천문화마을감천문화마을감천문화마을감천문화마을감천문화마을감천문화마을감천문화마을감천문화마을감천문화마을감천문화마을감천문화마을감천문화마을감천문화마을감천문화마을광안리해수욕장광안리해수욕장광안리해수욕장광안리해수욕장광안리해수욕장광안리해수욕장광안리해수욕장광안리해수욕장광안리해수욕장광안리해수욕장광안리해수욕장광안리해수욕장광안리해수욕장광안리해수욕장광안리해수욕장광안리해수욕장광안리해수욕장광안리해수욕장광안리해수욕장광안리해수욕장광안리해수욕장광안리해수욕장광안리해수욕장광안리해수욕장광안리해수욕장광안리해수욕장광안리해수욕장광안리해수욕장광안리해수욕장광안리해수욕장광안리해수욕장광안리해수욕장광안리해수욕장광안리해수욕장국립해양박물관국립해양박물관국립해양박물관국립해양박물관국립해양박물관국립해양박물관국립해양박물관국립해양박물관국립해양박물관국립해양박물관국립해양박물관국립해양박물관국립해양박물관국립해양박물관국립해양박물관국립해양박물관국립해양박물관국립해양박물관국립해양박물관국립해양박물관국립해양박물관국립해양박물관국립해양박물관국립해양박물관다대포 해수욕장꿈의 낙조분수 몰운대다대포 해수욕장꿈의 낙조분수 몰운대다대포 해수욕장꿈의 낙조분수 몰운대다대포 해수욕장꿈의 낙조분수 몰운대다대포 해수욕장꿈의 낙조분수 몰운대다대포 해수욕장꿈의 낙조분수 몰운대다대포 해수욕장꿈의 낙조분수 몰운대다대포 해수욕장꿈의 낙조분수 몰운대다대포 해수욕장꿈의 낙조분수 몰운대다대포 해수욕장꿈의 낙조분수 몰운대다대포 해수욕장꿈의 낙조분수 몰운대다대포 해수욕장꿈의 낙조분수 몰운대다대포 해수욕장꿈의 낙조분수 몰운대다대포 해수욕장꿈의 낙조분수 몰운대다대포 해수욕장꿈의 낙조분수 몰운대다대포 해수욕장꿈의 낙조분수 몰운대다대포 해수욕장꿈의 낙조분수 몰운대다대포 해수욕장꿈의 낙조분수 몰운대다대포 해수욕장꿈의 낙조분수 몰운대다대포 해수욕장꿈의 낙조분수 몰운대다대포 해수욕장꿈의 낙조분수 몰운대다대포 해수욕장꿈의 낙조분수 몰운대다대포 해수욕장꿈의 낙조분수 몰운대다대포 해수욕장꿈의 낙조분수 몰운대다대포 해수욕장꿈의 낙조분수 몰운대다대포 해수욕장꿈의 낙조분수 몰운대다대포 해수욕장꿈의 낙조분수 몰운대다대포 해수욕장꿈의 낙조분수 몰운대다대포 해수욕장꿈의 낙조분수 몰운대다대포 해수욕장꿈의 낙조분수 몰운대다대포 해수욕장꿈의 낙조분수 몰운대다대포 해수욕장꿈의 낙조분수 몰운대다대포 해수욕장꿈의 낙조분수 몰운대다대포 해수욕장꿈의 낙조분수 몰운대동백섬누리마루하우스동백섬누리마루하우스동백섬누리마루하우스동백섬누리마루하우스동백섬누리마루하우스동백섬누리마루하우스동백섬누리마루하우스동백섬누리마루하우스동백섬누리마루하우스동백섬누리마루하우스동백섬누리마루하우스동백섬누리마루하우스동백섬누리마루하우스동백섬누리마루하우스동백섬누리마루하우스동백섬누리마루하우스동백섬누리마루하우스동백섬누리마루하우스동백섬누리마루하우스동백섬누리마루하우스동백섬누리마루하우스동백섬누리마루하우스동백섬누리마루하우스동백섬누리마루하우스동백섬누리마루하우스동백섬누리마루하우스동백섬누리마루하우스동백섬누리마루하우스동백섬누리마루하우스동백섬누리마루하우스동백섬누리마루하우스동백섬누리마루하우스동백섬누리마루하우스동백섬누리마루하우스렛츠런파크렛츠런파크렛츠런파크렛츠런파크렛츠런파크렛츠런파크렛츠런파크렛츠런파크렛츠런파크마린시티 카페거리마린시티 카페거리마린시티 카페거리마린시티 카페거리마린시티 카페거리마린시티 카페거리마린시티 카페거리마린시티 카페거리마린시티 카페거리마린시티 카페거리마린시티 카페거리마린시티 카페거리마린시티 카페거리마린시티 카페거리마린시티 카페거리마린시티 카페거리마린시티 카페거리마린시티 카페거리마린시티 카페거리마린시티 카페거리마린시티 카페거리마린시티 카페거리마린시티 카페거리마린시티 카페거리마린시티 카페거리마린시티 카페거리마린시티 카페거리마린시티 카페거리마린시티 카페거리마린시티 카페거리마린시티 카페거리마린시티 카페거리마린시티 카페거리마린시티 카페거리부산서면부산서면부산서면부산서면부산서면부산서면부산서면부산서면부산서면부산서면부산서면부산서면부산서면부산서면부산서면부산서면부산서면부산서면부산서면부산서면부산서면부산서면부산서면부산서면부산서면부산서면부산서면부산서면부산서면부산서면부산서면부산서면부산서면부산서면부산시민공원부산시민공원부산시민공원부산시민공원부산시민공원부산시민공원부산시민공원부산시민공원부산시민공원부산시민공원부산시민공원부산시민공원부산시민공원부산시민공원부산시민공원부산시민공원부산시민공원부산시민공원부산시민공원부산시민공원부산시민공원부산시민공원부산시민공원부산시민공원부산시민공원부산시민공원부산시민공원부산시민공원부산시민공원부산시민공원부산시민공원센텀시티신세계센텀 등센텀시티신세계센텀 등센텀시티신세계센텀 등센텀시티신세계센텀 등센텀시티신세계센텀 등센텀시티신세계센텀 등센텀시티신세계센텀 등센텀시티신세계센텀 등센텀시티신세계센텀 등센텀시티신세계센텀 등센텀시티신세계센텀 등센텀시티신세계센텀 등센텀시티신세계센텀 등센텀시티신세계센텀 등센텀시티신세계센텀 등센텀시티신세계센텀 등센텀시티신세계센텀 등센텀시티신세계센텀 등센텀시티신세계센텀 등센텀시티신세계센텀 등센텀시티신세계센텀 등센텀시티신세계센텀 등센텀시티신세계센텀 등센텀시티신세계센텀 등센텀시티신세계센텀 등센텀시티신세계센텀 등센텀시티신세계센텀 등센텀시티신세계센텀 등센텀시티신세계센텀 등센텀시티신세계센텀 등센텀시티신세계센텀 등센텀시티신세계센텀 등센텀시티신세계센텀 등센텀시티신세계센텀 등송도해수욕장송도해수욕장송도해수욕장송도해수욕장송도해수욕장송도해수욕장송도해수욕장송도해수욕장송도해수욕장송도해수욕장송도해수욕장송도해수욕장송도해수욕장송도해수욕장송도해수욕장송도해수욕장송도해수욕장송도해수욕장송도해수욕장송도해수욕장송도해수욕장송도해수욕장송도해수욕장송도해수욕장송도해수욕장송도해수욕장송도해수욕장송도해수욕장송도해수욕장송도해수욕장송도해수욕장송도해수욕장송도해수욕장송도해수욕장송정해수욕장송정해수욕장송정해수욕장송정해수욕장송정해수욕장송정해수욕장송정해수욕장송정해수욕장송정해수욕장송정해수욕장송정해수욕장송정해수욕장송정해수욕장송정해수욕장송정해수욕장송정해수욕장송정해수욕장송정해수욕장송정해수욕장송정해수욕장송정해수욕장송정해수욕장송정해수욕장송정해수욕장송정해수욕장송정해수욕장송정해수욕장송정해수욕장송정해수욕장송정해수욕장송정해수욕장송정해수욕장송정해수욕장송정해수욕장오륙도이기대 갈맷길오륙도이기대 갈맷길오륙도이기대 갈맷길오륙도이기대 갈맷길오륙도이기대 갈맷길오륙도이기대 갈맷길오륙도이기대 갈맷길오륙도이기대 갈맷길오륙도이기대 갈맷길오륙도이기대 갈맷길오륙도이기대 갈맷길오륙도이기대 갈맷길오륙도이기대 갈맷길오륙도이기대 갈맷길오륙도이기대 갈맷길오륙도이기대 갈맷길오륙도이기대 갈맷길오륙도이기대 갈맷길오륙도이기대 갈맷길오륙도이기대 갈맷길오륙도이기대 갈맷길오륙도이기대 갈맷길오륙도이기대 갈맷길오륙도이기대 갈맷길오륙도이기대 갈맷길오륙도이기대 갈맷길오륙도이기대 갈맷길오륙도이기대 갈맷길오륙도이기대 갈맷길오륙도이기대 갈맷길오륙도이기대 갈맷길오륙도이기대 갈맷길오륙도이기대 갈맷길오륙도이기대 갈맷길을숙도을숙도을숙도을숙도을숙도을숙도을숙도을숙도을숙도을숙도을숙도을숙도을숙도을숙도을숙도을숙도을숙도을숙도을숙도을숙도을숙도을숙도을숙도을숙도을숙도을숙도을숙도을숙도을숙도을숙도을숙도일광해수욕장일광해수욕장일광해수욕장일광해수욕장일광해수욕장일광해수욕장일광해수욕장일광해수욕장일광해수욕장일광해수욕장일광해수욕장일광해수욕장일광해수욕장일광해수욕장일광해수욕장일광해수욕장일광해수욕장일광해수욕장일광해수욕장일광해수욕장일광해수욕장일광해수욕장일광해수욕장일광해수욕장일광해수욕장일광해수욕장일광해수욕장일광해수욕장일광해수욕장일광해수욕장일광해수욕장일광해수욕장일광해수욕장일광해수욕장자갈치국제시장부평깡통야시장자갈치국제시장부평깡통야시장자갈치국제시장부평깡통야시장자갈치국제시장부평깡통야시장자갈치국제시장부평깡통야시장자갈치국제시장부평깡통야시장자갈치국제시장부평깡통야시장자갈치국제시장부평깡통야시장자갈치국제시장부평깡통야시장자갈치국제시장부평깡통야시장자갈치국제시장부평깡통야시장자갈치국제시장부평깡통야시장자갈치국제시장부평깡통야시장자갈치국제시장부평깡통야시장자갈치국제시장부평깡통야시장자갈치국제시장부평깡통야시장자갈치국제시장부평깡통야시장자갈치국제시장부평깡통야시장자갈치국제시장부평깡통야시장자갈치국제시장부평깡통야시장자갈치국제시장부평깡통야시장자갈치국제시장부평깡통야시장자갈치국제시장부평깡통야시장자갈치국제시장부평깡통야시장자갈치국제시장부평깡통야시장자갈치국제시장부평깡통야시장자갈치국제시장부평깡통야시장자갈치국제시장부평깡통야시장자갈치국제시장부평깡통야시장자갈치국제시장부평깡통야시장자갈치국제시장부평깡통야시장자갈치국제시장부평깡통야시장자갈치국제시장부평깡통야시장자갈치국제시장부평깡통야시장전포카페거리전포카페거리전포카페거리전포카페거리전포카페거리전포카페거리전포카페거리전포카페거리전포카페거리전포카페거리전포카페거리전포카페거리전포카페거리전포카페거리전포카페거리전포카페거리전포카페거리전포카페거리전포카페거리전포카페거리전포카페거리전포카페거리전포카페거리전포카페거리전포카페거리전포카페거리전포카페거리전포카페거리전포카페거리전포카페거리전포카페거리전포카페거리전포카페거리전포카페거리태종대태종대태종대태종대태종대태종대태종대태종대태종대태종대태종대태종대태종대태종대태종대태종대태종대태종대태종대태종대태종대태종대태종대태종대태종대태종대태종대태종대태종대태종대태종대태종대태종대태종대해운대해수욕장해운대해수욕장해운대해수욕장해운대해수욕장해운대해수욕장해운대해수욕장해운대해수욕장해운대해수욕장해운대해수욕장해운대해수욕장해운대해수욕장해운대해수욕장해운대해수욕장해운대해수욕장해운대해수욕장해운대해수욕장해운대해수욕장해운대해수욕장해운대해수욕장해운대해수욕장해운대해수욕장해운대해수욕장해운대해수욕장해운대해수욕장해운대해수욕장해운대해수욕장해운대해수욕장해운대해수욕장해운대해수욕장해운대해수욕장해운대해수욕장해운대해수욕장해운대해수욕장해운대해수욕장흰여울문화마을흰여울문화마을흰여울문화마을흰여울문화마을흰여울문화마을흰여울문화마을흰여울문화마을흰여울문화마을흰여울문화마을흰여울문화마을흰여울문화마을흰여울문화마을흰여울문화마을흰여울문화마을흰여울문화마을흰여울문화마을흰여울문화마을흰여울문화마을흰여울문화마을흰여울문화마을흰여울문화마을흰여울문화마을흰여울문화마을흰여울문화마을흰여울문화마을흰여울문화마을흰여울문화마을흰여울문화마을흰여울문화마을흰여울문화마을흰여울문화마을흰여울문화마을흰여울문화마을흰여울문화마을광장용두산공원보수동책방골목광장용두산공원보수동책방골목광장용두산공원보수동책방골목광장용두산공원보수동책방골목광장용두산공원보수동책방골목광장용두산공원보수동책방골목광장용두산공원보수동책방골목광장용두산공원보수동책방골목광장용두산공원보수동책방골목광장용두산공원보수동책방골목광장용두산공원보수동책방골목광장용두산공원보수동책방골목광장용두산공원보수동책방골목광장용두산공원보수동책방골목광장용두산공원보수동책방골목광장용두산공원보수동책방골목광장용두산공원보수동책방골목감천문화마을감천문화마을감천문화마을감천문화마을감천문화마을감천문화마을감천문화마을감천문화마을감천문화마을감천문화마을감천문화마을감천문화마을감천문화마을감천문화마을감천문화마을감천문화마을감천문화마을광안리해수욕장광안리해수욕장광안리해수욕장광안리해수욕장광안리해수욕장광안리해수욕장광안리해수욕장광안리해수욕장광안리해수욕장광안리해수욕장광안리해수욕장광안리해수욕장광안리해수욕장광안리해수욕장광안리해수욕장광안리해수욕장광안리해수욕장국립해양박물관국립해양박물관국립해양박물관국립해양박물관국립해양박물관국립해양박물관국립해양박물관국립해양박물관국립해양박물관국립해양박물관국립해양박물관국립해양박물관국립해양박물관국립해양박물관국립해양박물관다대포 해수욕장꿈의 낙조분수 몰운대다대포 해수욕장꿈의 낙조분수 몰운대다대포 해수욕장꿈의 낙조분수 몰운대다대포 해수욕장꿈의 낙조분수 몰운대다대포 해수욕장꿈의 낙조분수 몰운대다대포 해수욕장꿈의 낙조분수 몰운대다대포 해수욕장꿈의 낙조분수 몰운대다대포 해수욕장꿈의 낙조분수 몰운대다대포 해수욕장꿈의 낙조분수 몰운대다대포 해수욕장꿈의 낙조분수 몰운대다대포 해수욕장꿈의 낙조분수 몰운대다대포 해수욕장꿈의 낙조분수 몰운대다대포 해수욕장꿈의 낙조분수 몰운대다대포 해수욕장꿈의 낙조분수 몰운대다대포 해수욕장꿈의 낙조분수 몰운대다대포 해수욕장꿈의 낙조분수 몰운대다대포 해수욕장꿈의 낙조분수 몰운대동백섬누리마루하우스동백섬누리마루하우스동백섬누리마루하우스동백섬누리마루하우스동백섬누리마루하우스동백섬누리마루하우스동백섬누리마루하우스동백섬누리마루하우스동백섬누리마루하우스동백섬누리마루하우스동백섬누리마루하우스동백섬누리마루하우스동백섬누리마루하우스동백섬누리마루하우스동백섬누리마루하우스동백섬누리마루하우스동백섬누리마루하우스렛츠런파크렛츠런파크렛츠런파크마린시티 카페거리마린시티 카페거리마린시티 카페거리마린시티 카페거리마린시티 카페거리마린시티 카페거리마린시티 카페거리마린시티 카페거리마린시티 카페거리마린시티 카페거리마린시티 카페거리마린시티 카페거리마린시티 카페거리마린시티 카페거리마린시티 카페거리마린시티 카페거리마린시티 카페거리부산서면부산서면부산서면부산서면부산서면부산서면부산서면부산서면부산서면부산서면부산서면부산서면부산서면부산서면부산서면부산서면부산서면부산시민공원부산시민공원부산시민공원부산시민공원부산시민공원부산시민공원부산시민공원부산시민공원부산시민공원부산시민공원부산시민공원부산시민공원부산시민공원부산시민공원부산시민공원부산시민공원부산시민공원센텀시티신세계센텀 등센텀시티신세계센텀 등센텀시티신세계센텀 등센텀시티신세계센텀 등센텀시티신세계센텀 등센텀시티신세계센텀 등센텀시티신세계센텀 등센텀시티신세계센텀 등센텀시티신세계센텀 등센텀시티신세계센텀 등센텀시티신세계센텀 등센텀시티신세계센텀 등센텀시티신세계센텀 등센텀시티신세계센텀 등센텀시티신세계센텀 등센텀시티신세계센텀 등센텀시티신세계센텀 등송도해수욕장송도해수욕장송도해수욕장송도해수욕장송도해수욕장송도해수욕장송도해수욕장송도해수욕장송도해수욕장송도해수욕장송도해수욕장송도해수욕장송도해수욕장송도해수욕장송도해수욕장송도해수욕장송도해수욕장송정해수욕장송정해수욕장송정해수욕장송정해수욕장송정해수욕장송정해수욕장송정해수욕장송정해수욕장송정해수욕장송정해수욕장송정해수욕장송정해수욕장송정해수욕장송정해수욕장송정해수욕장송정해수욕장송정해수욕장오륙도이기대 갈맷길오륙도이기대 갈맷길오륙도이기대 갈맷길오륙도이기대 갈맷길오륙도이기대 갈맷길오륙도이기대 갈맷길오륙도이기대 갈맷길오륙도이기대 갈맷길오륙도이기대 갈맷길오륙도이기대 갈맷길오륙도이기대 갈맷길오륙도이기대 갈맷길오륙도이기대 갈맷길오륙도이기대 갈맷길오륙도이기대 갈맷길오륙도이기대 갈맷길오륙도이기대 갈맷길을숙도을숙도을숙도을숙도을숙도을숙도을숙도을숙도을숙도을숙도을숙도을숙도을숙도을숙도을숙도을숙도일광해수욕장일광해수욕장일광해수욕장일광해수욕장일광해수욕장일광해수욕장일광해수욕장일광해수욕장일광해수욕장일광해수욕장일광해수욕장일광해수욕장일광해수욕장일광해수욕장일광해수욕장일광해수욕장일광해수욕장자갈치국제시장부평깡통야시장자갈치국제시장부평깡통야시장자갈치국제시장부평깡통야시장자갈치국제시장부평깡통야시장자갈치국제시장부평깡통야시장자갈치국제시장부평깡통야시장자갈치국제시장부평깡통야시장자갈치국제시장부평깡통야시장자갈치국제시장부평깡통야시장자갈치국제시장부평깡통야시장자갈치국제시장부평깡통야시장자갈치국제시장부평깡통야시장자갈치국제시장부평깡통야시장자갈치국제시장부평깡통야시장자갈치국제시장부평깡통야시장자갈치국제시장부평깡통야시장자갈치국제시장부평깡통야시장전포카페거리전포카페거리전포카페거리전포카페거리전포카페거리전포카페거리전포카페거리전포카페거리전포카페거리전포카페거리전포카페거리전포카페거리전포카페거리전포카페거리전포카페거리전포카페거리전포카페거리태종대태종대태종대태종대태종대태종대태종대태종대태종대태종대태종대태종대태종대태종대태종대태종대태종대해운대해수욕장해운대해수욕장해운대해수욕장해운대해수욕장해운대해수욕장해운대해수욕장해운대해수욕장해운대해수욕장해운대해수욕장해운대해수욕장해운대해수욕장해운대해수욕장해운대해수욕장해운대해수욕장해운대해수욕장해운대해수욕장해운대해수욕장흰여울문화마을흰여울문화마을흰여울문화마을흰여울문화마을흰여울문화마을흰여울문화마을흰여울문화마을흰여울문화마을흰여울문화마을흰여울문화마을흰여울문화마을흰여울문화마을흰여울문화마을흰여울문화마을흰여울문화마을흰여울문화마을흰여울문화마을'"
      ]
     },
     "execution_count": 50,
     "metadata": {},
     "output_type": "execute_result"
    }
   ],
   "source": [
    "# 정규 표현식 적용\n",
    "apply_regular_expression(corpus)"
   ]
  },
  {
   "cell_type": "code",
   "execution_count": 51,
   "id": "426f0146",
   "metadata": {},
   "outputs": [
    {
     "name": "stdout",
     "output_type": "stream",
     "text": [
      "['광장', '용두산', '보수동책방골목', '광장', '용두산', '보수동책방골목', '광장', '용두산', '공원', '보수동책방골목', '광장', '용두산', '공원', '보수동책방골목', '광장', '용두산', '공원', '보수동책방골목', '광장', '용두산', '공원', '보수동책방골목', '광장', '용두산', '공원', '보수동책방골목', '광장', '용두산', '공원', '보수동책방골목', '광장', '용두산', '공원', '보수동책방골목', '광장', '용두산', '공원', '보수동책방골목', '광장', '용두산', '공원', '보수동책방골목', '광장', '용두산', '공원', '보수동책방골목', '광장', '용두산', '공원', '보수동책방골목', '광장', '용두산', '공원', '보수동책방골목', '광장', '용두산', '공원', '보수동책방골목', '광장', '용두산', '공원', '보수동책방골목', '감천', '문화', '마을', '감천', '문화', '마을', '감천', '문화', '마을', '감천', '문화', '마을', '감천', '문화', '마을', '감천', '문화', '마을', '감천', '문화', '마을', '감천', '문화', '마을', '감천', '문화', '마을', '감천', '문화', '마을', '감천', '문화', '마을', '감천', '문화', '마을', '감천', '문화', '마을', '감천', '문화', '마을', '감천', '문화', '마을', '감천', '문화', '마을', '광안리해수욕장', '광안리해수욕장', '광안리해수욕장', '광안리해수욕장', '광안리해수욕장', '광안리해수욕장', '광안리해수욕장', '광안리해수욕장', '광안리해수욕장', '광안리해수욕장', '광안리해수욕장', '광안리해수욕장', '광안리해수욕장', '광안리해수욕장', '광안리해수욕장', '광안리해수욕장', '국립', '해양', '박물관', '국립', '해양', '박물관', '국립', '해양', '박물관', '국립', '해양', '박물관', '국립', '해양', '박물관', '국립', '해양', '박물관', '국립', '해양', '박물관', '국립', '해양', '박물관', '국립', '해양', '박물관', '국립', '해양', '박물관', '국립', '해양', '박물관', '국립', '해양', '박물관', '국립', '해양', '박물관', '국립', '해양', '박물관', '국립', '해양', '박물관', '국립', '해양', '박물관', '대포', '해수욕장', '꿈', '낙', '분수', '대포', '해수욕장', '꿈', '낙', '분수', '대포', '해수욕장', '꿈', '낙', '분수', '대포', '해수욕장', '꿈', '낙', '분수', '대포', '해수욕장', '꿈', '낙', '분수', '대포', '해수욕장', '꿈', '낙', '분수', '대포', '해수욕장', '꿈', '낙', '분수', '대포', '해수욕장', '꿈', '낙', '분수', '대포', '해수욕장', '꿈', '낙', '분수', '대포', '해수욕장', '꿈', '낙', '분수', '대포', '해수욕장', '꿈', '낙', '분수', '대포', '해수욕장', '꿈', '낙', '분수', '대포', '해수욕장', '꿈', '낙', '분수', '대포', '해수욕장', '꿈', '낙', '분수', '대포', '해수욕장', '꿈', '낙', '분수', '대포', '해수욕장', '꿈', '낙', '분수', '동백섬', '누리', '마루', '하우스', '동백섬', '누리', '마루', '하우스', '동백섬', '누리', '마루', '하우스', '동백섬', '누리', '마루', '하우스', '동백섬', '누리', '마루', '하우스', '동백섬', '누리', '마루', '하우스', '동백섬', '누리', '마루', '하우스', '동백섬', '누리', '마루', '하우스', '동백섬', '누리', '마루', '하우스', '동백섬', '누리', '마루', '하우스', '동백섬', '누리', '마루', '하우스', '동백섬', '누리', '마루', '하우스', '동백섬', '누리', '마루', '하우스', '동백섬', '누리', '마루', '하우스', '동백섬', '누리', '마루', '하우스', '동백섬', '누리', '마루', '하우스', '렛츠런파크렛츠런', '파크', '렛츠런파크렛츠런', '파크', '렛츠런파크렛츠런', '파크', '렛츠런파크렛츠런', '파크', '렛츠런파크렛츠런', '파크', '렛츠런파크렛츠런', '파크', '렛츠런파크렛츠런', '파크', '마린시티', '카페', '거리', '마린시티', '카페', '거리', '마린시티', '카페', '거리', '마린시티', '카페', '거리', '마린시티', '카페', '거리', '마린시티', '카페', '거리', '마린시티', '카페', '거리', '마린시티', '카페', '거리', '마린시티', '카페', '거리', '마린시티', '카페', '거리', '마린시티', '카페', '거리', '마린시티', '카페', '거리', '마린시티', '카페', '거리', '마린시티', '카페', '거리', '마린시티', '카페', '거리', '마린시티', '카페', '거리', '부산', '서면', '부산', '서면', '부산', '서면', '부산', '서면', '부산', '서면', '부산', '서면', '부산', '서면', '부산', '서면', '부산', '서면', '부산', '서면', '부산', '서면', '부산', '서면', '부산', '서면', '부산', '서면', '부산', '서면', '부산', '서면', '부산시', '민공', '부산시', '민공', '부산시', '민공', '부산시', '민공', '부산시', '민공', '부산시', '민공', '부산시', '민공', '부산시', '민공', '부산시', '민공', '부산시', '민공', '부산시', '민공', '부산시', '민공', '부산시', '민공', '부산시', '민공', '부산시', '민공', '부산시', '민공', '센텀시티', '신세계', '텀', '등', '센텀시티', '신세계', '센텀', '등', '센텀시티', '신세계', '센텀', '등', '센텀시티', '신세계', '센텀', '등', '센텀시티', '신세계', '센텀', '등', '센텀시티', '신세계', '센텀', '등', '센텀시티', '신세계', '센텀', '등', '센텀시티', '신세계', '센텀', '등', '센텀시티', '신세계', '센텀', '등', '센텀시티', '신세계', '센텀', '등', '센텀시티', '신세계', '센텀', '등', '센텀시티', '신세계', '센텀', '등', '센텀시티', '신세계', '센텀', '등', '센텀시티', '신세계', '센텀', '등', '센텀시티', '신세계', '센텀', '등', '센텀시티', '신세계', '센텀', '등', '송도해수욕장', '송도해수욕장', '송도해수욕장', '송도해수욕장', '송도해수욕장', '송도해수욕장', '송도해수욕장', '송도해수욕장', '송도해수욕장', '송도해수욕장', '송도해수욕장', '송도해수욕장', '송도해수욕장', '송도해수욕장', '송도해수욕장', '송도해수욕장', '송정해수욕장', '송정해수욕장', '송정해수욕장', '송정해수욕장', '송정해수욕장', '송정해수욕장', '송정해수욕장', '송정해수욕장', '송정해수욕장', '송정해수욕장', '송정해수욕장', '송정해수욕장', '송정해수욕장', '송정해수욕장', '송정해수욕장', '송정해수욕장', '오륙도', '이기대', '갈맷', '길', '오륙도', '이기대', '갈맷', '길', '오륙도', '이기대', '갈맷', '길', '오륙도', '이기대', '갈맷', '길', '오륙도', '이기대', '갈맷', '길', '오륙도', '이기대', '갈맷', '길', '오륙도', '이기대', '갈맷', '길', '오륙도', '이기대', '갈맷', '길', '오륙도', '이기대', '갈맷', '길', '오륙도', '이기대', '갈맷', '길', '오륙도', '이기대', '갈맷', '길', '오륙도', '이기대', '갈맷', '길', '오륙도', '이기대', '갈맷', '길', '오륙도', '이기대', '갈맷', '길', '오륙도', '이기대', '갈맷', '길', '오륙도', '이기대', '갈맷', '길', '을숙도', '을숙도', '을숙도', '을숙도', '을숙도', '을숙도', '을숙도', '을숙도', '을숙도', '을숙도', '을숙도', '을숙도', '을숙도', '을숙도', '을숙도', '을숙도', '일광해수욕장', '일광해수욕장', '일광해수욕장', '일광해수욕장', '일광해수욕장', '일광해수욕장', '일광해수욕장', '일광해수욕장', '일광해수욕장', '일광해수욕장', '일광해수욕장', '일광해수욕장', '일광해수욕장', '일광해수욕장', '일광해수욕장', '일광해수욕장', '자갈치', '국제', '시장', '부평', '깡통', '야시장', '자갈치', '국제', '시장', '부평', '깡통', '야시장', '자갈치', '국제', '시장', '부평', '깡통', '야시장', '자갈치', '국제', '시장', '부평', '깡통', '야시장', '자갈치', '국제', '시장', '부평', '깡통', '야시장', '자갈치', '국제', '시장', '부평', '깡통', '야시장', '자갈치', '국제', '시장', '부평', '깡통', '야시장', '자갈치', '국제', '시장', '부평', '깡통', '야시장', '자갈치', '국제', '시장', '부평', '깡통', '야시장', '자갈치', '국제', '시장', '부평', '깡통', '야시장', '자갈치', '국제', '시장', '부평', '깡통', '야시장', '자갈치', '국제', '시장', '부평', '깡통', '야시장', '자갈치', '국제', '시장', '부평', '깡통', '야시장', '자갈치', '국제', '시장', '부평', '깡통', '야시장', '자갈치', '국제', '시장', '부평', '깡통', '야시장', '자갈치', '국제', '시장', '부평', '깡통', '야시', '장전', '포', '카페', '거리', '전포', '카페', '거리', '전포', '카페', '거리', '전포', '카페', '거리', '전포', '카페', '거리', '전포', '카페', '거리', '전포', '카페', '거리', '전포', '카페', '거리', '전포', '카페', '거리', '전포', '카페', '거리', '전포', '카페', '거리', '전포', '카페', '거리', '전포', '카페', '거리', '전포', '카페', '거리', '전포', '카페', '거리', '전포', '카페', '거리', '태종대', '태종대', '태종대', '태종대', '태종대', '태종대', '태종대', '태종대', '태종대', '태종대', '태종대', '태종대', '태종대', '태종대', '태종대', '태종대', '해운대해수욕장', '해운대해수욕장', '해운대해수욕장', '해운대해수욕장', '해운대해수욕장', '해운대해수욕장', '해운대해수욕장', '해운대해수욕장', '해운대해수욕장', '해운대해수욕장', '해운대해수욕장', '해운대해수욕장', '해운대해수욕장', '해운대해수욕장', '해운대해수욕장', '해운대해수욕장', '흰여울', '문화', '마을', '흰여울', '문화', '마을', '흰여울', '문화', '마을', '흰여울', '문화', '마을', '흰여울', '문화', '마을', '흰여울', '문화', '마을', '흰여울', '문화', '마을', '흰여울', '문화', '마을', '흰여울', '문화', '마을', '흰여울', '문화', '마을', '흰여울', '문화', '마을', '흰여울', '문화', '마을', '흰여울', '문화', '마을', '흰여울', '문화', '마을', '흰여울', '문화', '마을', '흰여울', '문화', '마을', '광장', '용두산', '공원', '보수동책방골목', '광장', '용두산', '공원', '보수동책방골목', '광장', '용두산', '공원', '보수동책방골목', '광장', '용두산', '공원', '보수동책방골목', '광장', '용두산', '공원', '보수동책방골목', '광장', '용두산', '공원', '보수동책방골목', '광장', '용두산', '공원', '보수동책방골목', '광장', '용두산', '공원', '보수동책방골목', '광장', '용두산', '공원', '보수동책방골목', '광장', '용두산', '공원', '보수동책방골목', '광장', '용두산', '공원', '보수동책방골목', '광장', '용두산', '공원', '보수동책방골목', '광장', '용두산', '공원', '보수동책방골목', '광장', '용두산', '공원', '보수동책방골목', '광장', '용두산', '공원', '보수동책방골목', '광장', '용두산', '공원', '보수동책방골목', '감천', '문화', '마을', '감천', '문화', '마을', '감천', '문화', '마을', '감천', '문화', '마을', '감천', '문화', '마을', '감천', '문화', '마을', '감천', '문화', '마을', '감천', '문화', '마을', '감천', '문화', '마을', '감천', '문화', '마을', '감천', '문화', '마을', '감천', '문화', '마을', '감천', '문화', '마을', '감천', '문화', '마을', '감천', '문화', '마을', '감천', '문화', '마을', '광안리해수욕장', '광안리해수욕장', '광안리해수욕장', '광안리해수욕장', '광안리해수욕장', '광안리해수욕장', '광안리해수욕장', '광안리해수욕장', '광안리해수욕장', '광안리해수욕장', '광안리해수욕장', '광안리해수욕장', '광안리해수욕장', '광안리해수욕장', '광안리해수욕장', '광안리해수욕장', '국립', '해양', '박물관', '국립', '해양', '박물관', '국립', '해양', '박물관', '국립', '해양', '박물관', '국립', '해양', '박물관', '국립', '해양', '박물관', '국립', '해양', '박물관', '국립', '해양', '박물관', '국립', '해양', '박물관', '국립', '해양', '박물관', '국립', '해양', '박물관', '국립', '해양', '박물관', '다대', '포', '해수욕장', '꿈', '낙', '분수', '대포', '해수욕장', '꿈', '낙', '분수', '대포', '해수욕장', '꿈', '낙', '분수', '대포', '해수욕장', '꿈', '낙', '분수', '대포', '해수욕장', '꿈', '낙', '분수', '대포', '해수욕장', '꿈', '낙', '분수', '대포', '해수욕장', '꿈', '낙', '분수', '대포', '해수욕장', '꿈', '낙', '분수', '대포', '해수욕장', '꿈', '낙', '분수', '대포', '해수욕장', '꿈', '낙', '분수', '대포', '해수욕장', '꿈', '낙', '분수', '대포', '해수욕장', '꿈', '낙', '분수', '대포', '해수욕장', '꿈', '낙', '분수', '대포', '해수욕장', '꿈', '낙', '분수', '대포', '해수욕장', '꿈', '낙', '분수', '대포', '해수욕장', '꿈', '낙', '분수', '동백섬', '누리', '마루', '하우스', '동백섬', '누리', '마루', '하우스', '동백섬', '누리', '마루', '하우스', '동백섬', '누리', '마루', '하우스', '동백섬', '누리', '마루', '하우스', '동백섬', '누리', '마루', '하우스', '동백섬', '누리', '마루', '하우스', '동백섬', '누리', '마루', '하우스', '동백섬', '누리', '마루', '하우스', '동백섬', '누리', '마루', '하우스', '동백섬', '누리', '마루', '하우스', '동백섬', '누리', '마루', '하우스', '동백섬', '누리', '마루', '하우스', '동백섬', '누리', '마루', '하우스', '동백섬', '누리', '마루', '하우스', '동백섬', '누리', '마루', '하우스', '렛츠런파크렛츠런', '파크', '렛츠런', '파크', '마린시티', '카페', '거리', '마린시티', '카페', '거리', '마린시티', '카페', '거리', '마린시티', '카페', '거리', '마린시티', '카페', '거리', '마린시티', '카페', '거리', '마린시티', '카페', '거리', '마린시티', '카페', '거리', '마린시티', '카페', '거리', '마린시티', '카페', '거리', '마린시티', '카페', '거리', '마린시티', '카페', '거리', '마린시티', '카페', '거리', '마린시티', '카페', '거리', '마린시티', '카페', '거리', '마린시티', '카페', '거리', '부산', '서면', '부산', '서면', '부산', '서면', '부산', '서면', '부산', '서면', '부산', '서면', '부산', '서면', '부산', '서면', '부산', '서면', '부산', '서면', '부산', '서면', '부산', '서면', '부산', '서면', '부산', '서면', '부산', '서면', '부산', '서면', '부산시', '민공', '부산시', '민공', '부산시', '민공', '부산시', '민공', '부산시', '민공', '부산시', '민공', '부산시', '민공', '부산시', '민공', '부산시', '민공', '부산시', '민공', '부산시', '민공', '부산시', '민공', '부산시', '민공', '부산시', '민공', '부산시', '민공', '부산시', '민공', '센텀시티', '신세계', '텀', '등', '센텀시티', '신세계', '센텀', '등', '센텀시티', '신세계', '센텀', '등', '센텀시티', '신세계', '센텀', '등', '센텀시티', '신세계', '센텀', '등', '센텀시티', '신세계', '센텀', '등', '센텀시티', '신세계', '센텀', '등', '센텀시티', '신세계', '센텀', '등', '센텀시티', '신세계', '센텀', '등', '센텀시티', '신세계', '센텀', '등', '센텀시티', '신세계', '센텀', '등', '센텀시티', '신세계', '센텀', '등', '센텀시티', '신세계', '센텀', '등', '센텀시티', '신세계', '센텀', '등', '센텀시티', '신세계', '센텀', '등', '센텀시티', '신세계', '센텀', '등', '송도해수욕장', '송도해수욕장', '송도해수욕장', '송도해수욕장', '송도해수욕장', '송도해수욕장', '송도해수욕장', '송도해수욕장', '송도해수욕장', '송도해수욕장', '송도해수욕장', '송도해수욕장', '송도해수욕장', '송도해수욕장', '송도해수욕장', '송도해수욕장', '송정해수욕장', '송정해수욕장', '송정해수욕장', '송정해수욕장', '송정해수욕장', '송정해수욕장', '송정해수욕장', '송정해수욕장', '송정해수욕장', '송정해수욕장', '송정해수욕장', '송정해수욕장', '송정해수욕장', '송정해수욕장', '송정해수욕장', '송정해수욕장', '오륙도', '이기대', '갈맷', '길', '오륙도', '이기대', '갈맷', '길', '오륙도', '이기대', '갈맷', '길', '오륙도', '이기대', '갈맷', '길', '오륙도', '이기대', '갈맷', '길', '오륙도', '이기대', '갈맷', '길', '오륙도', '이기대', '갈맷', '길', '오륙도', '이기대', '갈맷', '길', '오륙도', '이기대', '갈맷', '길', '오륙도', '이기대', '갈맷', '길', '오륙도', '이기대', '갈맷', '길', '오륙도', '이기대', '갈맷', '길', '오륙도', '이기대', '갈맷', '길', '오륙도', '이기대', '갈맷', '길', '오륙도', '이기대', '갈맷', '길', '오륙도', '이기대', '갈맷', '길', '을숙도', '을숙도', '을숙도', '을숙도', '을숙도', '을숙도', '을숙도', '을숙도', '을숙도', '을숙도', '을숙도', '을숙도', '을숙도', '을숙도', '을숙도', '을숙도', '일광해수욕장', '일광해수욕장', '일광해수욕장', '일광해수욕장', '일광해수욕장', '일광해수욕장', '일광해수욕장', '일광해수욕장', '일광해수욕장', '일광해수욕장', '일광해수욕장', '일광해수욕장', '일광해수욕장', '일광해수욕장', '일광해수욕장', '일광해수욕장', '자갈치', '국제', '시장', '부평', '깡통', '야시장', '자갈치', '국제', '시장', '부평', '깡통', '야시장', '자갈치', '국제', '시장', '부평', '깡통', '야시장', '자갈치', '국제', '시장', '부평', '깡통', '야시장', '자갈치', '국제', '시장', '부평', '깡통', '야시장', '자갈치', '국제', '시장', '부평', '깡통', '야시장', '자갈치', '국제', '시장', '부평', '깡통', '야시장', '자갈치', '국제', '시장', '부평', '깡통', '야시장', '자갈치', '국제', '시장', '부평', '깡통', '야시장', '자갈치', '국제', '시장', '부평', '깡통', '야시장', '자갈치', '국제', '시장', '부평', '깡통', '야시장', '자갈치', '국제', '시장', '부평', '깡통', '야시장', '자갈치', '국제', '시장', '부평', '깡통', '야시장', '자갈치', '국제', '시장', '부평', '깡통', '야시장', '자갈치', '국제', '시장', '부평', '깡통', '야시장', '자갈치', '국제', '시장', '부평', '깡통', '야시', '장전', '포', '카페', '거리', '전포', '카페', '거리', '전포', '카페', '거리', '전포', '카페', '거리', '전포', '카페', '거리', '전포', '카페', '거리', '전포', '카페', '거리', '전포', '카페', '거리', '전포', '카페', '거리', '전포', '카페', '거리', '전포', '카페', '거리', '전포', '카페', '거리', '전포', '카페', '거리', '전포', '카페', '거리', '전포', '카페', '거리', '전포', '카페', '거리', '태종대', '태종대', '태종대', '태종대', '태종대', '태종대', '태종대', '태종대', '태종대', '태종대', '태종대', '태종대', '태종대', '태종대', '태종대', '태종대', '해운대해수욕장', '해운대해수욕장', '해운대해수욕장', '해운대해수욕장', '해운대해수욕장', '해운대해수욕장', '해운대해수욕장', '해운대해수욕장', '해운대해수욕장', '해운대해수욕장', '해운대해수욕장', '해운대해수욕장', '해운대해수욕장', '해운대해수욕장', '해운대해수욕장', '해운대해수욕장', '흰여울', '문화', '마을', '흰여울', '문화', '마을', '흰여울', '문화', '마을', '흰여울', '문화', '마을', '흰여울', '문화', '마을', '흰여울', '문화', '마을', '흰여울', '문화', '마을', '흰여울', '문화', '마을', '흰여울', '문화', '마을', '흰여울', '문화', '마을', '흰여울', '문화', '마을', '흰여울', '문화', '마을', '흰여울', '문화', '마을', '흰여울', '문화', '마을', '흰여울', '문화', '마을', '흰여울', '문화', '마을', '광장', '용두산', '공원', '보수동책방골목', '광장', '용두산', '공원', '보수동책방골목', '광장', '용두산', '공원', '보수동책방골목', '광장', '용두산', '공원', '보수동책방골목', '광장', '용두산', '공원', '보수동책방골목', '광장', '용두산', '공원', '보수동책방골목', '광장', '용두산', '공원', '보수동책방골목', '광장', '용두산', '공원', '보수동책방골목', '광장', '용두산', '공원', '보수동책방골목', '광장', '용두산', '공원', '보수동책방골목', '광장', '용두산', '공원', '보수동책방골목', '광장', '용두산', '공원', '보수동책방골목', '광장', '용두산', '공원', '보수동책방골목', '광장', '용두산', '공원', '보수동책방골목', '광장', '용두산', '공원', '보수동책방골목', '광장', '용두산', '공원', '보수동책방골목', '감천', '문화', '마을', '감천', '문화', '마을', '감천', '문화', '마을', '감천', '문화', '마을', '감천', '문화', '마을', '감천', '문화', '마을', '감천', '문화', '마을', '감천', '문화', '마을', '감천', '문화', '마을', '감천', '문화', '마을', '감천', '문화', '마을', '감천', '문화', '마을', '감천', '문화', '마을', '감천', '문화', '마을', '감천', '문화', '마을', '감천', '문화', '마을', '광안리해수욕장', '광안리해수욕장', '광안리해수욕장', '광안리해수욕장', '광안리해수욕장', '광안리해수욕장', '광안리해수욕장', '광안리해수욕장', '광안리해수욕장', '광안리해수욕장', '광안리해수욕장', '광안리해수욕장', '광안리해수욕장', '광안리해수욕장', '광안리해수욕장', '광안리해수욕장', '국립', '해양', '박물관', '국립', '해양', '박물관', '국립', '해양', '박물관', '국립', '해양', '박물관', '국립', '해양', '박물관', '국립', '해양', '박물관', '국립', '해양', '박물관', '국립', '해양', '박물관', '국립', '해양', '박물관', '국립', '해양', '박물관', '국립', '해양', '박물관', '국립', '해양', '박물관', '국립', '해양', '박물관', '국립', '해양', '박물관', '국립', '해양', '박물관', '다대', '포', '해수욕장', '꿈', '낙', '분수', '대포', '해수욕장', '꿈', '낙', '분수', '대포', '해수욕장', '꿈', '낙', '분수', '대포', '해수욕장', '꿈', '낙', '분수', '대포', '해수욕장', '꿈', '낙', '분수', '대포', '해수욕장', '꿈', '낙', '분수', '대포', '해수욕장', '꿈', '낙', '분수', '대포', '해수욕장', '꿈', '낙', '분수', '대포', '해수욕장', '꿈', '낙', '분수', '대포', '해수욕장', '꿈', '낙', '분수', '대포', '해수욕장', '꿈', '낙', '분수', '대포', '해수욕장', '꿈', '낙', '분수', '대포', '해수욕장', '꿈', '낙', '분수', '대포', '해수욕장', '꿈', '낙', '분수', '대포', '해수욕장', '꿈', '낙', '분수', '대포', '해수욕장', '꿈', '낙', '분수', '동백섬', '누리', '마루', '하우스', '동백섬', '누리', '마루', '하우스', '동백섬', '누리', '마루', '하우스', '동백섬', '누리', '마루', '하우스', '동백섬', '누리', '마루', '하우스', '동백섬', '누리', '마루', '하우스', '동백섬', '누리', '마루', '하우스', '동백섬', '누리', '마루', '하우스', '동백섬', '누리', '마루', '하우스', '동백섬', '누리', '마루', '하우스', '동백섬', '누리', '마루', '하우스', '동백섬', '누리', '마루', '하우스', '동백섬', '누리', '마루', '하우스', '동백섬', '누리', '마루', '하우스', '동백섬', '누리', '마루', '하우스', '동백섬', '누리', '마루', '하우스', '렛츠런파크렛츠런', '파크', '렛츠런파크렛츠런', '파크', '마린시티', '카페', '거리', '마린시티', '카페', '거리', '마린시티', '카페', '거리', '마린시티', '카페', '거리', '마린시티', '카페', '거리', '마린시티', '카페', '거리', '마린시티', '카페', '거리', '마린시티', '카페', '거리', '마린시티', '카페', '거리', '마린시티', '카페', '거리', '마린시티', '카페', '거리', '마린시티', '카페', '거리', '마린시티', '카페', '거리', '마린시티', '카페', '거리', '마린시티', '카페', '거리', '마린시티', '카페', '거리', '부산', '서면', '부산', '서면', '부산', '서면', '부산', '서면', '부산', '서면', '부산', '서면', '부산', '서면', '부산', '서면', '부산', '서면', '부산', '서면', '부산', '서면', '부산', '서면', '부산', '서면', '부산', '서면', '부산', '서면', '부산', '서면', '부산시', '민공', '부산시', '민공', '부산시', '민공', '부산시', '민공', '부산시', '민공', '부산시', '민공', '부산시', '민공', '부산시', '민공', '부산시', '민공', '부산시', '민공', '부산시', '민공', '부산시', '민공', '부산시', '민공', '부산시', '민공', '부산시', '민공', '부산시', '민공', '센텀시티', '신세계', '텀', '등', '센텀시티', '신세계', '센텀', '등', '센텀시티', '신세계', '센텀', '등', '센텀시티', '신세계', '센텀', '등', '센텀시티', '신세계', '센텀', '등', '센텀시티', '신세계', '센텀', '등', '센텀시티', '신세계', '센텀', '등', '센텀시티', '신세계', '센텀', '등', '센텀시티', '신세계', '센텀', '등', '센텀시티', '신세계', '센텀', '등', '센텀시티', '신세계', '센텀', '등', '센텀시티', '신세계', '센텀', '등', '센텀시티', '신세계', '센텀', '등', '센텀시티', '신세계', '센텀', '등', '센텀시티', '신세계', '센텀', '등', '센텀시티', '신세계', '센텀', '등', '송도해수욕장', '송도해수욕장', '송도해수욕장', '송도해수욕장', '송도해수욕장', '송도해수욕장', '송도해수욕장', '송도해수욕장', '송도해수욕장', '송도해수욕장', '송도해수욕장', '송도해수욕장', '송도해수욕장', '송도해수욕장', '송도해수욕장', '송도해수욕장', '송정해수욕장', '송정해수욕장', '송정해수욕장', '송정해수욕장', '송정해수욕장', '송정해수욕장', '송정해수욕장', '송정해수욕장', '송정해수욕장', '송정해수욕장', '송정해수욕장', '송정해수욕장', '송정해수욕장', '송정해수욕장', '송정해수욕장', '송정해수욕장', '오륙도', '이기대', '갈맷', '길', '오륙도', '이기대', '갈맷', '길', '오륙도', '이기대', '갈맷', '길', '오륙도', '이기대', '갈맷', '길', '오륙도', '이기대', '갈맷', '길', '오륙도', '이기대', '갈맷', '길', '오륙도', '이기대', '갈맷', '길', '오륙도', '이기대', '갈맷', '길', '오륙도', '이기대', '갈맷', '길', '오륙도', '이기대', '갈맷', '길', '오륙도', '이기대', '갈맷', '길', '오륙도', '이기대', '갈맷', '길', '오륙도', '이기대', '갈맷', '길', '오륙도', '이기대', '갈맷', '길', '오륙도', '이기대', '갈맷', '길', '오륙도', '이기대', '갈맷', '길', '을숙도', '을숙도', '을숙도', '을숙도', '을숙도', '을숙도', '을숙도', '을숙도', '을숙도', '을숙도', '을숙도', '을숙도', '을숙도', '을숙도', '을숙도', '일광해수욕장', '일광해수욕장', '일광해수욕장', '일광해수욕장', '일광해수욕장', '일광해수욕장', '일광해수욕장', '일광해수욕장', '일광해수욕장', '일광해수욕장', '일광해수욕장', '일광해수욕장', '일광해수욕장', '일광해수욕장', '일광해수욕장', '일광해수욕장', '자갈치', '국제', '시장', '부평', '깡통', '야시장', '자갈치', '국제', '시장', '부평', '깡통', '야시장', '자갈치', '국제', '시장', '부평', '깡통', '야시장', '자갈치', '국제', '시장', '부평', '깡통', '야시장', '자갈치', '국제', '시장', '부평', '깡통', '야시장', '자갈치', '국제', '시장', '부평', '깡통', '야시장', '자갈치', '국제', '시장', '부평', '깡통', '야시장', '자갈치', '국제', '시장', '부평', '깡통', '야시장', '자갈치', '국제', '시장', '부평', '깡통', '야시장', '자갈치', '국제', '시장', '부평', '깡통', '야시장', '자갈치', '국제', '시장', '부평', '깡통', '야시장', '자갈치', '국제', '시장', '부평', '깡통', '야시장', '자갈치', '국제', '시장', '부평', '깡통', '야시장', '자갈치', '국제', '시장', '부평', '깡통', '야시장', '자갈치', '국제', '시장', '부평', '깡통', '야시장', '자갈치', '국제', '시장', '부평', '깡통', '야시', '장전', '포', '카페', '거리', '전포', '카페', '거리', '전포', '카페', '거리', '전포', '카페', '거리', '전포', '카페', '거리', '전포', '카페', '거리', '전포', '카페', '거리', '전포', '카페', '거리', '전포', '카페', '거리', '전포', '카페', '거리', '전포', '카페', '거리', '전포', '카페', '거리', '전포', '카페', '거리', '전포', '카페', '거리', '전포', '카페', '거리', '전포', '카페', '거리', '태종대', '태종대', '태종대', '태종대', '태종대', '태종대', '태종대', '태종대', '태종대', '태종대', '태종대', '태종대', '태종대', '태종대', '태종대', '태종대', '해운대해수욕장', '해운대해수욕장', '해운대해수욕장', '해운대해수욕장', '해운대해수욕장', '해운대해수욕장', '해운대해수욕장', '해운대해수욕장', '해운대해수욕장', '해운대해수욕장', '해운대해수욕장', '해운대해수욕장', '해운대해수욕장', '해운대해수욕장', '해운대해수욕장', '해운대해수욕장', '흰여울', '문화', '마을', '흰여울', '문화', '마을', '흰여울', '문화', '마을', '흰여울', '문화', '마을', '흰여울', '문화', '마을', '흰여울', '문화', '마을', '흰여울', '문화', '마을', '흰여울', '문화', '마을', '흰여울', '문화', '마을', '흰여울', '문화', '마을', '흰여울', '문화', '마을', '흰여울', '문화', '마을', '흰여울', '문화', '마을', '흰여울', '문화', '마을', '흰여울', '문화', '마을', '흰여울', '문화', '마을', '광장', '용두산', '공원', '보수동책방골목', '광장', '용두산', '공원', '보수동책방골목', '광장', '용두산', '공원', '보수동책방골목', '광장', '용두산', '공원', '보수동책방골목', '광장', '용두산', '공원', '보수동책방골목', '광장', '용두산', '공원', '보수동책방골목', '광장', '용두산', '공원', '보수동책방골목', '광장', '용두산', '공원', '보수동책방골목', '광장', '용두산', '공원', '보수동책방골목', '광장', '용두산', '공원', '보수동책방골목', '광장', '용두산', '공원', '보수동책방골목', '광장', '용두산', '공원', '보수동책방골목', '광장', '용두산', '공원', '보수동책방골목', '광장', '용두산', '공원', '보수동책방골목', '광장', '용두산', '공원', '보수동책방골목', '광장', '용두산', '공원', '보수동책방골목', '감천', '문화', '마을', '감천', '문화', '마을', '감천', '문화', '마을', '감천', '문화', '마을', '감천', '문화', '마을', '감천', '문화', '마을', '감천', '문화', '마을', '감천', '문화', '마을', '감천', '문화', '마을', '감천', '문화', '마을', '감천', '문화', '마을', '감천', '문화', '마을', '감천', '문화', '마을', '감천', '문화', '마을', '감천', '문화', '마을', '감천', '문화', '마을', '광안리해수욕장', '광안리해수욕장', '광안리해수욕장', '광안리해수욕장', '광안리해수욕장', '광안리해수욕장', '광안리해수욕장', '광안리해수욕장', '광안리해수욕장', '광안리해수욕장', '광안리해수욕장', '광안리해수욕장', '광안리해수욕장', '광안리해수욕장', '광안리해수욕장', '광안리해수욕장', '광안리해수욕장', '광안리해수욕장', '광안리해수욕장', '광안리해수욕장', '광안리해수욕장', '광안리해수욕장', '광안리해수욕장', '광안리해수욕장', '광안리해수욕장', '광안리해수욕장', '광안리해수욕장', '광안리해수욕장', '광안리해수욕장', '광안리해수욕장', '광안리해수욕장', '광안리해수욕장', '국립', '해양', '박물관', '국립', '해양', '박물관', '국립', '해양', '박물관', '국립', '해양', '박물관', '국립', '해양', '박물관', '국립', '해양', '박물관', '국립', '해양', '박물관', '국립', '해양', '박물관', '국립', '해양', '박물관', '국립', '해양', '박물관', '국립', '해양', '박물관', '국립', '해양', '박물관', '국립', '해양', '박물관', '다대', '포', '해수욕장', '꿈', '낙', '분수', '대포', '해수욕장', '꿈', '낙', '분수', '대포', '해수욕장', '꿈', '낙', '분수', '대포', '해수욕장', '꿈', '낙', '분수', '대포', '해수욕장', '꿈', '낙', '분수', '대포', '해수욕장', '꿈', '낙', '분수', '대포', '해수욕장', '꿈', '낙', '분수', '대포', '해수욕장', '꿈', '낙', '분수', '대포', '해수욕장', '꿈', '낙', '분수', '대포', '해수욕장', '꿈', '낙', '분수', '대포', '해수욕장', '꿈', '낙', '분수', '대포', '해수욕장', '꿈', '낙', '분수', '대포', '해수욕장', '꿈', '낙', '분수', '대포', '해수욕장', '꿈', '낙', '분수', '대포', '해수욕장', '꿈', '낙', '분수', '대포', '해수욕장', '꿈', '낙', '분수', '동백섬', '누리', '마루', '하우스', '동백섬', '누리', '마루', '하우스', '동백섬', '누리', '마루', '하우스', '동백섬', '누리', '마루', '하우스', '동백섬', '누리', '마루', '하우스', '동백섬', '누리', '마루', '하우스', '동백섬', '누리', '마루', '하우스', '동백섬', '누리', '마루', '하우스', '동백섬', '누리', '마루', '하우스', '동백섬', '누리', '마루', '하우스', '동백섬', '누리', '마루', '하우스', '동백섬', '누리', '마루', '하우스', '동백섬', '누리', '마루', '하우스', '동백섬', '누리', '마루', '하우스', '동백섬', '누리', '마루', '하우스', '동백섬', '누리', '마루', '하우스', '렛츠런파크렛츠런', '파크', '렛츠런파크렛츠런', '파크', '렛츠런파크렛츠런', '파크', '렛츠런', '파크', '마린시티', '카페', '거리', '마린시티', '카페', '거리', '마린시티', '카페', '거리', '마린시티', '카페', '거리', '마린시티', '카페', '거리', '마린시티', '카페', '거리', '마린시티', '카페', '거리', '마린시티', '카페', '거리', '마린시티', '카페', '거리', '마린시티', '카페', '거리', '마린시티', '카페', '거리', '마린시티', '카페', '거리', '마린시티', '카페', '거리', '마린시티', '카페', '거리', '마린시티', '카페', '거리', '마린시티', '카페', '거리', '부산', '서면', '부산', '서면', '부산', '서면', '부산', '서면', '부산', '서면', '부산', '서면', '부산', '서면', '부산', '서면', '부산', '서면', '부산', '서면', '부산', '서면', '부산', '서면', '부산', '서면', '부산', '서면', '부산', '서면', '부산', '서면', '부산시', '민공', '부산시', '민공', '부산시', '민공', '부산시', '민공', '부산시', '민공', '부산시', '민공', '부산시', '민공', '부산시', '민공', '부산시', '민공', '부산시', '민공', '부산시', '민공', '부산시', '민공', '부산시', '민공', '부산시', '민공', '부산시', '민공', '부산시', '민공', '센텀시티', '신세계', '텀', '등', '센텀시티', '신세계', '센텀', '등', '센텀시티', '신세계', '센텀', '등', '센텀시티', '신세계', '센텀', '등', '센텀시티', '신세계', '센텀', '등', '센텀시티', '신세계', '센텀', '등', '센텀시티', '신세계', '센텀', '등', '센텀시티', '신세계', '센텀', '등', '센텀시티', '신세계', '센텀', '등', '센텀시티', '신세계', '센텀', '등', '센텀시티', '신세계', '센텀', '등', '센텀시티', '신세계', '센텀', '등', '센텀시티', '신세계', '센텀', '등', '센텀시티', '신세계', '센텀', '등', '센텀시티', '신세계', '센텀', '등', '센텀시티', '신세계', '센텀', '등', '송도해수욕장', '송도해수욕장', '송도해수욕장', '송도해수욕장', '송도해수욕장', '송도해수욕장', '송도해수욕장', '송도해수욕장', '송도해수욕장', '송도해수욕장', '송도해수욕장', '송도해수욕장', '송도해수욕장', '송도해수욕장', '송도해수욕장', '송도해수욕장', '송정해수욕장', '송정해수욕장', '송정해수욕장', '송정해수욕장', '송정해수욕장', '송정해수욕장', '송정해수욕장', '송정해수욕장', '송정해수욕장', '송정해수욕장', '송정해수욕장', '송정해수욕장', '송정해수욕장', '송정해수욕장', '송정해수욕장', '송정해수욕장', '오륙도', '이기대', '갈맷', '길', '오륙도', '이기대', '갈맷', '길', '오륙도', '이기대', '갈맷', '길', '오륙도', '이기대', '갈맷', '길', '오륙도', '이기대', '갈맷', '길', '오륙도', '이기대', '갈맷', '길', '오륙도', '이기대', '갈맷', '길', '오륙도', '이기대', '갈맷', '길', '오륙도', '이기대', '갈맷', '길', '오륙도', '이기대', '갈맷', '길', '오륙도', '이기대', '갈맷', '길', '오륙도', '이기대', '갈맷', '길', '오륙도', '이기대', '갈맷', '길', '오륙도', '이기대', '갈맷', '길', '오륙도', '이기대', '갈맷', '길', '오륙도', '이기대', '갈맷', '길', '을숙도', '을숙도', '을숙도', '을숙도', '을숙도', '을숙도', '을숙도', '을숙도', '을숙도', '을숙도', '을숙도', '을숙도', '을숙도', '을숙도', '을숙도', '을숙도', '일광해수욕장', '일광해수욕장', '일광해수욕장', '일광해수욕장', '일광해수욕장', '일광해수욕장', '일광해수욕장', '일광해수욕장', '일광해수욕장', '일광해수욕장', '일광해수욕장', '일광해수욕장', '일광해수욕장', '일광해수욕장', '일광해수욕장', '일광해수욕장', '자갈치', '국제', '시장', '부평', '깡통', '야시장', '자갈치', '국제', '시장', '부평', '깡통', '야시장', '자갈치', '국제', '시장', '부평', '깡통', '야시장', '자갈치', '국제', '시장', '부평', '깡통', '야시장', '자갈치', '국제', '시장', '부평', '깡통', '야시장', '자갈치', '국제', '시장', '부평', '깡통', '야시장', '자갈치', '국제', '시장', '부평', '깡통', '야시장', '자갈치', '국제', '시장', '부평', '깡통', '야시장', '자갈치', '국제', '시장', '부평', '깡통', '야시장', '자갈치', '국제', '시장', '부평', '깡통', '야시장', '자갈치', '국제', '시장', '부평', '깡통', '야시장', '자갈치', '국제', '시장', '부평', '깡통', '야시장', '자갈치', '국제', '시장', '부평', '깡통', '야시장', '자갈치', '국제', '시장', '부평', '깡통', '야시장', '자갈치', '국제', '시장', '부평', '깡통', '야시장', '자갈치', '국제', '시장', '부평', '깡통', '야시', '장전', '포', '카페', '거리', '전포', '카페', '거리', '전포', '카페', '거리', '전포', '카페', '거리', '전포', '카페', '거리', '전포', '카페', '거리', '전포', '카페', '거리', '전포', '카페', '거리', '전포', '카페', '거리', '전포', '카페', '거리', '전포', '카페', '거리', '전포', '카페', '거리', '전포', '카페', '거리', '전포', '카페', '거리', '전포', '카페', '거리', '전포', '카페', '거리', '태종대', '태종대', '태종대', '태종대', '태종대', '태종대', '태종대', '태종대', '태종대', '태종대', '태종대', '태종대', '태종대', '태종대', '태종대', '태종대', '해운대해수욕장', '해운대해수욕장', '해운대해수욕장', '해운대해수욕장', '해운대해수욕장', '해운대해수욕장', '해운대해수욕장', '해운대해수욕장', '해운대해수욕장', '해운대해수욕장', '해운대해수욕장', '해운대해수욕장', '해운대해수욕장', '해운대해수욕장', '해운대해수욕장', '해운대해수욕장', '흰여울', '문화', '마을', '흰여울', '문화', '마을', '흰여울', '문화', '마을', '흰여울', '문화', '마을', '흰여울', '문화', '마을', '흰여울', '문화', '마을', '흰여울', '문화', '마을', '흰여울', '문화', '마을', '흰여울', '문화', '마을', '흰여울', '문화', '마을', '흰여울', '문화', '마을', '흰여울', '문화', '마을', '흰여울', '문화', '마을', '흰여울', '문화', '마을', '흰여울', '문화', '마을', '흰여울', '문화', '마을', '광장', '용두산', '공원', '보수동책방골목', '광장', '용두산', '공원', '보수동책방골목', '광장', '용두산', '공원', '보수동책방골목', '광장', '용두산', '공원', '보수동책방골목', '광장', '용두산', '공원', '보수동책방골목', '광장', '용두산', '공원', '보수동책방골목', '광장', '용두산', '공원', '보수동책방골목', '광장', '용두산', '공원', '보수동책방골목', '광장', '용두산', '공원', '보수동책방골목', '광장', '용두산', '공원', '보수동책방골목', '광장', '용두산', '공원', '보수동책방골목', '광장', '용두산', '공원', '보수동책방골목', '광장', '용두산', '공원', '보수동책방골목', '광장', '용두산', '공원', '보수동책방골목', '광장', '용두산', '공원', '보수동책방골목', '광장', '용두산', '공원', '보수동책방골목', '감천', '문화', '마을', '감천', '문화', '마을', '감천', '문화', '마을', '감천', '문화', '마을', '감천', '문화', '마을', '감천', '문화', '마을', '감천', '문화', '마을', '감천', '문화', '마을', '감천', '문화', '마을', '감천', '문화', '마을', '감천', '문화', '마을', '감천', '문화', '마을', '감천', '문화', '마을', '감천', '문화', '마을', '감천', '문화', '마을', '감천', '문화', '마을', '국립', '해양', '박물관', '국립', '해양', '박물관', '국립', '해양', '박물관', '국립', '해양', '박물관', '국립', '해양', '박물관', '국립', '해양', '박물관', '국립', '해양', '박물관', '국립', '해양', '박물관', '국립', '해양', '박물관', '국립', '해양', '박물관', '다대', '포', '해수욕장', '꿈', '낙', '분수', '대포', '해수욕장', '꿈', '낙', '분수', '대포', '해수욕장', '꿈', '낙', '분수', '대포', '해수욕장', '꿈', '낙', '분수', '대포', '해수욕장', '꿈', '낙', '분수', '대포', '해수욕장', '꿈', '낙', '분수', '대포', '해수욕장', '꿈', '낙', '분수', '대포', '해수욕장', '꿈', '낙', '분수', '대포', '해수욕장', '꿈', '낙', '분수', '대포', '해수욕장', '꿈', '낙', '분수', '대포', '해수욕장', '꿈', '낙', '분수', '대포', '해수욕장', '꿈', '낙', '분수', '대포', '해수욕장', '꿈', '낙', '분수', '대포', '해수욕장', '꿈', '낙', '분수', '대포', '해수욕장', '꿈', '낙', '분수', '대포', '해수욕장', '꿈', '낙', '분수', '동백섬', '누리', '마루', '하우스', '동백섬', '누리', '마루', '하우스', '동백섬', '누리', '마루', '하우스', '동백섬', '누리', '마루', '하우스', '동백섬', '누리', '마루', '하우스', '동백섬', '누리', '마루', '하우스', '동백섬', '누리', '마루', '하우스', '동백섬', '누리', '마루', '하우스', '동백섬', '누리', '마루', '하우스', '동백섬', '누리', '마루', '하우스', '동백섬', '누리', '마루', '하우스', '동백섬', '누리', '마루', '하우스', '동백섬', '누리', '마루', '하우스', '동백섬', '누리', '마루', '하우스', '동백섬', '누리', '마루', '하우스', '동백섬', '누리', '마루', '하우스', '렛츠런파크렛츠런', '파크', '마린시티', '카페', '거리', '마린시티', '카페', '거리', '마린시티', '카페', '거리', '마린시티', '카페', '거리', '마린시티', '카페', '거리', '마린시티', '카페', '거리', '마린시티', '카페', '거리', '마린시티', '카페', '거리', '마린시티', '카페', '거리', '마린시티', '카페', '거리', '마린시티', '카페', '거리', '마린시티', '카페', '거리', '마린시티', '카페', '거리', '마린시티', '카페', '거리', '마린시티', '카페', '거리', '마린시티', '카페', '거리', '부산', '서면', '부산', '서면', '부산', '서면', '부산', '서면', '부산', '서면', '부산', '서면', '부산', '서면', '부산', '서면', '부산', '서면', '부산', '서면', '부산', '서면', '부산', '서면', '부산', '서면', '부산', '서면', '부산', '서면', '부산', '서면', '부산시', '민공', '부산시', '민공', '부산시', '민공', '부산시', '민공', '부산시', '민공', '부산시', '민공', '부산시', '민공', '부산시', '민공', '부산시', '민공', '부산시', '민공', '부산시', '민공', '부산시', '민공', '부산시', '민공', '부산시', '민공', '센텀시티', '신세계', '텀', '등', '센텀시티', '신세계', '센텀', '등', '센텀시티', '신세계', '센텀', '등', '센텀시티', '신세계', '센텀', '등', '센텀시티', '신세계', '센텀', '등', '센텀시티', '신세계', '센텀', '등', '센텀시티', '신세계', '센텀', '등', '센텀시티', '신세계', '센텀', '등', '센텀시티', '신세계', '센텀', '등', '센텀시티', '신세계', '센텀', '등', '센텀시티', '신세계', '센텀', '등', '센텀시티', '신세계', '센텀', '등', '센텀시티', '신세계', '센텀', '등', '센텀시티', '신세계', '센텀', '등', '센텀시티', '신세계', '센텀', '등', '센텀시티', '신세계', '센텀', '등', '송도해수욕장', '송도해수욕장', '송도해수욕장', '송도해수욕장', '송도해수욕장', '송도해수욕장', '송도해수욕장', '송도해수욕장', '송도해수욕장', '송도해수욕장', '송도해수욕장', '송도해수욕장', '송도해수욕장', '송도해수욕장', '송도해수욕장', '송도해수욕장', '송정해수욕장', '송정해수욕장', '송정해수욕장', '송정해수욕장', '송정해수욕장', '송정해수욕장', '송정해수욕장', '송정해수욕장', '송정해수욕장', '송정해수욕장', '송정해수욕장', '송정해수욕장', '송정해수욕장', '송정해수욕장', '송정해수욕장', '송정해수욕장', '오륙도', '이기대', '갈맷', '길', '오륙도', '이기대', '갈맷', '길', '오륙도', '이기대', '갈맷', '길', '오륙도', '이기대', '갈맷', '길', '오륙도', '이기대', '갈맷', '길', '오륙도', '이기대', '갈맷', '길', '오륙도', '이기대', '갈맷', '길', '오륙도', '이기대', '갈맷', '길', '오륙도', '이기대', '갈맷', '길', '오륙도', '이기대', '갈맷', '길', '오륙도', '이기대', '갈맷', '길', '오륙도', '이기대', '갈맷', '길', '오륙도', '이기대', '갈맷', '길', '오륙도', '이기대', '갈맷', '길', '오륙도', '이기대', '갈맷', '길', '오륙도', '이기대', '갈맷', '길', '을숙도', '을숙도', '을숙도', '을숙도', '을숙도', '을숙도', '을숙도', '을숙도', '을숙도', '을숙도', '을숙도', '을숙도', '을숙도', '을숙도', '을숙도', '을숙도', '일광해수욕장', '일광해수욕장', '일광해수욕장', '일광해수욕장', '일광해수욕장', '일광해수욕장', '일광해수욕장', '일광해수욕장', '일광해수욕장', '일광해수욕장', '일광해수욕장', '일광해수욕장', '일광해수욕장', '일광해수욕장', '일광해수욕장', '일광해수욕장', '자갈치', '국제', '시장', '부평', '깡통', '야시장', '자갈치', '국제', '시장', '부평', '깡통', '야시장', '자갈치', '국제', '시장', '부평', '깡통', '야시장', '자갈치', '국제', '시장', '부평', '깡통', '야시장', '자갈치', '국제', '시장', '부평', '깡통', '야시장', '자갈치', '국제', '시장', '부평', '깡통', '야시장', '자갈치', '국제', '시장', '부평', '깡통', '야시장', '자갈치', '국제', '시장', '부평', '깡통', '야시장', '자갈치', '국제', '시장', '부평', '깡통', '야시장', '자갈치', '국제', '시장', '부평', '깡통', '야시장', '자갈치', '국제', '시장', '부평', '깡통', '야시장', '자갈치', '국제', '시장', '부평', '깡통', '야시장', '자갈치', '국제', '시장', '부평', '깡통', '야시장', '자갈치', '국제', '시장', '부평', '깡통', '야시장', '자갈치', '국제', '시장', '부평', '깡통', '야시장', '자갈치', '국제', '시장', '부평', '깡통', '야시', '장전', '포', '카페', '거리', '전포', '카페', '거리', '전포', '카페', '거리', '전포', '카페', '거리', '전포', '카페', '거리', '전포', '카페', '거리', '전포', '카페', '거리', '전포', '카페', '거리', '전포', '카페', '거리', '전포', '카페', '거리', '전포', '카페', '거리', '전포', '카페', '거리', '전포', '카페', '거리', '전포', '카페', '거리', '전포', '카페', '거리', '전포', '카페', '거리', '태종대', '태종대', '태종대', '태종대', '태종대', '태종대', '태종대', '태종대', '태종대', '태종대', '태종대', '태종대', '태종대', '태종대', '태종대', '태종대', '해운대해수욕장', '해운대해수욕장', '해운대해수욕장', '해운대해수욕장', '해운대해수욕장', '해운대해수욕장', '해운대해수욕장', '해운대해수욕장', '해운대해수욕장', '해운대해수욕장', '해운대해수욕장', '해운대해수욕장', '해운대해수욕장', '해운대해수욕장', '해운대해수욕장', '해운대해수욕장', '흰여울', '문화', '마을', '흰여울', '문화', '마을', '흰여울', '문화', '마을', '흰여울', '문화', '마을', '흰여울', '문화', '마을', '흰여울', '문화', '마을', '흰여울', '문화', '마을', '흰여울', '문화', '마을', '흰여울', '문화', '마을', '흰여울', '문화', '마을', '흰여울', '문화', '마을', '흰여울', '문화', '마을', '흰여울', '문화', '마을', '흰여울', '문화', '마을', '흰여울', '문화', '마을', '흰여울', '문화', '마을', '광장', '용두산', '공원', '보수동책방골목', '광장', '용두산', '공원', '보수동책방골목', '광장', '용두산', '공원', '보수동책방골목', '광장', '용두산', '공원', '보수동책방골목', '광장', '용두산', '공원', '보수동책방골목', '광장', '용두산', '공원', '보수동책방골목', '광장', '용두산', '공원', '보수동책방골목', '광장', '용두산', '공원', '보수동책방골목', '광장', '용두산', '공원', '보수동책방골목', '광장', '용두산', '공원', '보수동책방골목', '광장', '용두산', '공원', '보수동책방골목', '광장', '용두산', '공원', '보수동책방골목', '광장', '용두산', '공원', '보수동책방골목', '광장', '용두산', '공원', '보수동책방골목', '광장', '용두산', '공원', '보수동책방골목', '광장', '용두산', '공원', '보수동책방골목', '광장', '용두산', '공원', '보수동책방골목', '광장', '용두산', '공원', '보수동책방골목', '광장', '용두산', '공원', '보수동책방골목', '광장', '용두산', '공원', '보수동책방골목', '광장', '용두산', '공원', '보수동책방골목', '광장', '용두산', '공원', '보수동책방골목', '광장', '용두산', '공원', '보수동책방골목', '광장', '용두산', '공원', '보수동책방골목', '광장', '용두산', '공원', '보수동책방골목', '광장', '용두산', '공원', '보수동책방골목', '광장', '용두산', '공원', '보수동책방골목', '광장', '용두산', '공원', '보수동책방골목', '광장', '용두산', '공원', '보수동책방골목', '광장', '용두산', '공원', '보수동책방골목', '광장', '용두산', '공원', '보수동책방골목', '광장', '용두산', '공원', '보수동책방골목', '광장', '용두산', '공원', '보수동책방골목', '광장', '용두산', '공원', '보수동책방골목', '감천', '문화', '마을', '감천', '문화', '마을', '감천', '문화', '마을', '감천', '문화', '마을', '감천', '문화', '마을', '감천', '문화', '마을', '감천', '문화', '마을', '감천', '문화', '마을', '감천', '문화', '마을', '감천', '문화', '마을', '감천', '문화', '마을', '감천', '문화', '마을', '감천', '문화', '마을', '감천', '문화', '마을', '감천', '문화', '마을', '감천', '문화', '마을', '감천', '문화', '마을', '감천', '문화', '마을', '감천', '문화', '마을', '감천', '문화', '마을', '감천', '문화', '마을', '감천', '문화', '마을', '감천', '문화', '마을', '감천', '문화', '마을', '감천', '문화', '마을', '감천', '문화', '마을', '감천', '문화', '마을', '감천', '문화', '마을', '감천', '문화', '마을', '감천', '문화', '마을', '감천', '문화', '마을', '감천', '문화', '마을', '감천', '문화', '마을', '감천', '문화', '마을', '광안리해수욕장', '광안리해수욕장', '광안리해수욕장', '광안리해수욕장', '광안리해수욕장', '광안리해수욕장', '광안리해수욕장', '광안리해수욕장', '광안리해수욕장', '광안리해수욕장', '광안리해수욕장', '광안리해수욕장', '광안리해수욕장', '광안리해수욕장', '광안리해수욕장', '광안리해수욕장', '광안리해수욕장', '광안리해수욕장', '광안리해수욕장', '광안리해수욕장', '광안리해수욕장', '광안리해수욕장', '광안리해수욕장', '광안리해수욕장', '광안리해수욕장', '광안리해수욕장', '광안리해수욕장', '광안리해수욕장', '광안리해수욕장', '광안리해수욕장', '광안리해수욕장', '광안리해수욕장', '광안리해수욕장', '광안리해수욕장', '국립', '해양', '박물관', '국립', '해양', '박물관', '국립', '해양', '박물관', '국립', '해양', '박물관', '국립', '해양', '박물관', '국립', '해양', '박물관', '국립', '해양', '박물관', '국립', '해양', '박물관', '국립', '해양', '박물관', '국립', '해양', '박물관', '국립', '해양', '박물관', '국립', '해양', '박물관', '국립', '해양', '박물관', '국립', '해양', '박물관', '국립', '해양', '박물관', '국립', '해양', '박물관', '국립', '해양', '박물관', '국립', '해양', '박물관', '국립', '해양', '박물관', '국립', '해양', '박물관', '국립', '해양', '박물관', '국립', '해양', '박물관', '국립', '해양', '박물관', '국립', '해양', '박물관', '다대', '포', '해수욕장', '꿈', '낙', '분수', '대포', '해수욕장', '꿈', '낙', '분수', '대포', '해수욕장', '꿈', '낙', '분수', '대포', '해수욕장', '꿈', '낙', '분수', '대포', '해수욕장', '꿈', '낙', '분수', '대포', '해수욕장', '꿈', '낙', '분수', '대포', '해수욕장', '꿈', '낙', '분수', '대포', '해수욕장', '꿈', '낙', '분수', '대포', '해수욕장', '꿈', '낙', '분수', '대포', '해수욕장', '꿈', '낙', '분수', '대포', '해수욕장', '꿈', '낙', '분수', '대포', '해수욕장', '꿈', '낙', '분수', '대포', '해수욕장', '꿈', '낙', '분수', '대포', '해수욕장', '꿈', '낙', '분수', '대포', '해수욕장', '꿈', '낙', '분수', '대포', '해수욕장', '꿈', '낙', '분수', '대포', '해수욕장', '꿈', '낙', '분수', '대포', '해수욕장', '꿈', '낙', '분수', '대포', '해수욕장', '꿈', '낙', '분수', '대포', '해수욕장', '꿈', '낙', '분수', '대포', '해수욕장', '꿈', '낙', '분수', '대포', '해수욕장', '꿈', '낙', '분수', '대포', '해수욕장', '꿈', '낙', '분수', '대포', '해수욕장', '꿈', '낙', '분수', '대포', '해수욕장', '꿈', '낙', '분수', '대포', '해수욕장', '꿈', '낙', '분수', '대포', '해수욕장', '꿈', '낙', '분수', '대포', '해수욕장', '꿈', '낙', '분수', '대포', '해수욕장', '꿈', '낙', '분수', '대포', '해수욕장', '꿈', '낙', '분수', '대포', '해수욕장', '꿈', '낙', '분수', '대포', '해수욕장', '꿈', '낙', '분수', '대포', '해수욕장', '꿈', '낙', '분수', '대포', '해수욕장', '꿈', '낙', '분수', '동백섬', '누리', '마루', '하우스', '동백섬', '누리', '마루', '하우스', '동백섬', '누리', '마루', '하우스', '동백섬', '누리', '마루', '하우스', '동백섬', '누리', '마루', '하우스', '동백섬', '누리', '마루', '하우스', '동백섬', '누리', '마루', '하우스', '동백섬', '누리', '마루', '하우스', '동백섬', '누리', '마루', '하우스', '동백섬', '누리', '마루', '하우스', '동백섬', '누리', '마루', '하우스', '동백섬', '누리', '마루', '하우스', '동백섬', '누리', '마루', '하우스', '동백섬', '누리', '마루', '하우스', '동백섬', '누리', '마루', '하우스', '동백섬', '누리', '마루', '하우스', '동백섬', '누리', '마루', '하우스', '동백섬', '누리', '마루', '하우스', '동백섬', '누리', '마루', '하우스', '동백섬', '누리', '마루', '하우스', '동백섬', '누리', '마루', '하우스', '동백섬', '누리', '마루', '하우스', '동백섬', '누리', '마루', '하우스', '동백섬', '누리', '마루', '하우스', '동백섬', '누리', '마루', '하우스', '동백섬', '누리', '마루', '하우스', '동백섬', '누리', '마루', '하우스', '동백섬', '누리', '마루', '하우스', '동백섬', '누리', '마루', '하우스', '동백섬', '누리', '마루', '하우스', '동백섬', '누리', '마루', '하우스', '동백섬', '누리', '마루', '하우스', '동백섬', '누리', '마루', '하우스', '동백섬', '누리', '마루', '하우스', '렛츠런파크렛츠런', '파크', '렛츠런파크렛츠런', '파크', '렛츠런파크렛츠런', '파크', '렛츠런파크렛츠런', '파크', '렛츠런', '파크', '마린시티', '카페', '거리', '마린시티', '카페', '거리', '마린시티', '카페', '거리', '마린시티', '카페', '거리', '마린시티', '카페', '거리', '마린시티', '카페', '거리', '마린시티', '카페', '거리', '마린시티', '카페', '거리', '마린시티', '카페', '거리', '마린시티', '카페', '거리', '마린시티', '카페', '거리', '마린시티', '카페', '거리', '마린시티', '카페', '거리', '마린시티', '카페', '거리', '마린시티', '카페', '거리', '마린시티', '카페', '거리', '마린시티', '카페', '거리', '마린시티', '카페', '거리', '마린시티', '카페', '거리', '마린시티', '카페', '거리', '마린시티', '카페', '거리', '마린시티', '카페', '거리', '마린시티', '카페', '거리', '마린시티', '카페', '거리', '마린시티', '카페', '거리', '마린시티', '카페', '거리', '마린시티', '카페', '거리', '마린시티', '카페', '거리', '마린시티', '카페', '거리', '마린시티', '카페', '거리', '마린시티', '카페', '거리', '마린시티', '카페', '거리', '마린시티', '카페', '거리', '마린시티', '카페', '거리', '부산', '서면', '부산', '서면', '부산', '서면', '부산', '서면', '부산', '서면', '부산', '서면', '부산', '서면', '부산', '서면', '부산', '서면', '부산', '서면', '부산', '서면', '부산', '서면', '부산', '서면', '부산', '서면', '부산', '서면', '부산', '서면', '부산', '서면', '부산', '서면', '부산', '서면', '부산', '서면', '부산', '서면', '부산', '서면', '부산', '서면', '부산', '서면', '부산', '서면', '부산', '서면', '부산', '서면', '부산', '서면', '부산', '서면', '부산', '서면', '부산', '서면', '부산', '서면', '부산', '서면', '부산', '서면', '부산시', '민공', '부산시', '민공', '부산시', '민공', '부산시', '민공', '부산시', '민공', '부산시', '민공', '부산시', '민공', '부산시', '민공', '부산시', '민공', '부산시', '민공', '부산시', '민공', '부산시', '민공', '부산시', '민공', '부산시', '민공', '부산시', '민공', '부산시', '민공', '부산시', '민공', '부산시', '민공', '부산시', '민공', '부산시', '민공', '부산시', '민공', '부산시', '민공', '부산시', '민공', '부산시', '민공', '부산시', '민공', '부산시', '민공', '부산시', '민공', '부산시', '민공', '부산시', '민공', '부산시', '민공', '부산시', '민공', '센텀시티', '신세계', '텀', '등', '센텀시티', '신세계', '센텀', '등', '센텀시티', '신세계', '센텀', '등', '센텀시티', '신세계', '센텀', '등', '센텀시티', '신세계', '센텀', '등', '센텀시티', '신세계', '센텀', '등', '센텀시티', '신세계', '센텀', '등', '센텀시티', '신세계', '센텀', '등', '센텀시티', '신세계', '센텀', '등', '센텀시티', '신세계', '센텀', '등', '센텀시티', '신세계', '센텀', '등', '센텀시티', '신세계', '센텀', '등', '센텀시티', '신세계', '센텀', '등', '센텀시티', '신세계', '센텀', '등', '센텀시티', '신세계', '센텀', '등', '센텀시티', '신세계', '센텀', '등', '센텀시티', '신세계', '센텀', '등', '센텀시티', '신세계', '센텀', '등', '센텀시티', '신세계', '센텀', '등', '센텀시티', '신세계', '센텀', '등', '센텀시티', '신세계', '센텀', '등', '센텀시티', '신세계', '센텀', '등', '센텀시티', '신세계', '센텀', '등', '센텀시티', '신세계', '센텀', '등', '센텀시티', '신세계', '센텀', '등', '센텀시티', '신세계', '센텀', '등', '센텀시티', '신세계', '센텀', '등', '센텀시티', '신세계', '센텀', '등', '센텀시티', '신세계', '센텀', '등', '센텀시티', '신세계', '센텀', '등', '센텀시티', '신세계', '센텀', '등', '센텀시티', '신세계', '센텀', '등', '센텀시티', '신세계', '센텀', '등', '센텀시티', '신세계', '센텀', '등', '송도해수욕장', '송도해수욕장', '송도해수욕장', '송도해수욕장', '송도해수욕장', '송도해수욕장', '송도해수욕장', '송도해수욕장', '송도해수욕장', '송도해수욕장', '송도해수욕장', '송도해수욕장', '송도해수욕장', '송도해수욕장', '송도해수욕장', '송도해수욕장', '송도해수욕장', '송도해수욕장', '송도해수욕장', '송도해수욕장', '송도해수욕장', '송도해수욕장', '송도해수욕장', '송도해수욕장', '송도해수욕장', '송도해수욕장', '송도해수욕장', '송도해수욕장', '송도해수욕장', '송도해수욕장', '송도해수욕장', '송도해수욕장', '송도해수욕장', '송도해수욕장', '송정해수욕장', '송정해수욕장', '송정해수욕장', '송정해수욕장', '송정해수욕장', '송정해수욕장', '송정해수욕장', '송정해수욕장', '송정해수욕장', '송정해수욕장', '송정해수욕장', '송정해수욕장', '송정해수욕장', '송정해수욕장', '송정해수욕장', '송정해수욕장', '송정해수욕장', '송정해수욕장', '송정해수욕장', '송정해수욕장', '송정해수욕장', '송정해수욕장', '송정해수욕장', '송정해수욕장', '송정해수욕장', '송정해수욕장', '송정해수욕장', '송정해수욕장', '송정해수욕장', '송정해수욕장', '송정해수욕장', '송정해수욕장', '송정해수욕장', '송정해수욕장', '오륙도', '이기대', '갈맷', '길', '오륙도', '이기대', '갈맷', '길', '오륙도', '이기대', '갈맷', '길', '오륙도', '이기대', '갈맷', '길', '오륙도', '이기대', '갈맷', '길', '오륙도', '이기대', '갈맷', '길', '오륙도', '이기대', '갈맷', '길', '오륙도', '이기대', '갈맷', '길', '오륙도', '이기대', '갈맷', '길', '오륙도', '이기대', '갈맷', '길', '오륙도', '이기대', '갈맷', '길', '오륙도', '이기대', '갈맷', '길', '오륙도', '이기대', '갈맷', '길', '오륙도', '이기대', '갈맷', '길', '오륙도', '이기대', '갈맷', '길', '오륙도', '이기대', '갈맷', '길', '오륙도', '이기대', '갈맷', '길', '오륙도', '이기대', '갈맷', '길', '오륙도', '이기대', '갈맷', '길', '오륙도', '이기대', '갈맷', '길', '오륙도', '이기대', '갈맷', '길', '오륙도', '이기대', '갈맷', '길', '오륙도', '이기대', '갈맷', '길', '오륙도', '이기대', '갈맷', '길', '오륙도', '이기대', '갈맷', '길', '오륙도', '이기대', '갈맷', '길', '오륙도', '이기대', '갈맷', '길', '오륙도', '이기대', '갈맷', '길', '오륙도', '이기대', '갈맷', '길', '오륙도', '이기대', '갈맷', '길', '오륙도', '이기대', '갈맷', '길', '오륙도', '이기대', '갈맷', '길', '오륙도', '이기대', '갈맷', '길', '오륙도', '이기대', '갈맷', '길', '을숙도', '을숙도', '을숙도', '을숙도', '을숙도', '을숙도', '을숙도', '을숙도', '을숙도', '을숙도', '을숙도', '을숙도', '을숙도', '을숙도', '을숙도', '을숙도', '을숙도', '을숙도', '을숙도', '을숙도', '을숙도', '을숙도', '을숙도', '을숙도', '을숙도', '을숙도', '을숙도', '을숙도', '을숙도', '을숙도', '을숙도', '일광해수욕장', '일광해수욕장', '일광해수욕장', '일광해수욕장', '일광해수욕장', '일광해수욕장', '일광해수욕장', '일광해수욕장', '일광해수욕장', '일광해수욕장', '일광해수욕장', '일광해수욕장', '일광해수욕장', '일광해수욕장', '일광해수욕장', '일광해수욕장', '일광해수욕장', '일광해수욕장', '일광해수욕장', '일광해수욕장', '일광해수욕장', '일광해수욕장', '일광해수욕장', '일광해수욕장', '일광해수욕장', '일광해수욕장', '일광해수욕장', '일광해수욕장', '일광해수욕장', '일광해수욕장', '일광해수욕장', '일광해수욕장', '일광해수욕장', '일광해수욕장', '자갈치', '국제', '시장', '부평', '깡통', '야시장', '자갈치', '국제', '시장', '부평', '깡통', '야시장', '자갈치', '국제', '시장', '부평', '깡통', '야시장', '자갈치', '국제', '시장', '부평', '깡통', '야시장', '자갈치', '국제', '시장', '부평', '깡통', '야시장', '자갈치', '국제', '시장', '부평', '깡통', '야시장', '자갈치', '국제', '시장', '부평', '깡통', '야시장', '자갈치', '국제', '시장', '부평', '깡통', '야시장', '자갈치', '국제', '시장', '부평', '깡통', '야시장', '자갈치', '국제', '시장', '부평', '깡통', '야시장', '자갈치', '국제', '시장', '부평', '깡통', '야시장', '자갈치', '국제', '시장', '부평', '깡통', '야시장', '자갈치', '국제', '시장', '부평', '깡통', '야시장', '자갈치', '국제', '시장', '부평', '깡통', '야시장', '자갈치', '국제', '시장', '부평', '깡통', '야시장', '자갈치', '국제', '시장', '부평', '깡통', '야시장', '자갈치', '국제', '시장', '부평', '깡통', '야시장', '자갈치', '국제', '시장', '부평', '깡통', '야시장', '자갈치', '국제', '시장', '부평', '깡통', '야시장', '자갈치', '국제', '시장', '부평', '깡통', '야시장', '자갈치', '국제', '시장', '부평', '깡통', '야시장', '자갈치', '국제', '시장', '부평', '깡통', '야시장', '자갈치', '국제', '시장', '부평', '깡통', '야시장', '자갈치', '국제', '시장', '부평', '깡통', '야시장', '자갈치', '국제', '시장', '부평', '깡통', '야시장', '자갈치', '국제', '시장', '부평', '깡통', '야시장', '자갈치', '국제', '시장', '부평', '깡통', '야시장', '자갈치', '국제', '시장', '부평', '깡통', '야시장', '자갈치', '국제', '시장', '부평', '깡통', '야시장', '자갈치', '국제', '시장', '부평', '깡통', '야시장', '자갈치', '국제', '시장', '부평', '깡통', '야시장', '자갈치', '국제', '시장', '부평', '깡통', '야시장', '자갈치', '국제', '시장', '부평', '깡통', '야시장', '자갈치', '국제', '시장', '부평', '깡통', '야시', '장전', '포', '카페', '거리', '전포', '카페', '거리', '전포', '카페', '거리', '전포', '카페', '거리', '전포', '카페', '거리', '전포', '카페', '거리', '전포', '카페', '거리', '전포', '카페', '거리', '전포', '카페', '거리', '전포', '카페', '거리', '전포', '카페', '거리', '전포', '카페', '거리', '전포', '카페', '거리', '전포', '카페', '거리', '전포', '카페', '거리', '전포', '카페', '거리', '전포', '카페', '거리', '전포', '카페', '거리', '전포', '카페', '거리', '전포', '카페', '거리', '전포', '카페', '거리', '전포', '카페', '거리', '전포', '카페', '거리', '전포', '카페', '거리', '전포', '카페', '거리', '전포', '카페', '거리', '전포', '카페', '거리', '전포', '카페', '거리', '전포', '카페', '거리', '전포', '카페', '거리', '전포', '카페', '거리', '전포', '카페', '거리', '전포', '카페', '거리', '전포', '카페', '거리', '태종대', '태종대', '태종대', '태종대', '태종대', '태종대', '태종대', '태종대', '태종대', '태종대', '태종대', '태종대', '태종대', '태종대', '태종대', '태종대', '태종대', '태종대', '태종대', '태종대', '태종대', '태종대', '태종대', '태종대', '태종대', '태종대', '태종대', '태종대', '태종대', '태종대', '태종대', '태종대', '태종대', '태종대', '해운대해수욕장', '해운대해수욕장', '해운대해수욕장', '해운대해수욕장', '해운대해수욕장', '해운대해수욕장', '해운대해수욕장', '해운대해수욕장', '해운대해수욕장', '해운대해수욕장', '해운대해수욕장', '해운대해수욕장', '해운대해수욕장', '해운대해수욕장', '해운대해수욕장', '해운대해수욕장', '해운대해수욕장', '해운대해수욕장', '해운대해수욕장', '해운대해수욕장', '해운대해수욕장', '해운대해수욕장', '해운대해수욕장', '해운대해수욕장', '해운대해수욕장', '해운대해수욕장', '해운대해수욕장', '해운대해수욕장', '해운대해수욕장', '해운대해수욕장', '해운대해수욕장', '해운대해수욕장', '해운대해수욕장', '해운대해수욕장', '흰여울', '문화', '마을', '흰여울', '문화', '마을', '흰여울', '문화', '마을', '흰여울', '문화', '마을', '흰여울', '문화', '마을', '흰여울', '문화', '마을', '흰여울', '문화', '마을', '흰여울', '문화', '마을', '흰여울', '문화', '마을', '흰여울', '문화', '마을', '흰여울', '문화', '마을', '흰여울', '문화', '마을', '흰여울', '문화', '마을', '흰여울', '문화', '마을', '흰여울', '문화', '마을', '흰여울', '문화', '마을', '흰여울', '문화', '마을', '흰여울', '문화', '마을', '흰여울', '문화', '마을', '흰여울', '문화', '마을', '흰여울', '문화', '마을', '흰여울', '문화', '마을', '흰여울', '문화', '마을', '흰여울', '문화', '마을', '흰여울', '문화', '마을', '흰여울', '문화', '마을', '흰여울', '문화', '마을', '흰여울', '문화', '마을', '흰여울', '문화', '마을', '흰여울', '문화', '마을', '흰여울', '문화', '마을', '흰여울', '문화', '마을', '흰여울', '문화', '마을', '흰여울', '문화', '마을', '광장', '용두산', '공원', '보수동책방골목', '광장', '용두산', '공원', '보수동책방골목', '광장', '용두산', '공원', '보수동책방골목', '광장', '용두산', '공원', '보수동책방골목', '광장', '용두산', '공원', '보수동책방골목', '광장', '용두산', '공원', '보수동책방골목', '광장', '용두산', '공원', '보수동책방골목', '광장', '용두산', '공원', '보수동책방골목', '광장', '용두산', '공원', '보수동책방골목', '광장', '용두산', '공원', '보수동책방골목', '광장', '용두산', '공원', '보수동책방골목', '광장', '용두산', '공원', '보수동책방골목', '광장', '용두산', '공원', '보수동책방골목', '광장', '용두산', '공원', '보수동책방골목', '광장', '용두산', '공원', '보수동책방골목', '광장', '용두산', '공원', '보수동책방골목', '광장', '용두산', '공원', '보수동책방골목', '감천', '문화', '마을', '감천', '문화', '마을', '감천', '문화', '마을', '감천', '문화', '마을', '감천', '문화', '마을', '감천', '문화', '마을', '감천', '문화', '마을', '감천', '문화', '마을', '감천', '문화', '마을', '감천', '문화', '마을', '감천', '문화', '마을', '감천', '문화', '마을', '감천', '문화', '마을', '감천', '문화', '마을', '감천', '문화', '마을', '감천', '문화', '마을', '감천', '문화', '마을', '광안리해수욕장', '광안리해수욕장', '광안리해수욕장', '광안리해수욕장', '광안리해수욕장', '광안리해수욕장', '광안리해수욕장', '광안리해수욕장', '광안리해수욕장', '광안리해수욕장', '광안리해수욕장', '광안리해수욕장', '광안리해수욕장', '광안리해수욕장', '광안리해수욕장', '광안리해수욕장', '광안리해수욕장', '국립', '해양', '박물관', '국립', '해양', '박물관', '국립', '해양', '박물관', '국립', '해양', '박물관', '국립', '해양', '박물관', '국립', '해양', '박물관', '국립', '해양', '박물관', '국립', '해양', '박물관', '국립', '해양', '박물관', '국립', '해양', '박물관', '국립', '해양', '박물관', '국립', '해양', '박물관', '국립', '해양', '박물관', '국립', '해양', '박물관', '국립', '해양', '박물관', '다대', '포', '해수욕장', '꿈', '낙', '분수', '대포', '해수욕장', '꿈', '낙', '분수', '대포', '해수욕장', '꿈', '낙', '분수', '대포', '해수욕장', '꿈', '낙', '분수', '대포', '해수욕장', '꿈', '낙', '분수', '대포', '해수욕장', '꿈', '낙', '분수', '대포', '해수욕장', '꿈', '낙', '분수', '대포', '해수욕장', '꿈', '낙', '분수', '대포', '해수욕장', '꿈', '낙', '분수', '대포', '해수욕장', '꿈', '낙', '분수', '대포', '해수욕장', '꿈', '낙', '분수', '대포', '해수욕장', '꿈', '낙', '분수', '대포', '해수욕장', '꿈', '낙', '분수', '대포', '해수욕장', '꿈', '낙', '분수', '대포', '해수욕장', '꿈', '낙', '분수', '대포', '해수욕장', '꿈', '낙', '분수', '대포', '해수욕장', '꿈', '낙', '분수', '동백섬', '누리', '마루', '하우스', '동백섬', '누리', '마루', '하우스', '동백섬', '누리', '마루', '하우스', '동백섬', '누리', '마루', '하우스', '동백섬', '누리', '마루', '하우스', '동백섬', '누리', '마루', '하우스', '동백섬', '누리', '마루', '하우스', '동백섬', '누리', '마루', '하우스', '동백섬', '누리', '마루', '하우스', '동백섬', '누리', '마루', '하우스', '동백섬', '누리', '마루', '하우스', '동백섬', '누리', '마루', '하우스', '동백섬', '누리', '마루', '하우스', '동백섬', '누리', '마루', '하우스', '동백섬', '누리', '마루', '하우스', '동백섬', '누리', '마루', '하우스', '동백섬', '누리', '마루', '하우스', '렛츠런파크렛츠런', '파크', '렛츠런', '파크', '마린시티', '카페', '거리', '마린시티', '카페', '거리', '마린시티', '카페', '거리', '마린시티', '카페', '거리', '마린시티', '카페', '거리', '마린시티', '카페', '거리', '마린시티', '카페', '거리', '마린시티', '카페', '거리', '마린시티', '카페', '거리', '마린시티', '카페', '거리', '마린시티', '카페', '거리', '마린시티', '카페', '거리', '마린시티', '카페', '거리', '마린시티', '카페', '거리', '마린시티', '카페', '거리', '마린시티', '카페', '거리', '마린시티', '카페', '거리', '부산', '서면', '부산', '서면', '부산', '서면', '부산', '서면', '부산', '서면', '부산', '서면', '부산', '서면', '부산', '서면', '부산', '서면', '부산', '서면', '부산', '서면', '부산', '서면', '부산', '서면', '부산', '서면', '부산', '서면', '부산', '서면', '부산', '서면', '부산시', '민공', '부산시', '민공', '부산시', '민공', '부산시', '민공', '부산시', '민공', '부산시', '민공', '부산시', '민공', '부산시', '민공', '부산시', '민공', '부산시', '민공', '부산시', '민공', '부산시', '민공', '부산시', '민공', '부산시', '민공', '부산시', '민공', '부산시', '민공', '부산시', '민공', '센텀시티', '신세계', '텀', '등', '센텀시티', '신세계', '센텀', '등', '센텀시티', '신세계', '센텀', '등', '센텀시티', '신세계', '센텀', '등', '센텀시티', '신세계', '센텀', '등', '센텀시티', '신세계', '센텀', '등', '센텀시티', '신세계', '센텀', '등', '센텀시티', '신세계', '센텀', '등', '센텀시티', '신세계', '센텀', '등', '센텀시티', '신세계', '센텀', '등', '센텀시티', '신세계', '센텀', '등', '센텀시티', '신세계', '센텀', '등', '센텀시티', '신세계', '센텀', '등', '센텀시티', '신세계', '센텀', '등', '센텀시티', '신세계', '센텀', '등', '센텀시티', '신세계', '센텀', '등', '센텀시티', '신세계', '센텀', '등', '송도해수욕장', '송도해수욕장', '송도해수욕장', '송도해수욕장', '송도해수욕장', '송도해수욕장', '송도해수욕장', '송도해수욕장', '송도해수욕장', '송도해수욕장', '송도해수욕장', '송도해수욕장', '송도해수욕장', '송도해수욕장', '송도해수욕장', '송도해수욕장', '송도해수욕장', '송정해수욕장', '송정해수욕장', '송정해수욕장', '송정해수욕장', '송정해수욕장', '송정해수욕장', '송정해수욕장', '송정해수욕장', '송정해수욕장', '송정해수욕장', '송정해수욕장', '송정해수욕장', '송정해수욕장', '송정해수욕장', '송정해수욕장', '송정해수욕장', '송정해수욕장', '오륙도', '이기대', '갈맷', '길', '오륙도', '이기대', '갈맷', '길', '오륙도', '이기대', '갈맷', '길', '오륙도', '이기대', '갈맷', '길', '오륙도', '이기대', '갈맷', '길', '오륙도', '이기대', '갈맷', '길', '오륙도', '이기대', '갈맷', '길', '오륙도', '이기대', '갈맷', '길', '오륙도', '이기대', '갈맷', '길', '오륙도', '이기대', '갈맷', '길', '오륙도', '이기대', '갈맷', '길', '오륙도', '이기대', '갈맷', '길', '오륙도', '이기대', '갈맷', '길', '오륙도', '이기대', '갈맷', '길', '오륙도', '이기대', '갈맷', '길', '오륙도', '이기대', '갈맷', '길', '오륙도', '이기대', '갈맷', '길', '을숙도', '을숙도', '을숙도', '을숙도', '을숙도', '을숙도', '을숙도', '을숙도', '을숙도', '을숙도', '을숙도', '을숙도', '을숙도', '을숙도', '을숙도', '을숙도', '일광해수욕장', '일광해수욕장', '일광해수욕장', '일광해수욕장', '일광해수욕장', '일광해수욕장', '일광해수욕장', '일광해수욕장', '일광해수욕장', '일광해수욕장', '일광해수욕장', '일광해수욕장', '일광해수욕장', '일광해수욕장', '일광해수욕장', '일광해수욕장', '일광해수욕장', '자갈치', '국제', '시장', '부평', '깡통', '야시장', '자갈치', '국제', '시장', '부평', '깡통', '야시장', '자갈치', '국제', '시장', '부평', '깡통', '야시장', '자갈치', '국제', '시장', '부평', '깡통', '야시장', '자갈치', '국제', '시장', '부평', '깡통', '야시장', '자갈치', '국제', '시장', '부평', '깡통', '야시장', '자갈치', '국제', '시장', '부평', '깡통', '야시장', '자갈치', '국제', '시장', '부평', '깡통', '야시장', '자갈치', '국제', '시장', '부평', '깡통', '야시장', '자갈치', '국제', '시장', '부평', '깡통', '야시장', '자갈치', '국제', '시장', '부평', '깡통', '야시장', '자갈치', '국제', '시장', '부평', '깡통', '야시장', '자갈치', '국제', '시장', '부평', '깡통', '야시장', '자갈치', '국제', '시장', '부평', '깡통', '야시장', '자갈치', '국제', '시장', '부평', '깡통', '야시장', '자갈치', '국제', '시장', '부평', '깡통', '야시장', '자갈치', '국제', '시장', '부평', '깡통', '야시', '장전', '포', '카페', '거리', '전포', '카페', '거리', '전포', '카페', '거리', '전포', '카페', '거리', '전포', '카페', '거리', '전포', '카페', '거리', '전포', '카페', '거리', '전포', '카페', '거리', '전포', '카페', '거리', '전포', '카페', '거리', '전포', '카페', '거리', '전포', '카페', '거리', '전포', '카페', '거리', '전포', '카페', '거리', '전포', '카페', '거리', '전포', '카페', '거리', '전포', '카페', '거리', '태종대', '태종대', '태종대', '태종대', '태종대', '태종대', '태종대', '태종대', '태종대', '태종대', '태종대', '태종대', '태종대', '태종대', '태종대', '태종대', '태종대', '해운대해수욕장', '해운대해수욕장', '해운대해수욕장', '해운대해수욕장', '해운대해수욕장', '해운대해수욕장', '해운대해수욕장', '해운대해수욕장', '해운대해수욕장', '해운대해수욕장', '해운대해수욕장', '해운대해수욕장', '해운대해수욕장', '해운대해수욕장', '해운대해수욕장', '해운대해수욕장', '해운대해수욕장', '흰여울', '문화', '마을', '흰여울', '문화', '마을', '흰여울', '문화', '마을', '흰여울', '문화', '마을', '흰여울', '문화', '마을', '흰여울', '문화', '마을', '흰여울', '문화', '마을', '흰여울', '문화', '마을', '흰여울', '문화', '마을', '흰여울', '문화', '마을', '흰여울', '문화', '마을', '흰여울', '문화', '마을', '흰여울', '문화', '마을', '흰여울', '문화', '마을', '흰여울', '문화', '마을', '흰여울', '문화', '마을', '흰여울', '문화', '마을']\n"
     ]
    }
   ],
   "source": [
    "# 전체 말뭉치(corpus)에서 명사 형태소 추출\n",
    "nouns = okt.nouns(apply_regular_expression(corpus))\n",
    "print(nouns)"
   ]
  },
  {
   "cell_type": "code",
   "execution_count": 52,
   "id": "e6723c35",
   "metadata": {},
   "outputs": [],
   "source": [
    "# 빈도 탐색\n",
    "counter = Counter(nouns)"
   ]
  },
  {
   "cell_type": "code",
   "execution_count": 53,
   "id": "c8899943",
   "metadata": {},
   "outputs": [
    {
     "data": {
      "text/plain": [
       "[('문화', 262),\n",
       " ('마을', 262),\n",
       " ('카페', 262),\n",
       " ('거리', 262),\n",
       " ('광장', 131),\n",
       " ('용두산', 131),\n",
       " ('보수동책방골목', 131),\n",
       " ('감천', 131),\n",
       " ('광안리해수욕장', 131),\n",
       " ('해수욕장', 131)]"
      ]
     },
     "execution_count": 53,
     "metadata": {},
     "output_type": "execute_result"
    }
   ],
   "source": [
    "counter.most_common(10)"
   ]
  },
  {
   "cell_type": "code",
   "execution_count": 54,
   "id": "5e31f49a",
   "metadata": {},
   "outputs": [
    {
     "data": {
      "text/plain": [
       "[('문화', 262), ('마을', 262), ('카페', 262), ('거리', 262), ('광장', 131)]"
      ]
     },
     "execution_count": 54,
     "metadata": {},
     "output_type": "execute_result"
    }
   ],
   "source": [
    "counter.most_common(5)"
   ]
  },
  {
   "cell_type": "code",
   "execution_count": 55,
   "id": "022e3aae",
   "metadata": {},
   "outputs": [
    {
     "data": {
      "text/plain": [
       "[('문화', 262),\n",
       " ('마을', 262),\n",
       " ('카페', 262),\n",
       " ('거리', 262),\n",
       " ('광장', 131),\n",
       " ('용두산', 131),\n",
       " ('보수동책방골목', 131),\n",
       " ('감천', 131),\n",
       " ('광안리해수욕장', 131),\n",
       " ('해수욕장', 131)]"
      ]
     },
     "execution_count": 55,
     "metadata": {},
     "output_type": "execute_result"
    }
   ],
   "source": [
    "available_counter = Counter({x: counter[x] for x in counter if len(x) > 1})\n",
    "available_counter.most_common(10)"
   ]
  },
  {
   "cell_type": "code",
   "execution_count": 56,
   "id": "904fa309",
   "metadata": {},
   "outputs": [
    {
     "data": {
      "text/plain": [
       "[['휴'],\n",
       " ['아이구'],\n",
       " ['아이쿠'],\n",
       " ['아이고'],\n",
       " ['어'],\n",
       " ['나'],\n",
       " ['우리'],\n",
       " ['저희'],\n",
       " ['따라'],\n",
       " ['의해']]"
      ]
     },
     "execution_count": 56,
     "metadata": {},
     "output_type": "execute_result"
    }
   ],
   "source": [
    "stopwords = pd.read_csv(\"https://raw.githubusercontent.com/yoonkt200/FastCampusDataset/master/korean_stopwords.txt\").values.tolist()\n",
    "stopwords[:10]"
   ]
  },
  {
   "cell_type": "code",
   "execution_count": 57,
   "id": "449bf883",
   "metadata": {},
   "outputs": [],
   "source": [
    "from sklearn.feature_extraction.text import CountVectorizer\n",
    "\n",
    "def text_cleaning(text):\n",
    "    hangul = re.compile('[^ ㄱ-ㅣ 가-힣]')  # 정규 표현식 처리\n",
    "    result = hangul.sub('', text)\n",
    "    okt = Okt()  # 형태소 추출\n",
    "    nouns = okt.nouns(result)\n",
    "    nouns = [x for x in nouns if len(x) > 1]  # 한글자 키워드 제거\n",
    "    nouns = [x for x in nouns if x not in stopwords]  # 불용어 제거\n",
    "    return nouns\n",
    "\n",
    "vect = CountVectorizer(tokenizer = lambda x: text_cleaning(x))\n",
    "bow_vect = vect.fit_transform(df['PLC_NM'].tolist())\n",
    "word_list = vect.get_feature_names()\n",
    "count_list = bow_vect.toarray().sum(axis=0)"
   ]
  },
  {
   "cell_type": "code",
   "execution_count": 58,
   "id": "19530e26",
   "metadata": {},
   "outputs": [
    {
     "data": {
      "text/plain": [
       "['갈맷길',\n",
       " '감천',\n",
       " '거리',\n",
       " '공원',\n",
       " '광안리해수욕장',\n",
       " '광장',\n",
       " '국립',\n",
       " '국제',\n",
       " '깡통',\n",
       " '누리',\n",
       " '다대',\n",
       " '동백섬',\n",
       " '렛츠런',\n",
       " '마루',\n",
       " '마린시티',\n",
       " '마을',\n",
       " '문화',\n",
       " '민공',\n",
       " '박물관',\n",
       " '보수동책방골목',\n",
       " '부산',\n",
       " '부산시',\n",
       " '부평',\n",
       " '분수',\n",
       " '서면',\n",
       " '센텀',\n",
       " '센텀시티',\n",
       " '송도해수욕장',\n",
       " '송정해수욕장',\n",
       " '시장',\n",
       " '신세계',\n",
       " '야시장',\n",
       " '오륙도',\n",
       " '용두산',\n",
       " '을숙도',\n",
       " '이기대',\n",
       " '일광해수욕장',\n",
       " '자갈치',\n",
       " '카페',\n",
       " '태종대',\n",
       " '파크',\n",
       " '하우스',\n",
       " '해수욕장',\n",
       " '해양',\n",
       " '해운대해수욕장',\n",
       " '흰여울']"
      ]
     },
     "execution_count": 58,
     "metadata": {},
     "output_type": "execute_result"
    }
   ],
   "source": [
    "# 단어 리스트\n",
    "word_list"
   ]
  },
  {
   "cell_type": "code",
   "execution_count": 59,
   "id": "73be40f0",
   "metadata": {},
   "outputs": [
    {
     "data": {
      "text/plain": [
       "array([131, 131, 262, 131, 131, 131, 105, 131, 131, 131, 131, 131,  42,\n",
       "       131, 131, 262, 262, 126, 105, 131, 131, 126, 131, 131, 131, 131,\n",
       "       131, 131, 131, 131, 131, 131, 131, 131, 126, 131, 131, 131, 262,\n",
       "       131,  42, 131, 131, 105, 131, 131], dtype=int64)"
      ]
     },
     "execution_count": 59,
     "metadata": {},
     "output_type": "execute_result"
    }
   ],
   "source": [
    "# 각 단어가 등장한 총 횟수\n",
    "count_list"
   ]
  },
  {
   "cell_type": "code",
   "execution_count": 60,
   "id": "371fb464",
   "metadata": {},
   "outputs": [
    {
     "data": {
      "text/plain": [
       "array([[0, 0, 0, ..., 0, 0, 0],\n",
       "       [0, 0, 0, ..., 0, 0, 0],\n",
       "       [0, 0, 0, ..., 0, 0, 0],\n",
       "       ...,\n",
       "       [0, 0, 0, ..., 0, 0, 1],\n",
       "       [0, 0, 0, ..., 0, 0, 1],\n",
       "       [0, 0, 0, ..., 0, 0, 1]], dtype=int64)"
      ]
     },
     "execution_count": 60,
     "metadata": {},
     "output_type": "execute_result"
    }
   ],
   "source": [
    "# 각 단어의 등장 횟수\n",
    "bow_vect.toarray()"
   ]
  },
  {
   "cell_type": "code",
   "execution_count": 61,
   "id": "8559d115",
   "metadata": {},
   "outputs": [
    {
     "data": {
      "text/plain": [
       "(2626, 46)"
      ]
     },
     "execution_count": 61,
     "metadata": {},
     "output_type": "execute_result"
    }
   ],
   "source": [
    "bow_vect.shape"
   ]
  },
  {
   "cell_type": "code",
   "execution_count": 62,
   "id": "4286c4fe",
   "metadata": {},
   "outputs": [
    {
     "data": {
      "text/plain": [
       "{'갈맷길': 131,\n",
       " '감천': 131,\n",
       " '거리': 262,\n",
       " '공원': 131,\n",
       " '광안리해수욕장': 131,\n",
       " '광장': 131,\n",
       " '국립': 105,\n",
       " '국제': 131,\n",
       " '깡통': 131,\n",
       " '누리': 131,\n",
       " '다대': 131,\n",
       " '동백섬': 131,\n",
       " '렛츠런': 42,\n",
       " '마루': 131,\n",
       " '마린시티': 131,\n",
       " '마을': 262,\n",
       " '문화': 262,\n",
       " '민공': 126,\n",
       " '박물관': 105,\n",
       " '보수동책방골목': 131,\n",
       " '부산': 131,\n",
       " '부산시': 126,\n",
       " '부평': 131,\n",
       " '분수': 131,\n",
       " '서면': 131,\n",
       " '센텀': 131,\n",
       " '센텀시티': 131,\n",
       " '송도해수욕장': 131,\n",
       " '송정해수욕장': 131,\n",
       " '시장': 131,\n",
       " '신세계': 131,\n",
       " '야시장': 131,\n",
       " '오륙도': 131,\n",
       " '용두산': 131,\n",
       " '을숙도': 126,\n",
       " '이기대': 131,\n",
       " '일광해수욕장': 131,\n",
       " '자갈치': 131,\n",
       " '카페': 262,\n",
       " '태종대': 131,\n",
       " '파크': 42,\n",
       " '하우스': 131,\n",
       " '해수욕장': 131,\n",
       " '해양': 105,\n",
       " '해운대해수욕장': 131,\n",
       " '흰여울': 131}"
      ]
     },
     "execution_count": 62,
     "metadata": {},
     "output_type": "execute_result"
    }
   ],
   "source": [
    "# \"단어\" - \"총 등장 횟수\" Matching\n",
    "\n",
    "word_count_dict = dict(zip(word_list, count_list))\n",
    "word_count_dict"
   ]
  },
  {
   "cell_type": "code",
   "execution_count": 63,
   "id": "d32cd395",
   "metadata": {},
   "outputs": [],
   "source": [
    "from sklearn.feature_extraction.text import TfidfTransformer\n",
    "\n",
    "tfidf_vectorizer = TfidfTransformer()\n",
    "tf_idf_vect = tfidf_vectorizer.fit_transform(bow_vect)"
   ]
  },
  {
   "cell_type": "code",
   "execution_count": 64,
   "id": "6b8eacda",
   "metadata": {},
   "outputs": [
    {
     "name": "stdout",
     "output_type": "stream",
     "text": [
      "(2626, 46)\n"
     ]
    }
   ],
   "source": [
    "print(tf_idf_vect.shape)"
   ]
  },
  {
   "cell_type": "code",
   "execution_count": 65,
   "id": "59d60f3f",
   "metadata": {},
   "outputs": [
    {
     "name": "stdout",
     "output_type": "stream",
     "text": [
      "  (0, 33)\t0.5\n",
      "  (0, 19)\t0.5\n",
      "  (0, 5)\t0.5\n",
      "  (0, 3)\t0.5\n"
     ]
    }
   ],
   "source": [
    "# 단어 중요도(TF-IDF 값) -- 0이 아닌 것만 출력\n",
    "print(tf_idf_vect[0])"
   ]
  },
  {
   "cell_type": "code",
   "execution_count": 66,
   "id": "c41ce65d",
   "metadata": {},
   "outputs": [
    {
     "name": "stdout",
     "output_type": "stream",
     "text": [
      "(1, 46)\n",
      "[[0.  0.  0.  0.5 0.  0.5 0.  0.  0.  0.  0.  0.  0.  0.  0.  0.  0.  0.\n",
      "  0.  0.5 0.  0.  0.  0.  0.  0.  0.  0.  0.  0.  0.  0.  0.  0.5 0.  0.\n",
      "  0.  0.  0.  0.  0.  0.  0.  0.  0.  0. ]]\n"
     ]
    }
   ],
   "source": [
    "# 모든 단어의 중요도 -- 0인 값까지 포함\n",
    "print(tf_idf_vect[0].toarray().shape)\n",
    "print(tf_idf_vect[0].toarray())"
   ]
  },
  {
   "cell_type": "code",
   "execution_count": 67,
   "id": "454d4a47",
   "metadata": {},
   "outputs": [
    {
     "data": {
      "text/plain": [
       "{'광장': 5,\n",
       " '용두산': 33,\n",
       " '공원': 3,\n",
       " '보수동책방골목': 19,\n",
       " '감천': 1,\n",
       " '문화': 16,\n",
       " '마을': 15,\n",
       " '광안리해수욕장': 4,\n",
       " '국립': 6,\n",
       " '해양': 43,\n",
       " '박물관': 18,\n",
       " '다대': 10,\n",
       " '해수욕장': 42,\n",
       " '분수': 23,\n",
       " '동백섬': 11,\n",
       " '누리': 9,\n",
       " '마루': 13,\n",
       " '하우스': 41,\n",
       " '렛츠런': 12,\n",
       " '파크': 40,\n",
       " '마린시티': 14,\n",
       " '카페': 38,\n",
       " '거리': 2,\n",
       " '부산': 20,\n",
       " '서면': 24,\n",
       " '부산시': 21,\n",
       " '민공': 17,\n",
       " '센텀시티': 26,\n",
       " '신세계': 30,\n",
       " '센텀': 25,\n",
       " '송도해수욕장': 27,\n",
       " '송정해수욕장': 28,\n",
       " '오륙도': 32,\n",
       " '이기대': 35,\n",
       " '갈맷길': 0,\n",
       " '을숙도': 34,\n",
       " '일광해수욕장': 36,\n",
       " '자갈치': 37,\n",
       " '국제': 7,\n",
       " '시장': 29,\n",
       " '부평': 22,\n",
       " '깡통': 8,\n",
       " '야시장': 31,\n",
       " '태종대': 39,\n",
       " '해운대해수욕장': 44,\n",
       " '흰여울': 45}"
      ]
     },
     "execution_count": 67,
     "metadata": {},
     "output_type": "execute_result"
    }
   ],
   "source": [
    "vect.vocabulary_"
   ]
  },
  {
   "cell_type": "code",
   "execution_count": 68,
   "id": "c3a1a0b6",
   "metadata": {},
   "outputs": [
    {
     "name": "stdout",
     "output_type": "stream",
     "text": [
      "{5: '광장', 33: '용두산', 3: '공원', 19: '보수동책방골목', 1: '감천', 16: '문화', 15: '마을', 4: '광안리해수욕장', 6: '국립', 43:...\n"
     ]
    }
   ],
   "source": [
    "invert_index_vectorizer = {v: k for k, v in vect.vocabulary_.items()}\n",
    "print(str(invert_index_vectorizer)[:100]+'...')"
   ]
  },
  {
   "cell_type": "code",
   "execution_count": 69,
   "id": "0de4cea5",
   "metadata": {},
   "outputs": [],
   "source": [
    "from wordcloud import WordCloud\n",
    "from konlpy.tag import Twitter\n",
    "from collections import Counter\n",
    "from tqdm import tqdm"
   ]
  }
 ],
 "metadata": {
  "kernelspec": {
   "display_name": "Python 3 (ipykernel)",
   "language": "python",
   "name": "python3"
  },
  "language_info": {
   "codemirror_mode": {
    "name": "ipython",
    "version": 3
   },
   "file_extension": ".py",
   "mimetype": "text/x-python",
   "name": "python",
   "nbconvert_exporter": "python",
   "pygments_lexer": "ipython3",
   "version": "3.9.7"
  }
 },
 "nbformat": 4,
 "nbformat_minor": 5
}
