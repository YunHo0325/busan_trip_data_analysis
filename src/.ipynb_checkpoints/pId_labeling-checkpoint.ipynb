{
 "cells": [
  {
   "cell_type": "code",
   "execution_count": 3,
   "id": "79056860",
   "metadata": {
    "ExecuteTime": {
     "end_time": "2022-06-15T15:08:43.796607Z",
     "start_time": "2022-06-15T15:08:43.794606Z"
    }
   },
   "outputs": [],
   "source": [
    "import pandas as pd\n",
    "import pymysql\n",
    "import os"
   ]
  },
  {
   "cell_type": "code",
   "execution_count": 2,
   "id": "83e738a5",
   "metadata": {
    "ExecuteTime": {
     "end_time": "2022-06-15T15:08:23.953372Z",
     "start_time": "2022-06-15T15:08:23.946373Z"
    }
   },
   "outputs": [],
   "source": [
    "conn = pymysql.connect(host=\"221.138.15.210\", user='busan', password='busan', db='busan', charset='utf8')\n",
    "cur = conn.cursor()"
   ]
  },
  {
   "cell_type": "code",
   "execution_count": 41,
   "id": "7ff6b119",
   "metadata": {
    "ExecuteTime": {
     "end_time": "2022-06-15T15:16:48.819214Z",
     "start_time": "2022-06-15T15:16:48.817213Z"
    }
   },
   "outputs": [],
   "source": [
    "path = 'D:/Github/busan_trip_data_analysis/dataset/transport'\n",
    "file_li = os.listdir(path)"
   ]
  },
  {
   "cell_type": "code",
   "execution_count": 54,
   "id": "a9b74dd4",
   "metadata": {
    "ExecuteTime": {
     "end_time": "2022-06-15T15:18:12.559495Z",
     "start_time": "2022-06-15T15:18:12.537495Z"
    }
   },
   "outputs": [],
   "source": [
    "df = pd.read_csv(path + \"/\" + file_li[0])\n",
    "for file in file_li:\n",
    "    df_tmp = pd.read_csv(path + \"/\" + file)\n",
    "    df = pd.concat([df, df_tmp])"
   ]
  },
  {
   "cell_type": "code",
   "execution_count": 55,
   "id": "ef15edf6",
   "metadata": {
    "ExecuteTime": {
     "end_time": "2022-06-15T15:18:13.437604Z",
     "start_time": "2022-06-15T15:18:13.432603Z"
    }
   },
   "outputs": [],
   "source": [
    "df = df.drop_duplicates(['PLACE_NM'], keep='last')\n",
    "df.index = (i for i in range(len(df)))"
   ]
  },
  {
   "cell_type": "code",
   "execution_count": 56,
   "id": "588508ed",
   "metadata": {
    "ExecuteTime": {
     "end_time": "2022-06-15T15:18:14.724667Z",
     "start_time": "2022-06-15T15:18:14.713666Z"
    }
   },
   "outputs": [
    {
     "data": {
      "text/html": [
       "<div>\n",
       "<style scoped>\n",
       "    .dataframe tbody tr th:only-of-type {\n",
       "        vertical-align: middle;\n",
       "    }\n",
       "\n",
       "    .dataframe tbody tr th {\n",
       "        vertical-align: top;\n",
       "    }\n",
       "\n",
       "    .dataframe thead th {\n",
       "        text-align: right;\n",
       "    }\n",
       "</style>\n",
       "<table border=\"1\" class=\"dataframe\">\n",
       "  <thead>\n",
       "    <tr style=\"text-align: right;\">\n",
       "      <th></th>\n",
       "      <th>PLACE_NM</th>\n",
       "      <th>TRRSRT_ROAD_NM_ADDR</th>\n",
       "      <th>TRNSPORT_INFO_CN</th>\n",
       "      <th>CRSLK_ADDR</th>\n",
       "      <th>CRSLK_ROAD_NM</th>\n",
       "      <th>CHILD_PRTC_ZONE_AT</th>\n",
       "      <th>CRSLK_LA</th>\n",
       "      <th>CRSLK_LO</th>\n",
       "    </tr>\n",
       "  </thead>\n",
       "  <tbody>\n",
       "    <tr>\n",
       "      <th>0</th>\n",
       "      <td>동래읍성지</td>\n",
       "      <td>부산광역시 동래구 명륜동, 복천동, 칠산동, 안락동 일원</td>\n",
       "      <td>지하철 이용 시 : 4호선 명장역 3번 출구 도보 21분 , 버스 이용 시 :  동...</td>\n",
       "      <td>부산 동래구 칠산동 19</td>\n",
       "      <td>동래로</td>\n",
       "      <td>Y</td>\n",
       "      <td>35.20699</td>\n",
       "      <td>129.09505</td>\n",
       "    </tr>\n",
       "    <tr>\n",
       "      <th>1</th>\n",
       "      <td>유치환우체통</td>\n",
       "      <td>초량이바구길 부산광역시 동구 중앙대로 209번길 16</td>\n",
       "      <td>도시철도 1호선 부산역 7번 출구 도보 2분, 초량역 1번 출구 도보 8분, 버스 ...</td>\n",
       "      <td>부산 동구 초량동 827-145</td>\n",
       "      <td>망양로</td>\n",
       "      <td>Y</td>\n",
       "      <td>35.12176</td>\n",
       "      <td>129.03336</td>\n",
       "    </tr>\n",
       "    <tr>\n",
       "      <th>2</th>\n",
       "      <td>중앙공원</td>\n",
       "      <td>중앙공원 부산광역시 서구 망양로 193번길 187, 민주공원 부산광역시시 중구 민주...</td>\n",
       "      <td>도시철도 1호선 초량역 1번 출구 → 508 버스 환승 → 중앙공원?민주공원 하차 ...</td>\n",
       "      <td>부산 서구 동대신동2가 102-35</td>\n",
       "      <td>망양로</td>\n",
       "      <td>N</td>\n",
       "      <td>35.11318</td>\n",
       "      <td>129.02600</td>\n",
       "    </tr>\n",
       "    <tr>\n",
       "      <th>3</th>\n",
       "      <td>유엔기념공원</td>\n",
       "      <td>유엔기념공원 부산광역시 남구 유엔평화로 93 유엔평화기념관 부산광역시 남구 홍곡로3...</td>\n",
       "      <td>유엔기념공원, 도시철도 2호선 대연역 3번 출구 도보 18분, 버스 134, 68,...</td>\n",
       "      <td>부산 남구 대연동 737-9</td>\n",
       "      <td>유엔평화로</td>\n",
       "      <td>Y</td>\n",
       "      <td>35.12625</td>\n",
       "      <td>129.09576</td>\n",
       "    </tr>\n",
       "    <tr>\n",
       "      <th>4</th>\n",
       "      <td>국립해양박물관</td>\n",
       "      <td>부산시 영도구 해양로301번길 45</td>\n",
       "      <td>도시철도 1호선 남포역 6번 출구 → 186, 66번 버스 환승 → 국립해양박물관 ...</td>\n",
       "      <td>부산 영도구 동삼동 254-25</td>\n",
       "      <td>해양로</td>\n",
       "      <td>N</td>\n",
       "      <td>35.08065</td>\n",
       "      <td>129.07500</td>\n",
       "    </tr>\n",
       "    <tr>\n",
       "      <th>...</th>\n",
       "      <td>...</td>\n",
       "      <td>...</td>\n",
       "      <td>...</td>\n",
       "      <td>...</td>\n",
       "      <td>...</td>\n",
       "      <td>...</td>\n",
       "      <td>...</td>\n",
       "      <td>...</td>\n",
       "    </tr>\n",
       "    <tr>\n",
       "      <th>243</th>\n",
       "      <td>영도대교</td>\n",
       "      <td>부산광역시 영도구 태종로 46</td>\n",
       "      <td>도시철도 1호선 남포동 6, 8번출구 도보 4분, 버스 6, 7, 9, 71, 50...</td>\n",
       "      <td>부산 영도구 대교동1가 190-1</td>\n",
       "      <td>태종로</td>\n",
       "      <td>N</td>\n",
       "      <td>35.09457</td>\n",
       "      <td>129.03683</td>\n",
       "    </tr>\n",
       "    <tr>\n",
       "      <th>244</th>\n",
       "      <td>민락수변공원</td>\n",
       "      <td>부산 수영구 광안해변로 361</td>\n",
       "      <td>도시철도 2호선 광안역 3번 출구 도보 20분, 버스 41, 83-1, 210 민락...</td>\n",
       "      <td>부산 수영구 민락동 110-7</td>\n",
       "      <td>광안해변로</td>\n",
       "      <td>N</td>\n",
       "      <td>35.15669</td>\n",
       "      <td>129.13344</td>\n",
       "    </tr>\n",
       "    <tr>\n",
       "      <th>245</th>\n",
       "      <td>대룡마을</td>\n",
       "      <td>부산광역시 기장군 장안읍 대룡1길 17</td>\n",
       "      <td>버스 187 대룡마을 하차, 주차 대룡마을 공영주차장(무료)</td>\n",
       "      <td>부산 기장군 장안읍 명례리 141</td>\n",
       "      <td>기장대로</td>\n",
       "      <td>N</td>\n",
       "      <td>35.37180</td>\n",
       "      <td>129.26138</td>\n",
       "    </tr>\n",
       "    <tr>\n",
       "      <th>246</th>\n",
       "      <td>영도피아크</td>\n",
       "      <td>부산 영도구 해양로195번길 180</td>\n",
       "      <td>버스 66 미창석유 하차, 버스113,30,8,190,88 동삼삼거리 정류장 하차,...</td>\n",
       "      <td>부산 영도구 동삼동 201-42</td>\n",
       "      <td>해양로</td>\n",
       "      <td>N</td>\n",
       "      <td>35.08951</td>\n",
       "      <td>129.07135</td>\n",
       "    </tr>\n",
       "    <tr>\n",
       "      <th>247</th>\n",
       "      <td>안용복기념 부산포개항문화관</td>\n",
       "      <td>부산 동구 증산로 100 좌천동 722</td>\n",
       "      <td>좌찬역 5번 출구 도보 10분거리</td>\n",
       "      <td>부산 동구 좌천동 786-1</td>\n",
       "      <td>증산로</td>\n",
       "      <td>N</td>\n",
       "      <td>35.13677</td>\n",
       "      <td>129.04783</td>\n",
       "    </tr>\n",
       "  </tbody>\n",
       "</table>\n",
       "<p>248 rows × 8 columns</p>\n",
       "</div>"
      ],
      "text/plain": [
       "           PLACE_NM                                TRRSRT_ROAD_NM_ADDR  \\\n",
       "0             동래읍성지                    부산광역시 동래구 명륜동, 복천동, 칠산동, 안락동 일원   \n",
       "1            유치환우체통                      초량이바구길 부산광역시 동구 중앙대로 209번길 16   \n",
       "2              중앙공원  중앙공원 부산광역시 서구 망양로 193번길 187, 민주공원 부산광역시시 중구 민주...   \n",
       "3            유엔기념공원  유엔기념공원 부산광역시 남구 유엔평화로 93 유엔평화기념관 부산광역시 남구 홍곡로3...   \n",
       "4           국립해양박물관                                부산시 영도구 해양로301번길 45   \n",
       "..              ...                                                ...   \n",
       "243            영도대교                                   부산광역시 영도구 태종로 46   \n",
       "244          민락수변공원                                   부산 수영구 광안해변로 361   \n",
       "245            대룡마을                              부산광역시 기장군 장안읍 대룡1길 17   \n",
       "246           영도피아크                                부산 영도구 해양로195번길 180   \n",
       "247  안용복기념 부산포개항문화관                              부산 동구 증산로 100 좌천동 722   \n",
       "\n",
       "                                      TRNSPORT_INFO_CN           CRSLK_ADDR  \\\n",
       "0    지하철 이용 시 : 4호선 명장역 3번 출구 도보 21분 , 버스 이용 시 :  동...        부산 동래구 칠산동 19   \n",
       "1    도시철도 1호선 부산역 7번 출구 도보 2분, 초량역 1번 출구 도보 8분, 버스 ...    부산 동구 초량동 827-145   \n",
       "2    도시철도 1호선 초량역 1번 출구 → 508 버스 환승 → 중앙공원?민주공원 하차 ...  부산 서구 동대신동2가 102-35   \n",
       "3    유엔기념공원, 도시철도 2호선 대연역 3번 출구 도보 18분, 버스 134, 68,...      부산 남구 대연동 737-9   \n",
       "4    도시철도 1호선 남포역 6번 출구 → 186, 66번 버스 환승 → 국립해양박물관 ...    부산 영도구 동삼동 254-25   \n",
       "..                                                 ...                  ...   \n",
       "243  도시철도 1호선 남포동 6, 8번출구 도보 4분, 버스 6, 7, 9, 71, 50...   부산 영도구 대교동1가 190-1   \n",
       "244  도시철도 2호선 광안역 3번 출구 도보 20분, 버스 41, 83-1, 210 민락...     부산 수영구 민락동 110-7   \n",
       "245                  버스 187 대룡마을 하차, 주차 대룡마을 공영주차장(무료)   부산 기장군 장안읍 명례리 141   \n",
       "246  버스 66 미창석유 하차, 버스113,30,8,190,88 동삼삼거리 정류장 하차,...    부산 영도구 동삼동 201-42   \n",
       "247                                 좌찬역 5번 출구 도보 10분거리      부산 동구 좌천동 786-1   \n",
       "\n",
       "    CRSLK_ROAD_NM CHILD_PRTC_ZONE_AT  CRSLK_LA   CRSLK_LO  \n",
       "0             동래로                  Y  35.20699  129.09505  \n",
       "1             망양로                  Y  35.12176  129.03336  \n",
       "2             망양로                  N  35.11318  129.02600  \n",
       "3           유엔평화로                  Y  35.12625  129.09576  \n",
       "4             해양로                  N  35.08065  129.07500  \n",
       "..            ...                ...       ...        ...  \n",
       "243           태종로                  N  35.09457  129.03683  \n",
       "244         광안해변로                  N  35.15669  129.13344  \n",
       "245          기장대로                  N  35.37180  129.26138  \n",
       "246           해양로                  N  35.08951  129.07135  \n",
       "247           증산로                  N  35.13677  129.04783  \n",
       "\n",
       "[248 rows x 8 columns]"
      ]
     },
     "execution_count": 56,
     "metadata": {},
     "output_type": "execute_result"
    }
   ],
   "source": [
    "df"
   ]
  },
  {
   "cell_type": "code",
   "execution_count": 50,
   "id": "81b2e6c5",
   "metadata": {
    "ExecuteTime": {
     "end_time": "2022-06-15T15:17:27.960987Z",
     "start_time": "2022-06-15T15:17:27.953990Z"
    }
   },
   "outputs": [],
   "source": [
    "df_place = pd.read_csv('../dataset/custom_preprocessing.csv')"
   ]
  },
  {
   "cell_type": "code",
   "execution_count": 21,
   "id": "7e3685d7",
   "metadata": {
    "ExecuteTime": {
     "end_time": "2022-06-15T15:13:32.877829Z",
     "start_time": "2022-06-15T15:13:32.872829Z"
    }
   },
   "outputs": [],
   "source": [
    "df_place['pId'] = [i for i in range(7, len(df_place)+7)]"
   ]
  },
  {
   "cell_type": "code",
   "execution_count": 51,
   "id": "4421a885",
   "metadata": {
    "ExecuteTime": {
     "end_time": "2022-06-15T15:17:30.068379Z",
     "start_time": "2022-06-15T15:17:30.065378Z"
    }
   },
   "outputs": [],
   "source": [
    "df_place = df_place[['PLACE_NM', 'pId']]"
   ]
  },
  {
   "cell_type": "code",
   "execution_count": 69,
   "id": "393df2eb",
   "metadata": {
    "ExecuteTime": {
     "end_time": "2022-06-15T15:22:00.933612Z",
     "start_time": "2022-06-15T15:22:00.929612Z"
    }
   },
   "outputs": [],
   "source": [
    "df_place = df_place.drop_duplicates(['PLACE_NM'], keep='first')"
   ]
  },
  {
   "cell_type": "code",
   "execution_count": 70,
   "id": "82e0bf99",
   "metadata": {
    "ExecuteTime": {
     "end_time": "2022-06-15T15:22:04.932650Z",
     "start_time": "2022-06-15T15:22:04.927650Z"
    }
   },
   "outputs": [],
   "source": [
    "df2 = pd.merge(df_place, df, on='PLACE_NM', how='inner')"
   ]
  },
  {
   "cell_type": "code",
   "execution_count": 73,
   "id": "1be1af6b",
   "metadata": {
    "ExecuteTime": {
     "end_time": "2022-06-15T15:23:00.355744Z",
     "start_time": "2022-06-15T15:23:00.351740Z"
    }
   },
   "outputs": [],
   "source": [
    "df2.to_csv('D:/Github/busan_trip_data_analysis/dataset/transport.csv', index=False)"
   ]
  },
  {
   "cell_type": "code",
   "execution_count": null,
   "id": "14802976",
   "metadata": {},
   "outputs": [],
   "source": []
  }
 ],
 "metadata": {
  "hide_input": false,
  "kernelspec": {
   "display_name": "Python 3 (ipykernel)",
   "language": "python",
   "name": "python3"
  },
  "language_info": {
   "codemirror_mode": {
    "name": "ipython",
    "version": 3
   },
   "file_extension": ".py",
   "mimetype": "text/x-python",
   "name": "python",
   "nbconvert_exporter": "python",
   "pygments_lexer": "ipython3",
   "version": "3.8.11"
  },
  "toc": {
   "base_numbering": 1,
   "nav_menu": {},
   "number_sections": true,
   "sideBar": true,
   "skip_h1_title": false,
   "title_cell": "Table of Contents",
   "title_sidebar": "Contents",
   "toc_cell": false,
   "toc_position": {},
   "toc_section_display": true,
   "toc_window_display": false
  },
  "varInspector": {
   "cols": {
    "lenName": 16,
    "lenType": 16,
    "lenVar": 40
   },
   "kernels_config": {
    "python": {
     "delete_cmd_postfix": "",
     "delete_cmd_prefix": "del ",
     "library": "var_list.py",
     "varRefreshCmd": "print(var_dic_list())"
    },
    "r": {
     "delete_cmd_postfix": ") ",
     "delete_cmd_prefix": "rm(",
     "library": "var_list.r",
     "varRefreshCmd": "cat(var_dic_list()) "
    }
   },
   "types_to_exclude": [
    "module",
    "function",
    "builtin_function_or_method",
    "instance",
    "_Feature"
   ],
   "window_display": false
  }
 },
 "nbformat": 4,
 "nbformat_minor": 5
}
