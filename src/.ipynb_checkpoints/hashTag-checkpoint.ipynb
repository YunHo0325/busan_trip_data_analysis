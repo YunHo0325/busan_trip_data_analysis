{
 "cells": [
  {
   "cell_type": "code",
   "execution_count": 1,
   "id": "f556f3b1",
   "metadata": {
    "ExecuteTime": {
     "end_time": "2022-06-12T22:02:00.836656Z",
     "start_time": "2022-06-12T22:02:00.502113Z"
    }
   },
   "outputs": [],
   "source": [
    "import pandas as pd"
   ]
  },
  {
   "cell_type": "code",
   "execution_count": 3,
   "id": "e0bd7f8b",
   "metadata": {
    "ExecuteTime": {
     "end_time": "2022-06-12T22:02:30.368389Z",
     "start_time": "2022-06-12T22:02:30.356389Z"
    }
   },
   "outputs": [],
   "source": [
    "df = pd.read_csv('../dataset/custom_preprocessing.csv', encoding='euc-kr')"
   ]
  },
  {
   "cell_type": "code",
   "execution_count": 14,
   "id": "99cc256a",
   "metadata": {
    "ExecuteTime": {
     "end_time": "2022-06-12T22:04:41.887712Z",
     "start_time": "2022-06-12T22:04:41.884713Z"
    }
   },
   "outputs": [],
   "source": [
    "df['pId'] = df.index + 7"
   ]
  },
  {
   "cell_type": "code",
   "execution_count": 5,
   "id": "99a4206b",
   "metadata": {
    "ExecuteTime": {
     "end_time": "2022-06-12T22:02:37.520891Z",
     "start_time": "2022-06-12T22:02:37.515890Z"
    }
   },
   "outputs": [
    {
     "data": {
      "text/plain": [
       "Index(['PLACE_NM', 'GUGUN_NM', 'TRRSRT_LA', 'TRRSRT_LO', 'TRRSRT_ROAD_NM_ADDR',\n",
       "       'TEL_NO', 'GRP_NM', 'SEASON_NM', 'IEM_NM', 'CL_NM', 'ETC_CN', '부모',\n",
       "       '아이', '가족', '친구', '커플', '혼자', '여름', '가을', '봄', '겨울', '자연', '체험', '이색여행',\n",
       "       '공원', '축제', '쇼핑', '역사', '문화', '걷기', '산', '기타', '도시', '바다'],\n",
       "      dtype='object')"
      ]
     },
     "execution_count": 5,
     "metadata": {},
     "output_type": "execute_result"
    }
   ],
   "source": [
    "df.columns"
   ]
  },
  {
   "cell_type": "code",
   "execution_count": 15,
   "id": "c77fbe4e",
   "metadata": {
    "ExecuteTime": {
     "end_time": "2022-06-12T22:04:50.585680Z",
     "start_time": "2022-06-12T22:04:50.580680Z"
    }
   },
   "outputs": [],
   "source": [
    "df2 = df[['pId', \n",
    "          '부모','아이', '가족', '친구', '커플', '혼자', \n",
    "          '여름', '가을', '봄', '겨울', \n",
    "          '자연', '체험', '이색여행','공원', '축제', '쇼핑', '역사', '문화', '걷기', \n",
    "          '산', '기타', '도시', '바다']]"
   ]
  },
  {
   "cell_type": "code",
   "execution_count": 19,
   "id": "d46f51cb",
   "metadata": {
    "ExecuteTime": {
     "end_time": "2022-06-12T22:08:31.774258Z",
     "start_time": "2022-06-12T22:08:31.770257Z"
    }
   },
   "outputs": [],
   "source": [
    "def checkType(tag):\n",
    "    if tag in ['부모','아이', '가족', '친구', '커플', '혼자']:\n",
    "        return 'GRP'\n",
    "    if tag in ['여름', '가을', '봄', '겨울']:\n",
    "        return 'SEASON'\n",
    "    if tag in ['자연', '체험', '이색여행','공원', '축제', '쇼핑', '역사', '문화', '걷기']:\n",
    "        return 'IEM'\n",
    "    if tag in ['산', '기타', '도시', '바다']:\n",
    "        return 'CL'"
   ]
  },
  {
   "cell_type": "code",
   "execution_count": 34,
   "id": "2d8e9ccd",
   "metadata": {
    "ExecuteTime": {
     "end_time": "2022-06-13T19:42:11.532570Z",
     "start_time": "2022-06-13T19:42:11.527568Z"
    }
   },
   "outputs": [],
   "source": [
    "df3 = pd.DataFrame(columns=[\"pId\", \"tagType\", \"hashTag\"])"
   ]
  },
  {
   "cell_type": "code",
   "execution_count": 36,
   "id": "151be5ba",
   "metadata": {
    "ExecuteTime": {
     "end_time": "2022-06-13T19:42:21.519599Z",
     "start_time": "2022-06-13T19:42:18.096537Z"
    }
   },
   "outputs": [
    {
     "ename": "KeyError",
     "evalue": "210",
     "output_type": "error",
     "traceback": [
      "\u001b[1;31m---------------------------------------------------------------------------\u001b[0m",
      "\u001b[1;31mValueError\u001b[0m                                Traceback (most recent call last)",
      "\u001b[1;32m~\\anaconda3\\envs\\p38_tf2_3\\lib\\site-packages\\pandas\\core\\indexes\\range.py\u001b[0m in \u001b[0;36mget_loc\u001b[1;34m(self, key, method, tolerance)\u001b[0m\n\u001b[0;32m    384\u001b[0m                 \u001b[1;32mtry\u001b[0m\u001b[1;33m:\u001b[0m\u001b[1;33m\u001b[0m\u001b[1;33m\u001b[0m\u001b[0m\n\u001b[1;32m--> 385\u001b[1;33m                     \u001b[1;32mreturn\u001b[0m \u001b[0mself\u001b[0m\u001b[1;33m.\u001b[0m\u001b[0m_range\u001b[0m\u001b[1;33m.\u001b[0m\u001b[0mindex\u001b[0m\u001b[1;33m(\u001b[0m\u001b[0mnew_key\u001b[0m\u001b[1;33m)\u001b[0m\u001b[1;33m\u001b[0m\u001b[1;33m\u001b[0m\u001b[0m\n\u001b[0m\u001b[0;32m    386\u001b[0m                 \u001b[1;32mexcept\u001b[0m \u001b[0mValueError\u001b[0m \u001b[1;32mas\u001b[0m \u001b[0merr\u001b[0m\u001b[1;33m:\u001b[0m\u001b[1;33m\u001b[0m\u001b[1;33m\u001b[0m\u001b[0m\n",
      "\u001b[1;31mValueError\u001b[0m: 210 is not in range",
      "\nThe above exception was the direct cause of the following exception:\n",
      "\u001b[1;31mKeyError\u001b[0m                                  Traceback (most recent call last)",
      "\u001b[1;32m~\\AppData\\Local\\Temp/ipykernel_7212/1194695319.py\u001b[0m in \u001b[0;36m<module>\u001b[1;34m\u001b[0m\n\u001b[1;32m----> 1\u001b[1;33m \u001b[1;32mfor\u001b[0m \u001b[0mi\u001b[0m \u001b[1;32min\u001b[0m \u001b[0mdf2\u001b[0m\u001b[1;33m.\u001b[0m\u001b[0mloc\u001b[0m\u001b[1;33m:\u001b[0m\u001b[1;33m\u001b[0m\u001b[1;33m\u001b[0m\u001b[0m\n\u001b[0m\u001b[0;32m      2\u001b[0m     \u001b[0mtmp\u001b[0m \u001b[1;33m=\u001b[0m \u001b[1;33m[\u001b[0m\u001b[0mi\u001b[0m\u001b[1;33m[\u001b[0m\u001b[1;34m'pId'\u001b[0m\u001b[1;33m]\u001b[0m\u001b[1;33m]\u001b[0m\u001b[1;33m\u001b[0m\u001b[1;33m\u001b[0m\u001b[0m\n\u001b[0;32m      3\u001b[0m \u001b[1;33m\u001b[0m\u001b[0m\n\u001b[0;32m      4\u001b[0m     \u001b[1;32mfor\u001b[0m \u001b[0midx\u001b[0m \u001b[1;32min\u001b[0m \u001b[0mi\u001b[0m\u001b[1;33m.\u001b[0m\u001b[0mindex\u001b[0m\u001b[1;33m:\u001b[0m\u001b[1;33m\u001b[0m\u001b[1;33m\u001b[0m\u001b[0m\n\u001b[0;32m      5\u001b[0m         \u001b[1;32mif\u001b[0m \u001b[0mi\u001b[0m\u001b[1;33m[\u001b[0m\u001b[0midx\u001b[0m\u001b[1;33m]\u001b[0m \u001b[1;33m==\u001b[0m \u001b[1;36m1\u001b[0m\u001b[1;33m:\u001b[0m\u001b[1;33m\u001b[0m\u001b[1;33m\u001b[0m\u001b[0m\n",
      "\u001b[1;32m~\\anaconda3\\envs\\p38_tf2_3\\lib\\site-packages\\pandas\\core\\indexing.py\u001b[0m in \u001b[0;36m__getitem__\u001b[1;34m(self, key)\u001b[0m\n\u001b[0;32m    929\u001b[0m \u001b[1;33m\u001b[0m\u001b[0m\n\u001b[0;32m    930\u001b[0m             \u001b[0mmaybe_callable\u001b[0m \u001b[1;33m=\u001b[0m \u001b[0mcom\u001b[0m\u001b[1;33m.\u001b[0m\u001b[0mapply_if_callable\u001b[0m\u001b[1;33m(\u001b[0m\u001b[0mkey\u001b[0m\u001b[1;33m,\u001b[0m \u001b[0mself\u001b[0m\u001b[1;33m.\u001b[0m\u001b[0mobj\u001b[0m\u001b[1;33m)\u001b[0m\u001b[1;33m\u001b[0m\u001b[1;33m\u001b[0m\u001b[0m\n\u001b[1;32m--> 931\u001b[1;33m             \u001b[1;32mreturn\u001b[0m \u001b[0mself\u001b[0m\u001b[1;33m.\u001b[0m\u001b[0m_getitem_axis\u001b[0m\u001b[1;33m(\u001b[0m\u001b[0mmaybe_callable\u001b[0m\u001b[1;33m,\u001b[0m \u001b[0maxis\u001b[0m\u001b[1;33m=\u001b[0m\u001b[0maxis\u001b[0m\u001b[1;33m)\u001b[0m\u001b[1;33m\u001b[0m\u001b[1;33m\u001b[0m\u001b[0m\n\u001b[0m\u001b[0;32m    932\u001b[0m \u001b[1;33m\u001b[0m\u001b[0m\n\u001b[0;32m    933\u001b[0m     \u001b[1;32mdef\u001b[0m \u001b[0m_is_scalar_access\u001b[0m\u001b[1;33m(\u001b[0m\u001b[0mself\u001b[0m\u001b[1;33m,\u001b[0m \u001b[0mkey\u001b[0m\u001b[1;33m:\u001b[0m \u001b[0mtuple\u001b[0m\u001b[1;33m)\u001b[0m\u001b[1;33m:\u001b[0m\u001b[1;33m\u001b[0m\u001b[1;33m\u001b[0m\u001b[0m\n",
      "\u001b[1;32m~\\anaconda3\\envs\\p38_tf2_3\\lib\\site-packages\\pandas\\core\\indexing.py\u001b[0m in \u001b[0;36m_getitem_axis\u001b[1;34m(self, key, axis)\u001b[0m\n\u001b[0;32m   1162\u001b[0m         \u001b[1;31m# fall thru to straight lookup\u001b[0m\u001b[1;33m\u001b[0m\u001b[1;33m\u001b[0m\u001b[1;33m\u001b[0m\u001b[0m\n\u001b[0;32m   1163\u001b[0m         \u001b[0mself\u001b[0m\u001b[1;33m.\u001b[0m\u001b[0m_validate_key\u001b[0m\u001b[1;33m(\u001b[0m\u001b[0mkey\u001b[0m\u001b[1;33m,\u001b[0m \u001b[0maxis\u001b[0m\u001b[1;33m)\u001b[0m\u001b[1;33m\u001b[0m\u001b[1;33m\u001b[0m\u001b[0m\n\u001b[1;32m-> 1164\u001b[1;33m         \u001b[1;32mreturn\u001b[0m \u001b[0mself\u001b[0m\u001b[1;33m.\u001b[0m\u001b[0m_get_label\u001b[0m\u001b[1;33m(\u001b[0m\u001b[0mkey\u001b[0m\u001b[1;33m,\u001b[0m \u001b[0maxis\u001b[0m\u001b[1;33m=\u001b[0m\u001b[0maxis\u001b[0m\u001b[1;33m)\u001b[0m\u001b[1;33m\u001b[0m\u001b[1;33m\u001b[0m\u001b[0m\n\u001b[0m\u001b[0;32m   1165\u001b[0m \u001b[1;33m\u001b[0m\u001b[0m\n\u001b[0;32m   1166\u001b[0m     \u001b[1;32mdef\u001b[0m \u001b[0m_get_slice_axis\u001b[0m\u001b[1;33m(\u001b[0m\u001b[0mself\u001b[0m\u001b[1;33m,\u001b[0m \u001b[0mslice_obj\u001b[0m\u001b[1;33m:\u001b[0m \u001b[0mslice\u001b[0m\u001b[1;33m,\u001b[0m \u001b[0maxis\u001b[0m\u001b[1;33m:\u001b[0m \u001b[0mint\u001b[0m\u001b[1;33m)\u001b[0m\u001b[1;33m:\u001b[0m\u001b[1;33m\u001b[0m\u001b[1;33m\u001b[0m\u001b[0m\n",
      "\u001b[1;32m~\\anaconda3\\envs\\p38_tf2_3\\lib\\site-packages\\pandas\\core\\indexing.py\u001b[0m in \u001b[0;36m_get_label\u001b[1;34m(self, label, axis)\u001b[0m\n\u001b[0;32m   1111\u001b[0m     \u001b[1;32mdef\u001b[0m \u001b[0m_get_label\u001b[0m\u001b[1;33m(\u001b[0m\u001b[0mself\u001b[0m\u001b[1;33m,\u001b[0m \u001b[0mlabel\u001b[0m\u001b[1;33m,\u001b[0m \u001b[0maxis\u001b[0m\u001b[1;33m:\u001b[0m \u001b[0mint\u001b[0m\u001b[1;33m)\u001b[0m\u001b[1;33m:\u001b[0m\u001b[1;33m\u001b[0m\u001b[1;33m\u001b[0m\u001b[0m\n\u001b[0;32m   1112\u001b[0m         \u001b[1;31m# GH#5667 this will fail if the label is not present in the axis.\u001b[0m\u001b[1;33m\u001b[0m\u001b[1;33m\u001b[0m\u001b[1;33m\u001b[0m\u001b[0m\n\u001b[1;32m-> 1113\u001b[1;33m         \u001b[1;32mreturn\u001b[0m \u001b[0mself\u001b[0m\u001b[1;33m.\u001b[0m\u001b[0mobj\u001b[0m\u001b[1;33m.\u001b[0m\u001b[0mxs\u001b[0m\u001b[1;33m(\u001b[0m\u001b[0mlabel\u001b[0m\u001b[1;33m,\u001b[0m \u001b[0maxis\u001b[0m\u001b[1;33m=\u001b[0m\u001b[0maxis\u001b[0m\u001b[1;33m)\u001b[0m\u001b[1;33m\u001b[0m\u001b[1;33m\u001b[0m\u001b[0m\n\u001b[0m\u001b[0;32m   1114\u001b[0m \u001b[1;33m\u001b[0m\u001b[0m\n\u001b[0;32m   1115\u001b[0m     \u001b[1;32mdef\u001b[0m \u001b[0m_handle_lowerdim_multi_index_axis0\u001b[0m\u001b[1;33m(\u001b[0m\u001b[0mself\u001b[0m\u001b[1;33m,\u001b[0m \u001b[0mtup\u001b[0m\u001b[1;33m:\u001b[0m \u001b[0mtuple\u001b[0m\u001b[1;33m)\u001b[0m\u001b[1;33m:\u001b[0m\u001b[1;33m\u001b[0m\u001b[1;33m\u001b[0m\u001b[0m\n",
      "\u001b[1;32m~\\anaconda3\\envs\\p38_tf2_3\\lib\\site-packages\\pandas\\core\\generic.py\u001b[0m in \u001b[0;36mxs\u001b[1;34m(self, key, axis, level, drop_level)\u001b[0m\n\u001b[0;32m   3774\u001b[0m                 \u001b[1;32mraise\u001b[0m \u001b[0mTypeError\u001b[0m\u001b[1;33m(\u001b[0m\u001b[1;34mf\"Expected label or tuple of labels, got {key}\"\u001b[0m\u001b[1;33m)\u001b[0m \u001b[1;32mfrom\u001b[0m \u001b[0me\u001b[0m\u001b[1;33m\u001b[0m\u001b[1;33m\u001b[0m\u001b[0m\n\u001b[0;32m   3775\u001b[0m         \u001b[1;32melse\u001b[0m\u001b[1;33m:\u001b[0m\u001b[1;33m\u001b[0m\u001b[1;33m\u001b[0m\u001b[0m\n\u001b[1;32m-> 3776\u001b[1;33m             \u001b[0mloc\u001b[0m \u001b[1;33m=\u001b[0m \u001b[0mindex\u001b[0m\u001b[1;33m.\u001b[0m\u001b[0mget_loc\u001b[0m\u001b[1;33m(\u001b[0m\u001b[0mkey\u001b[0m\u001b[1;33m)\u001b[0m\u001b[1;33m\u001b[0m\u001b[1;33m\u001b[0m\u001b[0m\n\u001b[0m\u001b[0;32m   3777\u001b[0m \u001b[1;33m\u001b[0m\u001b[0m\n\u001b[0;32m   3778\u001b[0m             \u001b[1;32mif\u001b[0m \u001b[0misinstance\u001b[0m\u001b[1;33m(\u001b[0m\u001b[0mloc\u001b[0m\u001b[1;33m,\u001b[0m \u001b[0mnp\u001b[0m\u001b[1;33m.\u001b[0m\u001b[0mndarray\u001b[0m\u001b[1;33m)\u001b[0m\u001b[1;33m:\u001b[0m\u001b[1;33m\u001b[0m\u001b[1;33m\u001b[0m\u001b[0m\n",
      "\u001b[1;32m~\\anaconda3\\envs\\p38_tf2_3\\lib\\site-packages\\pandas\\core\\indexes\\range.py\u001b[0m in \u001b[0;36mget_loc\u001b[1;34m(self, key, method, tolerance)\u001b[0m\n\u001b[0;32m    385\u001b[0m                     \u001b[1;32mreturn\u001b[0m \u001b[0mself\u001b[0m\u001b[1;33m.\u001b[0m\u001b[0m_range\u001b[0m\u001b[1;33m.\u001b[0m\u001b[0mindex\u001b[0m\u001b[1;33m(\u001b[0m\u001b[0mnew_key\u001b[0m\u001b[1;33m)\u001b[0m\u001b[1;33m\u001b[0m\u001b[1;33m\u001b[0m\u001b[0m\n\u001b[0;32m    386\u001b[0m                 \u001b[1;32mexcept\u001b[0m \u001b[0mValueError\u001b[0m \u001b[1;32mas\u001b[0m \u001b[0merr\u001b[0m\u001b[1;33m:\u001b[0m\u001b[1;33m\u001b[0m\u001b[1;33m\u001b[0m\u001b[0m\n\u001b[1;32m--> 387\u001b[1;33m                     \u001b[1;32mraise\u001b[0m \u001b[0mKeyError\u001b[0m\u001b[1;33m(\u001b[0m\u001b[0mkey\u001b[0m\u001b[1;33m)\u001b[0m \u001b[1;32mfrom\u001b[0m \u001b[0merr\u001b[0m\u001b[1;33m\u001b[0m\u001b[1;33m\u001b[0m\u001b[0m\n\u001b[0m\u001b[0;32m    388\u001b[0m             \u001b[1;32mraise\u001b[0m \u001b[0mKeyError\u001b[0m\u001b[1;33m(\u001b[0m\u001b[0mkey\u001b[0m\u001b[1;33m)\u001b[0m\u001b[1;33m\u001b[0m\u001b[1;33m\u001b[0m\u001b[0m\n\u001b[0;32m    389\u001b[0m         \u001b[1;32mreturn\u001b[0m \u001b[0msuper\u001b[0m\u001b[1;33m(\u001b[0m\u001b[1;33m)\u001b[0m\u001b[1;33m.\u001b[0m\u001b[0mget_loc\u001b[0m\u001b[1;33m(\u001b[0m\u001b[0mkey\u001b[0m\u001b[1;33m,\u001b[0m \u001b[0mmethod\u001b[0m\u001b[1;33m=\u001b[0m\u001b[0mmethod\u001b[0m\u001b[1;33m,\u001b[0m \u001b[0mtolerance\u001b[0m\u001b[1;33m=\u001b[0m\u001b[0mtolerance\u001b[0m\u001b[1;33m)\u001b[0m\u001b[1;33m\u001b[0m\u001b[1;33m\u001b[0m\u001b[0m\n",
      "\u001b[1;31mKeyError\u001b[0m: 210"
     ]
    }
   ],
   "source": [
    "for i in df2.loc:\n",
    "    tmp = [i['pId']]\n",
    "    \n",
    "    for idx in i.index:\n",
    "        if i[idx] == 1:\n",
    "            df3.loc[df3.shape[0]] = tmp + [checkType(idx), idx]"
   ]
  },
  {
   "cell_type": "code",
   "execution_count": 39,
   "id": "a6276d7e",
   "metadata": {
    "ExecuteTime": {
     "end_time": "2022-06-13T19:44:28.235131Z",
     "start_time": "2022-06-13T19:44:28.223130Z"
    }
   },
   "outputs": [],
   "source": [
    "df3.to_csv('../dataset/hashtag.csv', index=False)"
   ]
  },
  {
   "cell_type": "code",
   "execution_count": 38,
   "id": "8a5c48a3",
   "metadata": {
    "ExecuteTime": {
     "end_time": "2022-06-13T19:42:54.713299Z",
     "start_time": "2022-06-13T19:42:54.696298Z"
    }
   },
   "outputs": [
    {
     "data": {
      "text/html": [
       "<div>\n",
       "<style scoped>\n",
       "    .dataframe tbody tr th:only-of-type {\n",
       "        vertical-align: middle;\n",
       "    }\n",
       "\n",
       "    .dataframe tbody tr th {\n",
       "        vertical-align: top;\n",
       "    }\n",
       "\n",
       "    .dataframe thead th {\n",
       "        text-align: right;\n",
       "    }\n",
       "</style>\n",
       "<table border=\"1\" class=\"dataframe\">\n",
       "  <thead>\n",
       "    <tr style=\"text-align: right;\">\n",
       "      <th></th>\n",
       "      <th>PLACE_NM</th>\n",
       "      <th>GUGUN_NM</th>\n",
       "      <th>TRRSRT_LA</th>\n",
       "      <th>TRRSRT_LO</th>\n",
       "      <th>TRRSRT_ROAD_NM_ADDR</th>\n",
       "      <th>TEL_NO</th>\n",
       "      <th>GRP_NM</th>\n",
       "      <th>SEASON_NM</th>\n",
       "      <th>IEM_NM</th>\n",
       "      <th>CL_NM</th>\n",
       "      <th>...</th>\n",
       "      <th>축제</th>\n",
       "      <th>쇼핑</th>\n",
       "      <th>역사</th>\n",
       "      <th>문화</th>\n",
       "      <th>걷기</th>\n",
       "      <th>산</th>\n",
       "      <th>기타</th>\n",
       "      <th>도시</th>\n",
       "      <th>바다</th>\n",
       "      <th>pId</th>\n",
       "    </tr>\n",
       "  </thead>\n",
       "  <tbody>\n",
       "    <tr>\n",
       "      <th>0</th>\n",
       "      <td>용소웰빙공원</td>\n",
       "      <td>기장군</td>\n",
       "      <td>35.246290</td>\n",
       "      <td>129.20414</td>\n",
       "      <td>부산 기장군 서부리 산 7-2</td>\n",
       "      <td>517094534</td>\n",
       "      <td>가족, 아이, 커플</td>\n",
       "      <td>봄, 가을</td>\n",
       "      <td>자연, 공원 ,걷기</td>\n",
       "      <td>바다, 도시</td>\n",
       "      <td>...</td>\n",
       "      <td>0</td>\n",
       "      <td>0</td>\n",
       "      <td>0</td>\n",
       "      <td>0</td>\n",
       "      <td>1</td>\n",
       "      <td>0</td>\n",
       "      <td>0</td>\n",
       "      <td>1</td>\n",
       "      <td>1</td>\n",
       "      <td>7</td>\n",
       "    </tr>\n",
       "    <tr>\n",
       "      <th>1</th>\n",
       "      <td>몰운대 트레킹</td>\n",
       "      <td>사하구</td>\n",
       "      <td>35.046510</td>\n",
       "      <td>128.96274</td>\n",
       "      <td>부산광역시 사하구 몰운대1길 14</td>\n",
       "      <td>512204127</td>\n",
       "      <td>가족, 아이, 커플, 친구</td>\n",
       "      <td>사계절</td>\n",
       "      <td>자연, 걷기</td>\n",
       "      <td>바다</td>\n",
       "      <td>...</td>\n",
       "      <td>0</td>\n",
       "      <td>0</td>\n",
       "      <td>0</td>\n",
       "      <td>0</td>\n",
       "      <td>1</td>\n",
       "      <td>0</td>\n",
       "      <td>0</td>\n",
       "      <td>0</td>\n",
       "      <td>1</td>\n",
       "      <td>8</td>\n",
       "    </tr>\n",
       "    <tr>\n",
       "      <th>2</th>\n",
       "      <td>일광해수욕장 데크길</td>\n",
       "      <td>기장군</td>\n",
       "      <td>35.262550</td>\n",
       "      <td>129.23371</td>\n",
       "      <td>부산 기장군 일광면 삼성리 40-3</td>\n",
       "      <td>517094000</td>\n",
       "      <td>가족,아이,커플</td>\n",
       "      <td>봄, 가을</td>\n",
       "      <td>자연, 공원 ,걷기</td>\n",
       "      <td>바다, 도시</td>\n",
       "      <td>...</td>\n",
       "      <td>0</td>\n",
       "      <td>0</td>\n",
       "      <td>0</td>\n",
       "      <td>0</td>\n",
       "      <td>1</td>\n",
       "      <td>0</td>\n",
       "      <td>0</td>\n",
       "      <td>1</td>\n",
       "      <td>1</td>\n",
       "      <td>9</td>\n",
       "    </tr>\n",
       "    <tr>\n",
       "      <th>3</th>\n",
       "      <td>사상근린공원</td>\n",
       "      <td>사상구</td>\n",
       "      <td>35.158850</td>\n",
       "      <td>128.99311</td>\n",
       "      <td>부산광역시 사상구 백양대로 570 일원</td>\n",
       "      <td>7040108130</td>\n",
       "      <td>가족,아이</td>\n",
       "      <td>봄,여름,가을</td>\n",
       "      <td>자연, 걷기</td>\n",
       "      <td>산</td>\n",
       "      <td>...</td>\n",
       "      <td>0</td>\n",
       "      <td>0</td>\n",
       "      <td>0</td>\n",
       "      <td>0</td>\n",
       "      <td>1</td>\n",
       "      <td>1</td>\n",
       "      <td>0</td>\n",
       "      <td>0</td>\n",
       "      <td>0</td>\n",
       "      <td>10</td>\n",
       "    </tr>\n",
       "    <tr>\n",
       "      <th>4</th>\n",
       "      <td>을숙도생태공원</td>\n",
       "      <td>사하구</td>\n",
       "      <td>35.116770</td>\n",
       "      <td>128.94916</td>\n",
       "      <td>부산광역시 사하구 낙동남로 1240</td>\n",
       "      <td>512092000</td>\n",
       "      <td>가족,부모,아이,커플,친구,혼자</td>\n",
       "      <td>사계절</td>\n",
       "      <td>자연, 공원, 걷기, 이색여행</td>\n",
       "      <td>기타</td>\n",
       "      <td>...</td>\n",
       "      <td>0</td>\n",
       "      <td>0</td>\n",
       "      <td>0</td>\n",
       "      <td>0</td>\n",
       "      <td>1</td>\n",
       "      <td>0</td>\n",
       "      <td>1</td>\n",
       "      <td>0</td>\n",
       "      <td>0</td>\n",
       "      <td>11</td>\n",
       "    </tr>\n",
       "    <tr>\n",
       "      <th>...</th>\n",
       "      <td>...</td>\n",
       "      <td>...</td>\n",
       "      <td>...</td>\n",
       "      <td>...</td>\n",
       "      <td>...</td>\n",
       "      <td>...</td>\n",
       "      <td>...</td>\n",
       "      <td>...</td>\n",
       "      <td>...</td>\n",
       "      <td>...</td>\n",
       "      <td>...</td>\n",
       "      <td>...</td>\n",
       "      <td>...</td>\n",
       "      <td>...</td>\n",
       "      <td>...</td>\n",
       "      <td>...</td>\n",
       "      <td>...</td>\n",
       "      <td>...</td>\n",
       "      <td>...</td>\n",
       "      <td>...</td>\n",
       "      <td>...</td>\n",
       "    </tr>\n",
       "    <tr>\n",
       "      <th>205</th>\n",
       "      <td>구포무장애숲길</td>\n",
       "      <td>북구</td>\n",
       "      <td>35.197548</td>\n",
       "      <td>129.00046</td>\n",
       "      <td>부산 북구 구포동 42-1</td>\n",
       "      <td>513381301</td>\n",
       "      <td>아이,커플,친구,혼자</td>\n",
       "      <td>봄,여름,가을</td>\n",
       "      <td>자연,걷기</td>\n",
       "      <td>산</td>\n",
       "      <td>...</td>\n",
       "      <td>0</td>\n",
       "      <td>0</td>\n",
       "      <td>0</td>\n",
       "      <td>0</td>\n",
       "      <td>1</td>\n",
       "      <td>1</td>\n",
       "      <td>0</td>\n",
       "      <td>0</td>\n",
       "      <td>0</td>\n",
       "      <td>212</td>\n",
       "    </tr>\n",
       "    <tr>\n",
       "      <th>206</th>\n",
       "      <td>초량이바구길</td>\n",
       "      <td>동구</td>\n",
       "      <td>35.116350</td>\n",
       "      <td>129.03874</td>\n",
       "      <td>부산광역시 동구 중앙대로 209번길 16</td>\n",
       "      <td>514670289</td>\n",
       "      <td>가족,아이,커플,친구,혼자</td>\n",
       "      <td>사계절</td>\n",
       "      <td>체험,걷기,이색여행</td>\n",
       "      <td>도시</td>\n",
       "      <td>...</td>\n",
       "      <td>0</td>\n",
       "      <td>0</td>\n",
       "      <td>0</td>\n",
       "      <td>0</td>\n",
       "      <td>1</td>\n",
       "      <td>0</td>\n",
       "      <td>0</td>\n",
       "      <td>1</td>\n",
       "      <td>0</td>\n",
       "      <td>213</td>\n",
       "    </tr>\n",
       "    <tr>\n",
       "      <th>207</th>\n",
       "      <td>동백해안산책로</td>\n",
       "      <td>해운대구</td>\n",
       "      <td>35.151960</td>\n",
       "      <td>129.15263</td>\n",
       "      <td>부산광역시 해운대구 동백로 99</td>\n",
       "      <td>517497621</td>\n",
       "      <td>아이,커플,친구,혼자</td>\n",
       "      <td>봄,여름,가을</td>\n",
       "      <td>자연,걷기</td>\n",
       "      <td>바다</td>\n",
       "      <td>...</td>\n",
       "      <td>0</td>\n",
       "      <td>0</td>\n",
       "      <td>0</td>\n",
       "      <td>0</td>\n",
       "      <td>1</td>\n",
       "      <td>0</td>\n",
       "      <td>0</td>\n",
       "      <td>0</td>\n",
       "      <td>1</td>\n",
       "      <td>214</td>\n",
       "    </tr>\n",
       "    <tr>\n",
       "      <th>208</th>\n",
       "      <td>차박물관</td>\n",
       "      <td>부산진구</td>\n",
       "      <td>35.168705</td>\n",
       "      <td>129.07158</td>\n",
       "      <td>부산광역시 부산진구 진남로 506</td>\n",
       "      <td>518503085</td>\n",
       "      <td>가족,아이,커플,친구</td>\n",
       "      <td>사계절</td>\n",
       "      <td>체험</td>\n",
       "      <td>기타</td>\n",
       "      <td>...</td>\n",
       "      <td>0</td>\n",
       "      <td>0</td>\n",
       "      <td>0</td>\n",
       "      <td>0</td>\n",
       "      <td>0</td>\n",
       "      <td>0</td>\n",
       "      <td>1</td>\n",
       "      <td>0</td>\n",
       "      <td>0</td>\n",
       "      <td>215</td>\n",
       "    </tr>\n",
       "    <tr>\n",
       "      <th>209</th>\n",
       "      <td>부산라벤더팜</td>\n",
       "      <td>기장군</td>\n",
       "      <td>35.259415</td>\n",
       "      <td>129.14842</td>\n",
       "      <td>부산시 기장군 철마면 개좌로 679-30</td>\n",
       "      <td>517216253</td>\n",
       "      <td>가족,커플,친구</td>\n",
       "      <td>봄,여름,가을</td>\n",
       "      <td>이색여행</td>\n",
       "      <td>기타</td>\n",
       "      <td>...</td>\n",
       "      <td>0</td>\n",
       "      <td>0</td>\n",
       "      <td>0</td>\n",
       "      <td>0</td>\n",
       "      <td>0</td>\n",
       "      <td>0</td>\n",
       "      <td>1</td>\n",
       "      <td>0</td>\n",
       "      <td>0</td>\n",
       "      <td>216</td>\n",
       "    </tr>\n",
       "  </tbody>\n",
       "</table>\n",
       "<p>210 rows × 35 columns</p>\n",
       "</div>"
      ],
      "text/plain": [
       "       PLACE_NM GUGUN_NM  TRRSRT_LA  TRRSRT_LO     TRRSRT_ROAD_NM_ADDR  \\\n",
       "0        용소웰빙공원      기장군  35.246290  129.20414        부산 기장군 서부리 산 7-2   \n",
       "1       몰운대 트레킹      사하구  35.046510  128.96274      부산광역시 사하구 몰운대1길 14   \n",
       "2    일광해수욕장 데크길      기장군  35.262550  129.23371     부산 기장군 일광면 삼성리 40-3   \n",
       "3        사상근린공원      사상구  35.158850  128.99311   부산광역시 사상구 백양대로 570 일원   \n",
       "4       을숙도생태공원      사하구  35.116770  128.94916     부산광역시 사하구 낙동남로 1240   \n",
       "..          ...      ...        ...        ...                     ...   \n",
       "205     구포무장애숲길       북구  35.197548  129.00046          부산 북구 구포동 42-1   \n",
       "206      초량이바구길       동구  35.116350  129.03874  부산광역시 동구 중앙대로 209번길 16   \n",
       "207     동백해안산책로     해운대구  35.151960  129.15263       부산광역시 해운대구 동백로 99   \n",
       "208        차박물관     부산진구  35.168705  129.07158      부산광역시 부산진구 진남로 506   \n",
       "209      부산라벤더팜      기장군  35.259415  129.14842  부산시 기장군 철마면 개좌로 679-30   \n",
       "\n",
       "         TEL_NO             GRP_NM SEASON_NM            IEM_NM   CL_NM  ...  \\\n",
       "0     517094534         가족, 아이, 커플     봄, 가을        자연, 공원 ,걷기  바다, 도시  ...   \n",
       "1     512204127     가족, 아이, 커플, 친구       사계절            자연, 걷기      바다  ...   \n",
       "2     517094000           가족,아이,커플     봄, 가을        자연, 공원 ,걷기  바다, 도시  ...   \n",
       "3    7040108130              가족,아이   봄,여름,가을            자연, 걷기       산  ...   \n",
       "4     512092000  가족,부모,아이,커플,친구,혼자       사계절  자연, 공원, 걷기, 이색여행      기타  ...   \n",
       "..          ...                ...       ...               ...     ...  ...   \n",
       "205   513381301        아이,커플,친구,혼자   봄,여름,가을             자연,걷기       산  ...   \n",
       "206   514670289     가족,아이,커플,친구,혼자       사계절        체험,걷기,이색여행      도시  ...   \n",
       "207   517497621        아이,커플,친구,혼자   봄,여름,가을             자연,걷기      바다  ...   \n",
       "208   518503085        가족,아이,커플,친구       사계절                체험      기타  ...   \n",
       "209   517216253           가족,커플,친구   봄,여름,가을              이색여행      기타  ...   \n",
       "\n",
       "    축제  쇼핑  역사  문화  걷기  산  기타  도시  바다  pId  \n",
       "0    0   0   0   0   1  0   0   1   1    7  \n",
       "1    0   0   0   0   1  0   0   0   1    8  \n",
       "2    0   0   0   0   1  0   0   1   1    9  \n",
       "3    0   0   0   0   1  1   0   0   0   10  \n",
       "4    0   0   0   0   1  0   1   0   0   11  \n",
       "..  ..  ..  ..  ..  .. ..  ..  ..  ..  ...  \n",
       "205  0   0   0   0   1  1   0   0   0  212  \n",
       "206  0   0   0   0   1  0   0   1   0  213  \n",
       "207  0   0   0   0   1  0   0   0   1  214  \n",
       "208  0   0   0   0   0  0   1   0   0  215  \n",
       "209  0   0   0   0   0  0   1   0   0  216  \n",
       "\n",
       "[210 rows x 35 columns]"
      ]
     },
     "execution_count": 38,
     "metadata": {},
     "output_type": "execute_result"
    }
   ],
   "source": [
    "df"
   ]
  }
 ],
 "metadata": {
  "hide_input": false,
  "kernelspec": {
   "display_name": "Python 3 (ipykernel)",
   "language": "python",
   "name": "python3"
  },
  "language_info": {
   "codemirror_mode": {
    "name": "ipython",
    "version": 3
   },
   "file_extension": ".py",
   "mimetype": "text/x-python",
   "name": "python",
   "nbconvert_exporter": "python",
   "pygments_lexer": "ipython3",
   "version": "3.8.11"
  },
  "varInspector": {
   "cols": {
    "lenName": 16,
    "lenType": 16,
    "lenVar": 40
   },
   "kernels_config": {
    "python": {
     "delete_cmd_postfix": "",
     "delete_cmd_prefix": "del ",
     "library": "var_list.py",
     "varRefreshCmd": "print(var_dic_list())"
    },
    "r": {
     "delete_cmd_postfix": ") ",
     "delete_cmd_prefix": "rm(",
     "library": "var_list.r",
     "varRefreshCmd": "cat(var_dic_list()) "
    }
   },
   "types_to_exclude": [
    "module",
    "function",
    "builtin_function_or_method",
    "instance",
    "_Feature"
   ],
   "window_display": false
  }
 },
 "nbformat": 4,
 "nbformat_minor": 5
}
