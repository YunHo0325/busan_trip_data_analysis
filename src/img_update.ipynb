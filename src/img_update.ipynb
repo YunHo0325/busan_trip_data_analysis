{
 "cells": [
  {
   "cell_type": "code",
   "execution_count": 4,
   "id": "c8f58c73",
   "metadata": {
    "ExecuteTime": {
     "end_time": "2022-06-15T19:53:45.443608Z",
     "start_time": "2022-06-15T19:53:45.440605Z"
    }
   },
   "outputs": [],
   "source": [
    "import pymysql\n",
    "import os\n",
    "import pandas as pd"
   ]
  },
  {
   "cell_type": "code",
   "execution_count": 2,
   "id": "a3bddb47",
   "metadata": {
    "ExecuteTime": {
     "end_time": "2022-06-15T19:53:36.276381Z",
     "start_time": "2022-06-15T19:53:36.258383Z"
    }
   },
   "outputs": [],
   "source": [
    "conn = pymysql.connect(host=\"221.138.15.210\", user='busan', password='busan', db='busan', charset='utf8')\n",
    "cur = conn.cursor()"
   ]
  },
  {
   "cell_type": "code",
   "execution_count": 5,
   "id": "278aa92c",
   "metadata": {
    "ExecuteTime": {
     "end_time": "2022-06-15T19:54:40.053556Z",
     "start_time": "2022-06-15T19:54:40.050553Z"
    }
   },
   "outputs": [],
   "source": [
    "img_path = 'D:/Github/busan_trip_data_analysis/Travel/WebContent/img/busan'\n",
    "img_path2 = 'img/busan/'\n",
    "file_li = os.listdir(img_path)"
   ]
  },
  {
   "cell_type": "code",
   "execution_count": 8,
   "id": "e5f93a9f",
   "metadata": {
    "ExecuteTime": {
     "end_time": "2022-06-15T19:55:24.699670Z",
     "start_time": "2022-06-15T19:55:24.695670Z"
    }
   },
   "outputs": [],
   "source": [
    "sql = f\"select PLACE_NM from placeinfo where img = 'img/busan/'\"\n",
    "cur.execute(sql)\n",
    "row = cur.fetchall()"
   ]
  },
  {
   "cell_type": "code",
   "execution_count": 15,
   "id": "f788d454",
   "metadata": {
    "ExecuteTime": {
     "end_time": "2022-06-15T20:26:20.833246Z",
     "start_time": "2022-06-15T20:26:20.802938Z"
    }
   },
   "outputs": [],
   "source": [
    "for nm in row:\n",
    "    if nm[0]+\".jpg\" not in file_li:\n",
    "        sql = f\"update placeinfo\\\n",
    "                set img = null\\\n",
    "                where PLACE_NM = '{nm[0]}'\"\n",
    "\n",
    "        cur.execute(sql)\n",
    "conn.commit()"
   ]
  },
  {
   "cell_type": "code",
   "execution_count": null,
   "id": "62204afd",
   "metadata": {},
   "outputs": [],
   "source": []
  }
 ],
 "metadata": {
  "hide_input": false,
  "kernelspec": {
   "display_name": "Python 3 (ipykernel)",
   "language": "python",
   "name": "python3"
  },
  "language_info": {
   "codemirror_mode": {
    "name": "ipython",
    "version": 3
   },
   "file_extension": ".py",
   "mimetype": "text/x-python",
   "name": "python",
   "nbconvert_exporter": "python",
   "pygments_lexer": "ipython3",
   "version": "3.8.11"
  },
  "toc": {
   "base_numbering": 1,
   "nav_menu": {},
   "number_sections": true,
   "sideBar": true,
   "skip_h1_title": false,
   "title_cell": "Table of Contents",
   "title_sidebar": "Contents",
   "toc_cell": false,
   "toc_position": {},
   "toc_section_display": true,
   "toc_window_display": false
  },
  "varInspector": {
   "cols": {
    "lenName": 16,
    "lenType": 16,
    "lenVar": 40
   },
   "kernels_config": {
    "python": {
     "delete_cmd_postfix": "",
     "delete_cmd_prefix": "del ",
     "library": "var_list.py",
     "varRefreshCmd": "print(var_dic_list())"
    },
    "r": {
     "delete_cmd_postfix": ") ",
     "delete_cmd_prefix": "rm(",
     "library": "var_list.r",
     "varRefreshCmd": "cat(var_dic_list()) "
    }
   },
   "types_to_exclude": [
    "module",
    "function",
    "builtin_function_or_method",
    "instance",
    "_Feature"
   ],
   "window_display": false
  }
 },
 "nbformat": 4,
 "nbformat_minor": 5
}
